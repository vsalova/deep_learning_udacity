{
 "cells": [
  {
   "cell_type": "markdown",
   "metadata": {},
   "source": [
    "# Creating a Sentiment Analysis Web App\n",
    "## Using PyTorch and SageMaker\n",
    "\n",
    "_Deep Learning Nanodegree Program | Deployment_\n",
    "\n",
    "---\n",
    "\n",
    "Now that we have a basic understanding of how SageMaker works we will try to use it to construct a complete project from end to end. Our goal will be to have a simple web page which a user can use to enter a movie review. The web page will then send the review off to our deployed model which will predict the sentiment of the entered review.\n",
    "\n",
    "## Instructions\n",
    "\n",
    "Some template code has already been provided for you, and you will need to implement additional functionality to successfully complete this notebook. You will not need to modify the included code beyond what is requested. Sections that begin with '**TODO**' in the header indicate that you need to complete or implement some portion within them. Instructions will be provided for each section and the specifics of the implementation are marked in the code block with a `# TODO: ...` comment. Please be sure to read the instructions carefully!\n",
    "\n",
    "In addition to implementing code, there will be questions for you to answer which relate to the task and your implementation. Each section where you will answer a question is preceded by a '**Question:**' header. Carefully read each question and provide your answer below the '**Answer:**' header by editing the Markdown cell.\n",
    "\n",
    "> **Note**: Code and Markdown cells can be executed using the **Shift+Enter** keyboard shortcut. In addition, a cell can be edited by typically clicking it (double-click for Markdown cells) or by pressing **Enter** while it is highlighted.\n",
    "\n",
    "## General Outline\n",
    "\n",
    "Recall the general outline for SageMaker projects using a notebook instance.\n",
    "\n",
    "1. Download or otherwise retrieve the data.\n",
    "2. Process / Prepare the data.\n",
    "3. Upload the processed data to S3.\n",
    "4. Train a chosen model.\n",
    "5. Test the trained model (typically using a batch transform job).\n",
    "6. Deploy the trained model.\n",
    "7. Use the deployed model.\n",
    "\n",
    "For this project, you will be following the steps in the general outline with some modifications. \n",
    "\n",
    "First, you will not be testing the model in its own step. You will still be testing the model, however, you will do it by deploying your model and then using the deployed model by sending the test data to it. One of the reasons for doing this is so that you can make sure that your deployed model is working correctly before moving forward.\n",
    "\n",
    "In addition, you will deploy and use your trained model a second time. In the second iteration you will customize the way that your trained model is deployed by including some of your own code. In addition, your newly deployed model will be used in the sentiment analysis web app."
   ]
  },
  {
   "cell_type": "code",
   "execution_count": 1,
   "metadata": {},
   "outputs": [
    {
     "name": "stdout",
     "output_type": "stream",
     "text": [
      "Collecting sagemaker==1.72.0\n",
      "  Downloading sagemaker-1.72.0.tar.gz (297 kB)\n",
      "\u001b[K     |████████████████████████████████| 297 kB 6.1 MB/s eta 0:00:01\n",
      "\u001b[?25hRequirement already satisfied: boto3>=1.14.12 in /home/ec2-user/anaconda3/envs/pytorch_p36/lib/python3.6/site-packages (from sagemaker==1.72.0) (1.16.37)\n",
      "Requirement already satisfied: numpy>=1.9.0 in /home/ec2-user/anaconda3/envs/pytorch_p36/lib/python3.6/site-packages (from sagemaker==1.72.0) (1.19.4)\n",
      "Requirement already satisfied: protobuf>=3.1 in /home/ec2-user/anaconda3/envs/pytorch_p36/lib/python3.6/site-packages (from sagemaker==1.72.0) (3.14.0)\n",
      "Requirement already satisfied: scipy>=0.19.0 in /home/ec2-user/anaconda3/envs/pytorch_p36/lib/python3.6/site-packages (from sagemaker==1.72.0) (1.4.1)\n",
      "Requirement already satisfied: protobuf3-to-dict>=0.1.5 in /home/ec2-user/anaconda3/envs/pytorch_p36/lib/python3.6/site-packages (from sagemaker==1.72.0) (0.1.5)\n",
      "Requirement already satisfied: importlib-metadata>=1.4.0 in /home/ec2-user/anaconda3/envs/pytorch_p36/lib/python3.6/site-packages (from sagemaker==1.72.0) (3.1.0)\n",
      "Requirement already satisfied: packaging>=20.0 in /home/ec2-user/anaconda3/envs/pytorch_p36/lib/python3.6/site-packages (from sagemaker==1.72.0) (20.7)\n",
      "Requirement already satisfied: s3transfer<0.4.0,>=0.3.0 in /home/ec2-user/anaconda3/envs/pytorch_p36/lib/python3.6/site-packages (from boto3>=1.14.12->sagemaker==1.72.0) (0.3.3)\n",
      "Requirement already satisfied: jmespath<1.0.0,>=0.7.1 in /home/ec2-user/anaconda3/envs/pytorch_p36/lib/python3.6/site-packages (from boto3>=1.14.12->sagemaker==1.72.0) (0.10.0)\n",
      "Requirement already satisfied: botocore<1.20.0,>=1.19.37 in /home/ec2-user/anaconda3/envs/pytorch_p36/lib/python3.6/site-packages (from boto3>=1.14.12->sagemaker==1.72.0) (1.19.37)\n",
      "Requirement already satisfied: python-dateutil<3.0.0,>=2.1 in /home/ec2-user/anaconda3/envs/pytorch_p36/lib/python3.6/site-packages (from botocore<1.20.0,>=1.19.37->boto3>=1.14.12->sagemaker==1.72.0) (2.8.1)\n",
      "Requirement already satisfied: jmespath<1.0.0,>=0.7.1 in /home/ec2-user/anaconda3/envs/pytorch_p36/lib/python3.6/site-packages (from boto3>=1.14.12->sagemaker==1.72.0) (0.10.0)\n",
      "Requirement already satisfied: urllib3<1.27,>=1.25.4 in /home/ec2-user/anaconda3/envs/pytorch_p36/lib/python3.6/site-packages (from botocore<1.20.0,>=1.19.37->boto3>=1.14.12->sagemaker==1.72.0) (1.25.11)\n",
      "Requirement already satisfied: zipp>=0.5 in /home/ec2-user/anaconda3/envs/pytorch_p36/lib/python3.6/site-packages (from importlib-metadata>=1.4.0->sagemaker==1.72.0) (3.4.0)\n",
      "Requirement already satisfied: pyparsing>=2.0.2 in /home/ec2-user/anaconda3/envs/pytorch_p36/lib/python3.6/site-packages (from packaging>=20.0->sagemaker==1.72.0) (2.4.7)\n",
      "Requirement already satisfied: six>=1.9 in /home/ec2-user/anaconda3/envs/pytorch_p36/lib/python3.6/site-packages (from protobuf>=3.1->sagemaker==1.72.0) (1.15.0)\n",
      "Requirement already satisfied: protobuf>=3.1 in /home/ec2-user/anaconda3/envs/pytorch_p36/lib/python3.6/site-packages (from sagemaker==1.72.0) (3.14.0)\n",
      "Requirement already satisfied: six>=1.9 in /home/ec2-user/anaconda3/envs/pytorch_p36/lib/python3.6/site-packages (from protobuf>=3.1->sagemaker==1.72.0) (1.15.0)\n",
      "Requirement already satisfied: six>=1.9 in /home/ec2-user/anaconda3/envs/pytorch_p36/lib/python3.6/site-packages (from protobuf>=3.1->sagemaker==1.72.0) (1.15.0)\n",
      "Requirement already satisfied: botocore<1.20.0,>=1.19.37 in /home/ec2-user/anaconda3/envs/pytorch_p36/lib/python3.6/site-packages (from boto3>=1.14.12->sagemaker==1.72.0) (1.19.37)\n",
      "Requirement already satisfied: numpy>=1.9.0 in /home/ec2-user/anaconda3/envs/pytorch_p36/lib/python3.6/site-packages (from sagemaker==1.72.0) (1.19.4)\n",
      "Collecting smdebug-rulesconfig==0.1.4\n",
      "  Downloading smdebug_rulesconfig-0.1.4-py2.py3-none-any.whl (10 kB)\n",
      "Building wheels for collected packages: sagemaker\n",
      "  Building wheel for sagemaker (setup.py) ... \u001b[?25ldone\n",
      "\u001b[?25h  Created wheel for sagemaker: filename=sagemaker-1.72.0-py2.py3-none-any.whl size=386358 sha256=2902c6a3208bf76acc7d3d51afe052e572647fd32c9e823f1912e1024d7ea3aa\n",
      "  Stored in directory: /home/ec2-user/.cache/pip/wheels/c3/58/70/85faf4437568bfaa4c419937569ba1fe54d44c5db42406bbd7\n",
      "Successfully built sagemaker\n",
      "Installing collected packages: smdebug-rulesconfig, sagemaker\n",
      "  Attempting uninstall: smdebug-rulesconfig\n",
      "    Found existing installation: smdebug-rulesconfig 1.0.0\n",
      "    Uninstalling smdebug-rulesconfig-1.0.0:\n",
      "      Successfully uninstalled smdebug-rulesconfig-1.0.0\n",
      "  Attempting uninstall: sagemaker\n",
      "    Found existing installation: sagemaker 2.19.0\n",
      "    Uninstalling sagemaker-2.19.0:\n",
      "      Successfully uninstalled sagemaker-2.19.0\n",
      "Successfully installed sagemaker-1.72.0 smdebug-rulesconfig-0.1.4\n",
      "\u001b[33mWARNING: You are using pip version 20.3; however, version 21.0 is available.\n",
      "You should consider upgrading via the '/home/ec2-user/anaconda3/envs/pytorch_p36/bin/python -m pip install --upgrade pip' command.\u001b[0m\n"
     ]
    }
   ],
   "source": [
    "# Make sure that we use SageMaker 1.x\n",
    "!pip install sagemaker==1.72.0"
   ]
  },
  {
   "cell_type": "markdown",
   "metadata": {},
   "source": [
    "## Step 1: Downloading the data\n",
    "\n",
    "As in the XGBoost in SageMaker notebook, we will be using the [IMDb dataset](http://ai.stanford.edu/~amaas/data/sentiment/)\n",
    "\n",
    "> Maas, Andrew L., et al. [Learning Word Vectors for Sentiment Analysis](http://ai.stanford.edu/~amaas/data/sentiment/). In _Proceedings of the 49th Annual Meeting of the Association for Computational Linguistics: Human Language Technologies_. Association for Computational Linguistics, 2011."
   ]
  },
  {
   "cell_type": "code",
   "execution_count": 2,
   "metadata": {},
   "outputs": [
    {
     "name": "stdout",
     "output_type": "stream",
     "text": [
      "mkdir: cannot create directory ‘../data’: File exists\n",
      "--2021-01-26 04:16:01--  http://ai.stanford.edu/~amaas/data/sentiment/aclImdb_v1.tar.gz\n",
      "Resolving ai.stanford.edu (ai.stanford.edu)... 171.64.68.10\n",
      "Connecting to ai.stanford.edu (ai.stanford.edu)|171.64.68.10|:80... connected.\n",
      "HTTP request sent, awaiting response... 200 OK\n",
      "Length: 84125825 (80M) [application/x-gzip]\n",
      "Saving to: ‘../data/aclImdb_v1.tar.gz’\n",
      "\n",
      "../data/aclImdb_v1. 100%[===================>]  80.23M  25.0MB/s    in 3.8s    \n",
      "\n",
      "2021-01-26 04:16:05 (21.1 MB/s) - ‘../data/aclImdb_v1.tar.gz’ saved [84125825/84125825]\n",
      "\n"
     ]
    }
   ],
   "source": [
    "%mkdir ../data\n",
    "!wget -O ../data/aclImdb_v1.tar.gz http://ai.stanford.edu/~amaas/data/sentiment/aclImdb_v1.tar.gz\n",
    "!tar -zxf ../data/aclImdb_v1.tar.gz -C ../data"
   ]
  },
  {
   "cell_type": "markdown",
   "metadata": {},
   "source": [
    "## Step 2: Preparing and Processing the data\n",
    "\n",
    "Also, as in the XGBoost notebook, we will be doing some initial data processing. The first few steps are the same as in the XGBoost example. To begin with, we will read in each of the reviews and combine them into a single input structure. Then, we will split the dataset into a training set and a testing set."
   ]
  },
  {
   "cell_type": "code",
   "execution_count": 3,
   "metadata": {},
   "outputs": [],
   "source": [
    "import os\n",
    "import glob\n",
    "\n",
    "def read_imdb_data(data_dir='../data/aclImdb'):\n",
    "    data = {}\n",
    "    labels = {}\n",
    "    \n",
    "    for data_type in ['train', 'test']:\n",
    "        data[data_type] = {}\n",
    "        labels[data_type] = {}\n",
    "        \n",
    "        for sentiment in ['pos', 'neg']:\n",
    "            data[data_type][sentiment] = []\n",
    "            labels[data_type][sentiment] = []\n",
    "            \n",
    "            path = os.path.join(data_dir, data_type, sentiment, '*.txt')\n",
    "            files = glob.glob(path)\n",
    "            \n",
    "            for f in files:\n",
    "                with open(f) as review:\n",
    "                    data[data_type][sentiment].append(review.read())\n",
    "                    # Here we represent a positive review by '1' and a negative review by '0'\n",
    "                    labels[data_type][sentiment].append(1 if sentiment == 'pos' else 0)\n",
    "                    \n",
    "            assert len(data[data_type][sentiment]) == len(labels[data_type][sentiment]), \\\n",
    "                    \"{}/{} data size does not match labels size\".format(data_type, sentiment)\n",
    "                \n",
    "    return data, labels"
   ]
  },
  {
   "cell_type": "code",
   "execution_count": 4,
   "metadata": {},
   "outputs": [
    {
     "name": "stdout",
     "output_type": "stream",
     "text": [
      "IMDB reviews: train = 12500 pos / 12500 neg, test = 12500 pos / 12500 neg\n"
     ]
    }
   ],
   "source": [
    "data, labels = read_imdb_data()\n",
    "print(\"IMDB reviews: train = {} pos / {} neg, test = {} pos / {} neg\".format(\n",
    "            len(data['train']['pos']), len(data['train']['neg']),\n",
    "            len(data['test']['pos']), len(data['test']['neg'])))"
   ]
  },
  {
   "cell_type": "markdown",
   "metadata": {},
   "source": [
    "Now that we've read the raw training and testing data from the downloaded dataset, we will combine the positive and negative reviews and shuffle the resulting records."
   ]
  },
  {
   "cell_type": "code",
   "execution_count": 5,
   "metadata": {},
   "outputs": [],
   "source": [
    "from sklearn.utils import shuffle\n",
    "\n",
    "def prepare_imdb_data(data, labels):\n",
    "    \"\"\"Prepare training and test sets from IMDb movie reviews.\"\"\"\n",
    "    \n",
    "    #Combine positive and negative reviews and labels\n",
    "    data_train = data['train']['pos'] + data['train']['neg']\n",
    "    data_test = data['test']['pos'] + data['test']['neg']\n",
    "    labels_train = labels['train']['pos'] + labels['train']['neg']\n",
    "    labels_test = labels['test']['pos'] + labels['test']['neg']\n",
    "    \n",
    "    #Shuffle reviews and corresponding labels within training and test sets\n",
    "    data_train, labels_train = shuffle(data_train, labels_train)\n",
    "    data_test, labels_test = shuffle(data_test, labels_test)\n",
    "    \n",
    "    # Return a unified training data, test data, training labels, test labets\n",
    "    return data_train, data_test, labels_train, labels_test"
   ]
  },
  {
   "cell_type": "code",
   "execution_count": 6,
   "metadata": {},
   "outputs": [
    {
     "name": "stdout",
     "output_type": "stream",
     "text": [
      "IMDb reviews (combined): train = 25000, test = 25000\n"
     ]
    }
   ],
   "source": [
    "train_X, test_X, train_y, test_y = prepare_imdb_data(data, labels)\n",
    "print(\"IMDb reviews (combined): train = {}, test = {}\".format(len(train_X), len(test_X)))"
   ]
  },
  {
   "cell_type": "markdown",
   "metadata": {},
   "source": [
    "Now that we have our training and testing sets unified and prepared, we should do a quick check and see an example of the data our model will be trained on. This is generally a good idea as it allows you to see how each of the further processing steps affects the reviews and it also ensures that the data has been loaded correctly."
   ]
  },
  {
   "cell_type": "code",
   "execution_count": 7,
   "metadata": {},
   "outputs": [
    {
     "name": "stdout",
     "output_type": "stream",
     "text": [
      "Really, it's nothing much. I only recommend watching it if; 1.) You're a big fan of any of the main stars. 2.) If you really want to check out the first time Lucille Ball was seen with red hair.<br /><br />4 out of 10 stars\n",
      "0\n"
     ]
    }
   ],
   "source": [
    "print(train_X[100])\n",
    "print(train_y[100])"
   ]
  },
  {
   "cell_type": "markdown",
   "metadata": {},
   "source": [
    "The first step in processing the reviews is to make sure that any html tags that appear should be removed. In addition we wish to tokenize our input, that way words such as *entertained* and *entertaining* are considered the same with regard to sentiment analysis."
   ]
  },
  {
   "cell_type": "code",
   "execution_count": 8,
   "metadata": {},
   "outputs": [],
   "source": [
    "import nltk\n",
    "from nltk.corpus import stopwords\n",
    "from nltk.stem.porter import *\n",
    "\n",
    "import re\n",
    "from bs4 import BeautifulSoup\n",
    "\n",
    "def review_to_words(review):\n",
    "    nltk.download(\"stopwords\", quiet=True)\n",
    "    stemmer = PorterStemmer()\n",
    "    \n",
    "    text = BeautifulSoup(review, \"html.parser\").get_text() # Remove HTML tags\n",
    "    text = re.sub(r\"[^a-zA-Z0-9]\", \" \", text.lower()) # Convert to lower case\n",
    "    words = text.split() # Split string into words\n",
    "    words = [w for w in words if w not in stopwords.words(\"english\")] # Remove stopwords\n",
    "    words = [PorterStemmer().stem(w) for w in words] # stem\n",
    "    \n",
    "    return words"
   ]
  },
  {
   "cell_type": "markdown",
   "metadata": {},
   "source": [
    "The `review_to_words` method defined above uses `BeautifulSoup` to remove any html tags that appear and uses the `nltk` package to tokenize the reviews. As a check to ensure we know how everything is working, try applying `review_to_words` to one of the reviews in the training set."
   ]
  },
  {
   "cell_type": "code",
   "execution_count": 9,
   "metadata": {},
   "outputs": [
    {
     "name": "stdout",
     "output_type": "stream",
     "text": [
      "['realli', 'noth', 'much', 'recommend', 'watch', '1', 'big', 'fan', 'main', 'star', '2', 'realli', 'want', 'check', 'first', 'time', 'lucil', 'ball', 'seen', 'red', 'hair', '4', '10', 'star']\n"
     ]
    }
   ],
   "source": [
    "# TODO: Apply review_to_words to a review (train_X[100] or any other review)\n",
    "print(review_to_words(train_X[100]))"
   ]
  },
  {
   "cell_type": "markdown",
   "metadata": {},
   "source": [
    "**Question:** Above we mentioned that `review_to_words` method removes html formatting and allows us to tokenize the words found in a review, for example, converting *entertained* and *entertaining* into *entertain* so that they are treated as though they are the same word. What else, if anything, does this method do to the input?"
   ]
  },
  {
   "cell_type": "markdown",
   "metadata": {},
   "source": [
    "**Answer:** This method also takes out any formatting and punctuation. It also takes out the most common words that do not carry sentiment, such as \"a\", \"the\", \"and\", etc. The point of this method is only to extract the words that will help the model to understand setiment of the review, but also it combines the same words with the same roots so that there are no redunduncies. "
   ]
  },
  {
   "cell_type": "markdown",
   "metadata": {},
   "source": [
    "The method below applies the `review_to_words` method to each of the reviews in the training and testing datasets. In addition it caches the results. This is because performing this processing step can take a long time. This way if you are unable to complete the notebook in the current session, you can come back without needing to process the data a second time."
   ]
  },
  {
   "cell_type": "code",
   "execution_count": 10,
   "metadata": {},
   "outputs": [],
   "source": [
    "import pickle\n",
    "\n",
    "cache_dir = os.path.join(\"../cache\", \"sentiment_analysis\")  # where to store cache files\n",
    "os.makedirs(cache_dir, exist_ok=True)  # ensure cache directory exists\n",
    "\n",
    "def preprocess_data(data_train, data_test, labels_train, labels_test,\n",
    "                    cache_dir=cache_dir, cache_file=\"preprocessed_data.pkl\"):\n",
    "    \"\"\"Convert each review to words; read from cache if available.\"\"\"\n",
    "\n",
    "    # If cache_file is not None, try to read from it first\n",
    "    cache_data = None\n",
    "    if cache_file is not None:\n",
    "        try:\n",
    "            with open(os.path.join(cache_dir, cache_file), \"rb\") as f:\n",
    "                cache_data = pickle.load(f)\n",
    "            print(\"Read preprocessed data from cache file:\", cache_file)\n",
    "        except:\n",
    "            pass  # unable to read from cache, but that's okay\n",
    "    \n",
    "    # If cache is missing, then do the heavy lifting\n",
    "    if cache_data is None:\n",
    "        # Preprocess training and test data to obtain words for each review\n",
    "        #words_train = list(map(review_to_words, data_train))\n",
    "        #words_test = list(map(review_to_words, data_test))\n",
    "        words_train = [review_to_words(review) for review in data_train]\n",
    "        words_test = [review_to_words(review) for review in data_test]\n",
    "        \n",
    "        # Write to cache file for future runs\n",
    "        if cache_file is not None:\n",
    "            cache_data = dict(words_train=words_train, words_test=words_test,\n",
    "                              labels_train=labels_train, labels_test=labels_test)\n",
    "            with open(os.path.join(cache_dir, cache_file), \"wb\") as f:\n",
    "                pickle.dump(cache_data, f)\n",
    "            print(\"Wrote preprocessed data to cache file:\", cache_file)\n",
    "    else:\n",
    "        # Unpack data loaded from cache file\n",
    "        words_train, words_test, labels_train, labels_test = (cache_data['words_train'],\n",
    "                cache_data['words_test'], cache_data['labels_train'], cache_data['labels_test'])\n",
    "    \n",
    "    return words_train, words_test, labels_train, labels_test"
   ]
  },
  {
   "cell_type": "code",
   "execution_count": 11,
   "metadata": {},
   "outputs": [
    {
     "name": "stdout",
     "output_type": "stream",
     "text": [
      "Read preprocessed data from cache file: preprocessed_data.pkl\n"
     ]
    }
   ],
   "source": [
    "# Preprocess data\n",
    "train_X, test_X, train_y, test_y = preprocess_data(train_X, test_X, train_y, test_y)"
   ]
  },
  {
   "cell_type": "markdown",
   "metadata": {},
   "source": [
    "## Transform the data\n",
    "\n",
    "In the XGBoost notebook we transformed the data from its word representation to a bag-of-words feature representation. For the model we are going to construct in this notebook we will construct a feature representation which is very similar. To start, we will represent each word as an integer. Of course, some of the words that appear in the reviews occur very infrequently and so likely don't contain much information for the purposes of sentiment analysis. The way we will deal with this problem is that we will fix the size of our working vocabulary and we will only include the words that appear most frequently. We will then combine all of the infrequent words into a single category and, in our case, we will label it as `1`.\n",
    "\n",
    "Since we will be using a recurrent neural network, it will be convenient if the length of each review is the same. To do this, we will fix a size for our reviews and then pad short reviews with the category 'no word' (which we will label `0`) and truncate long reviews."
   ]
  },
  {
   "cell_type": "markdown",
   "metadata": {},
   "source": [
    "### (TODO) Create a word dictionary\n",
    "\n",
    "To begin with, we need to construct a way to map words that appear in the reviews to integers. Here we fix the size of our vocabulary (including the 'no word' and 'infrequent' categories) to be `5000` but you may wish to change this to see how it affects the model.\n",
    "\n",
    "> **TODO:** Complete the implementation for the `build_dict()` method below. Note that even though the vocab_size is set to `5000`, we only want to construct a mapping for the most frequently appearing `4998` words. This is because we want to reserve the special labels `0` for 'no word' and `1` for 'infrequent word'."
   ]
  },
  {
   "cell_type": "code",
   "execution_count": 12,
   "metadata": {},
   "outputs": [],
   "source": [
    "import numpy as np\n",
    "from collections import Counter\n",
    "\n",
    "def build_dict(data, vocab_size = 5000):\n",
    "    \"\"\"Construct and return a dictionary mapping each of the most frequently appearing words to a unique integer.\"\"\"\n",
    "    \n",
    "    # TODO: Determine how often each word appears in `data`. Note that `data` is a list of sentences and that a\n",
    "    #       sentence is a list of words.\n",
    "    counts = Counter([word for review in data for word in review])\n",
    "    \n",
    "    word_count = {} # A dict storing the words that appear in the reviews along with how often they occur\n",
    "    \n",
    "    # TODO: Sort the words found in `data` so that sorted_words[0] is the most frequently appearing word and\n",
    "    #       sorted_words[-1] is the least frequently appearing word.\n",
    "    sorted_words = sorted(counts, key=counts.get, reverse=True)\n",
    "    \n",
    "    word_dict = {} # This is what we are building, a dictionary that translates words into integers\n",
    "    for idx, word in enumerate(sorted_words[:vocab_size - 2]): # The -2 is so that we save room for the 'no word'\n",
    "        word_dict[word] = idx + 2                              # 'infrequent' labels\n",
    "        \n",
    "    return word_dict"
   ]
  },
  {
   "cell_type": "code",
   "execution_count": 13,
   "metadata": {},
   "outputs": [],
   "source": [
    "word_dict = build_dict(train_X)"
   ]
  },
  {
   "cell_type": "markdown",
   "metadata": {},
   "source": [
    "**Question:** What are the five most frequently appearing (tokenized) words in the training set? Does it makes sense that these words appear frequently in the training set?"
   ]
  },
  {
   "cell_type": "markdown",
   "metadata": {},
   "source": [
    "**Answer:** The most frequent tokenized words are: 'movi', 'film', 'one', 'like', and 'time'. It makes sense that these words are the most common because most of the reviews probably start with \"I liked/not liked this movie/film\", but they do not carry any sentiment. "
   ]
  },
  {
   "cell_type": "code",
   "execution_count": 14,
   "metadata": {},
   "outputs": [
    {
     "name": "stdout",
     "output_type": "stream",
     "text": [
      "{'movi': 2, 'film': 3, 'one': 4, 'like': 5, 'time': 6, 'good': 7, 'make': 8, 'charact': 9, 'get': 10, 'see': 11, 'watch': 12, 'stori': 13, 'even': 14, 'would': 15, 'realli': 16, 'well': 17, 'scene': 18, 'look': 19, 'show': 20, 'much': 21, 'end': 22, 'peopl': 23, 'bad': 24, 'go': 25, 'great': 26, 'also': 27, 'first': 28, 'love': 29, 'think': 30, 'way': 31, 'act': 32, 'play': 33, 'made': 34, 'thing': 35, 'could': 36, 'know': 37, 'say': 38, 'seem': 39, 'work': 40, 'plot': 41, 'two': 42, 'actor': 43, 'year': 44, 'come': 45, 'mani': 46, 'seen': 47, 'take': 48, 'life': 49, 'want': 50, 'never': 51, 'littl': 52, 'best': 53, 'tri': 54, 'man': 55, 'ever': 56, 'give': 57, 'better': 58, 'still': 59, 'perform': 60, 'find': 61, 'feel': 62, 'part': 63, 'back': 64, 'use': 65, 'someth': 66, 'director': 67, 'actual': 68, 'interest': 69, 'lot': 70, 'real': 71, 'old': 72, 'cast': 73, 'though': 74, 'live': 75, 'star': 76, 'enjoy': 77, 'guy': 78, 'anoth': 79, 'new': 80, 'role': 81, 'noth': 82, '10': 83, 'funni': 84, 'music': 85, 'point': 86, 'start': 87, 'set': 88, 'girl': 89, 'origin': 90, 'day': 91, 'world': 92, 'everi': 93, 'believ': 94, 'turn': 95, 'quit': 96, 'direct': 97, 'us': 98, 'thought': 99, 'fact': 100, 'minut': 101, 'horror': 102, 'kill': 103, 'action': 104, 'comedi': 105, 'pretti': 106, 'young': 107, 'wonder': 108, 'happen': 109, 'around': 110, 'got': 111, 'effect': 112, 'right': 113, 'long': 114, 'howev': 115, 'big': 116, 'line': 117, 'famili': 118, 'enough': 119, 'seri': 120, 'may': 121, 'need': 122, 'fan': 123, 'bit': 124, 'script': 125, 'beauti': 126, 'person': 127, 'becom': 128, 'without': 129, 'must': 130, 'alway': 131, 'friend': 132, 'tell': 133, 'reason': 134, 'saw': 135, 'last': 136, 'final': 137, 'kid': 138, 'almost': 139, 'put': 140, 'least': 141, 'sure': 142, 'done': 143, 'whole': 144, 'place': 145, 'complet': 146, 'kind': 147, 'differ': 148, 'expect': 149, 'shot': 150, 'far': 151, 'mean': 152, 'anyth': 153, 'book': 154, 'laugh': 155, 'might': 156, 'name': 157, 'sinc': 158, 'begin': 159, '2': 160, 'probabl': 161, 'woman': 162, 'help': 163, 'entertain': 164, 'let': 165, 'screen': 166, 'call': 167, 'tv': 168, 'moment': 169, 'away': 170, 'read': 171, 'yet': 172, 'rather': 173, 'worst': 174, 'run': 175, 'fun': 176, 'lead': 177, 'hard': 178, 'audienc': 179, 'idea': 180, 'anyon': 181, 'episod': 182, 'american': 183, 'found': 184, 'appear': 185, 'bore': 186, 'especi': 187, 'although': 188, 'hope': 189, 'keep': 190, 'cours': 191, 'anim': 192, 'job': 193, 'goe': 194, 'move': 195, 'sens': 196, 'dvd': 197, 'version': 198, 'war': 199, 'money': 200, 'someon': 201, 'mind': 202, 'mayb': 203, 'problem': 204, 'true': 205, 'hous': 206, 'everyth': 207, 'nice': 208, 'second': 209, 'rate': 210, 'three': 211, 'night': 212, 'follow': 213, 'face': 214, 'recommend': 215, 'product': 216, 'main': 217, 'worth': 218, 'leav': 219, 'human': 220, 'special': 221, 'excel': 222, 'togeth': 223, 'wast': 224, 'everyon': 225, 'sound': 226, 'john': 227, 'hand': 228, '1': 229, 'father': 230, 'later': 231, 'eye': 232, 'said': 233, 'view': 234, 'instead': 235, 'review': 236, 'boy': 237, 'high': 238, 'hour': 239, 'miss': 240, 'talk': 241, 'classic': 242, 'wife': 243, 'understand': 244, 'left': 245, 'care': 246, 'black': 247, 'death': 248, 'open': 249, 'murder': 250, 'write': 251, 'half': 252, 'head': 253, 'rememb': 254, 'chang': 255, 'viewer': 256, 'fight': 257, 'gener': 258, 'surpris': 259, 'short': 260, 'includ': 261, 'die': 262, 'fall': 263, 'less': 264, 'els': 265, 'entir': 266, 'piec': 267, 'involv': 268, 'pictur': 269, 'simpli': 270, 'home': 271, 'top': 272, 'power': 273, 'total': 274, 'usual': 275, 'budget': 276, 'attempt': 277, 'suppos': 278, 'releas': 279, 'hollywood': 280, 'terribl': 281, 'song': 282, 'men': 283, 'possibl': 284, 'featur': 285, 'portray': 286, 'disappoint': 287, 'poor': 288, '3': 289, 'coupl': 290, 'camera': 291, 'stupid': 292, 'dead': 293, 'wrong': 294, 'produc': 295, 'low': 296, 'video': 297, 'either': 298, 'aw': 299, 'definit': 300, 'except': 301, 'rest': 302, 'given': 303, 'absolut': 304, 'women': 305, 'lack': 306, 'word': 307, 'writer': 308, 'titl': 309, 'talent': 310, 'decid': 311, 'full': 312, 'perfect': 313, 'along': 314, 'style': 315, 'close': 316, 'truli': 317, 'school': 318, 'emot': 319, 'save': 320, 'age': 321, 'sex': 322, 'next': 323, 'bring': 324, 'mr': 325, 'case': 326, 'killer': 327, 'heart': 328, 'comment': 329, 'sort': 330, 'creat': 331, 'perhap': 332, 'came': 333, 'brother': 334, 'sever': 335, 'joke': 336, 'art': 337, 'dialogu': 338, 'game': 339, 'small': 340, 'base': 341, 'flick': 342, 'written': 343, 'sequenc': 344, 'meet': 345, 'earli': 346, 'often': 347, 'other': 348, 'mother': 349, 'develop': 350, 'humor': 351, 'actress': 352, 'consid': 353, 'dark': 354, 'guess': 355, 'amaz': 356, 'unfortun': 357, 'lost': 358, 'light': 359, 'exampl': 360, 'cinema': 361, 'drama': 362, 'ye': 363, 'white': 364, 'experi': 365, 'imagin': 366, 'mention': 367, 'stop': 368, 'natur': 369, 'forc': 370, 'manag': 371, 'felt': 372, 'cut': 373, 'present': 374, 'children': 375, 'fail': 376, 'son': 377, 'qualiti': 378, 'support': 379, 'car': 380, 'ask': 381, 'hit': 382, 'side': 383, 'voic': 384, 'extrem': 385, 'impress': 386, 'wors': 387, 'evil': 388, 'went': 389, 'stand': 390, 'certainli': 391, 'basic': 392, 'oh': 393, 'overal': 394, 'favorit': 395, 'horribl': 396, 'mysteri': 397, 'number': 398, 'type': 399, 'danc': 400, 'wait': 401, 'hero': 402, 'alreadi': 403, '5': 404, 'learn': 405, 'matter': 406, '4': 407, 'michael': 408, 'genr': 409, 'fine': 410, 'despit': 411, 'throughout': 412, 'walk': 413, 'success': 414, 'histori': 415, 'question': 416, 'zombi': 417, 'town': 418, 'realiz': 419, 'relationship': 420, 'past': 421, 'child': 422, 'daughter': 423, 'late': 424, 'b': 425, 'wish': 426, 'hate': 427, 'credit': 428, 'event': 429, 'theme': 430, 'touch': 431, 'citi': 432, 'today': 433, 'sometim': 434, 'behind': 435, 'god': 436, 'twist': 437, 'sit': 438, 'stay': 439, 'annoy': 440, 'deal': 441, 'abl': 442, 'rent': 443, 'pleas': 444, 'edit': 445, 'blood': 446, 'deserv': 447, 'comic': 448, 'anyway': 449, 'appar': 450, 'soon': 451, 'gave': 452, 'etc': 453, 'level': 454, 'slow': 455, 'chanc': 456, 'score': 457, 'bodi': 458, 'brilliant': 459, 'incred': 460, 'figur': 461, 'situat': 462, 'major': 463, 'self': 464, 'stuff': 465, 'decent': 466, 'element': 467, 'dream': 468, 'return': 469, 'obvious': 470, 'order': 471, 'continu': 472, 'pace': 473, 'ridicul': 474, 'happi': 475, 'add': 476, 'highli': 477, 'group': 478, 'thank': 479, 'ladi': 480, 'novel': 481, 'speak': 482, 'pain': 483, 'career': 484, 'shoot': 485, 'strang': 486, 'heard': 487, 'sad': 488, 'polic': 489, 'husband': 490, 'import': 491, 'break': 492, 'took': 493, 'strong': 494, 'cannot': 495, 'predict': 496, 'robert': 497, 'violenc': 498, 'hilari': 499, 'recent': 500, 'countri': 501, 'known': 502, 'particularli': 503, 'pick': 504, 'documentari': 505, 'season': 506, 'critic': 507, 'jame': 508, 'compar': 509, 'obviou': 510, 'alon': 511, 'told': 512, 'state': 513, 'rock': 514, 'visual': 515, 'offer': 516, 'theater': 517, 'exist': 518, 'opinion': 519, 'gore': 520, 'hold': 521, 'crap': 522, 'result': 523, 'hear': 524, 'realiti': 525, 'room': 526, 'clich': 527, 'effort': 528, 'thriller': 529, 'caus': 530, 'serious': 531, 'sequel': 532, 'explain': 533, 'king': 534, 'local': 535, 'ago': 536, 'hell': 537, 'none': 538, 'note': 539, 'allow': 540, 'sister': 541, 'david': 542, 'simpl': 543, 'femal': 544, 'deliv': 545, 'ok': 546, 'convinc': 547, 'class': 548, 'check': 549, 'suspens': 550, 'win': 551, 'oscar': 552, 'buy': 553, 'huge': 554, 'valu': 555, 'sexual': 556, 'cool': 557, 'scari': 558, 'excit': 559, 'similar': 560, 'apart': 561, 'provid': 562, 'exactli': 563, 'avoid': 564, 'shown': 565, 'seriou': 566, 'english': 567, 'whose': 568, 'taken': 569, 'cinematographi': 570, 'shock': 571, 'polit': 572, 'spoiler': 573, 'offic': 574, 'across': 575, 'middl': 576, 'pass': 577, 'street': 578, 'messag': 579, 'somewhat': 580, 'charm': 581, 'silli': 582, 'modern': 583, 'confus': 584, 'filmmak': 585, 'form': 586, 'tale': 587, 'singl': 588, 'jack': 589, 'mostli': 590, 'attent': 591, 'william': 592, 'carri': 593, 'sing': 594, 'five': 595, 'subject': 596, 'richard': 597, 'prove': 598, 'stage': 599, 'team': 600, 'cop': 601, 'unlik': 602, 'georg': 603, 'monster': 604, 'televis': 605, 'earth': 606, 'cover': 607, 'villain': 608, 'pay': 609, 'marri': 610, 'toward': 611, 'build': 612, 'pull': 613, 'parent': 614, 'due': 615, 'respect': 616, 'fill': 617, 'four': 618, 'dialog': 619, 'remind': 620, 'futur': 621, 'weak': 622, 'typic': 623, '7': 624, 'cheap': 625, 'intellig': 626, 'british': 627, 'atmospher': 628, 'clearli': 629, '80': 630, 'non': 631, 'paul': 632, 'dog': 633, 'fast': 634, '8': 635, 'knew': 636, 'artist': 637, 'crime': 638, 'easili': 639, 'escap': 640, 'doubt': 641, 'adult': 642, 'detail': 643, 'date': 644, 'romant': 645, 'member': 646, 'fire': 647, 'gun': 648, 'drive': 649, 'straight': 650, 'fit': 651, 'beyond': 652, 'attack': 653, 'imag': 654, 'upon': 655, 'posit': 656, 'whether': 657, 'fantast': 658, 'peter': 659, 'captur': 660, 'aspect': 661, 'appreci': 662, 'ten': 663, 'plan': 664, 'discov': 665, 'remain': 666, 'near': 667, 'period': 668, 'air': 669, 'realist': 670, 'mark': 671, 'red': 672, 'dull': 673, 'adapt': 674, 'within': 675, 'spend': 676, 'lose': 677, 'color': 678, 'materi': 679, 'chase': 680, 'mari': 681, 'storylin': 682, 'forget': 683, 'bunch': 684, 'clear': 685, 'lee': 686, 'victim': 687, 'nearli': 688, 'box': 689, 'york': 690, 'match': 691, 'inspir': 692, 'mess': 693, 'finish': 694, 'standard': 695, 'easi': 696, 'truth': 697, 'suffer': 698, 'busi': 699, 'space': 700, 'bill': 701, 'dramat': 702, 'western': 703, 'e': 704, 'list': 705, 'battl': 706, 'notic': 707, 'de': 708, 'french': 709, 'ad': 710, '9': 711, 'tom': 712, 'larg': 713, 'among': 714, 'eventu': 715, 'train': 716, 'accept': 717, 'agre': 718, 'spirit': 719, 'soundtrack': 720, 'third': 721, 'teenag': 722, 'adventur': 723, 'soldier': 724, 'sorri': 725, 'suggest': 726, 'drug': 727, 'famou': 728, 'babi': 729, 'normal': 730, 'cri': 731, 'troubl': 732, 'ultim': 733, 'contain': 734, 'certain': 735, 'cultur': 736, 'romanc': 737, 'rare': 738, 'lame': 739, 'somehow': 740, 'mix': 741, 'disney': 742, 'gone': 743, 'cartoon': 744, 'student': 745, 'fear': 746, 'reveal': 747, 'suck': 748, 'kept': 749, 'attract': 750, 'appeal': 751, 'premis': 752, 'secret': 753, 'greatest': 754, 'design': 755, 'shame': 756, 'throw': 757, 'scare': 758, 'copi': 759, 'wit': 760, 'america': 761, 'admit': 762, 'brought': 763, 'relat': 764, 'particular': 765, 'screenplay': 766, 'whatev': 767, 'pure': 768, '70': 769, 'averag': 770, 'harri': 771, 'master': 772, 'describ': 773, 'treat': 774, 'male': 775, '20': 776, 'issu': 777, 'fantasi': 778, 'warn': 779, 'inde': 780, 'forward': 781, 'background': 782, 'free': 783, 'project': 784, 'memor': 785, 'japanes': 786, 'poorli': 787, 'award': 788, 'locat': 789, 'amus': 790, 'potenti': 791, 'struggl': 792, 'magic': 793, 'weird': 794, 'societi': 795, 'okay': 796, 'imdb': 797, 'accent': 798, 'doctor': 799, 'water': 800, 'hot': 801, 'express': 802, '30': 803, 'alien': 804, 'dr': 805, 'odd': 806, 'crazi': 807, 'choic': 808, 'studio': 809, 'fiction': 810, 'becam': 811, 'control': 812, 'masterpiec': 813, 'difficult': 814, 'fli': 815, 'joe': 816, 'scream': 817, 'costum': 818, 'lover': 819, 'uniqu': 820, 'refer': 821, 'remak': 822, 'girlfriend': 823, 'vampir': 824, 'prison': 825, 'execut': 826, 'wear': 827, 'jump': 828, 'unless': 829, 'wood': 830, 'creepi': 831, 'cheesi': 832, 'superb': 833, 'otherwis': 834, 'parti': 835, 'roll': 836, 'ghost': 837, 'public': 838, 'mad': 839, 'depict': 840, 'earlier': 841, 'week': 842, 'badli': 843, 'moral': 844, 'jane': 845, 'fi': 846, 'dumb': 847, 'grow': 848, 'flaw': 849, 'sci': 850, 'deep': 851, 'cat': 852, 'maker': 853, 'older': 854, 'connect': 855, 'footag': 856, 'plenti': 857, 'bother': 858, 'outsid': 859, 'stick': 860, 'gay': 861, 'catch': 862, 'plu': 863, 'co': 864, 'popular': 865, 'equal': 866, 'social': 867, 'disturb': 868, 'quickli': 869, 'perfectli': 870, 'dress': 871, '90': 872, 'era': 873, 'mistak': 874, 'lie': 875, 'ride': 876, 'previou': 877, 'combin': 878, 'concept': 879, 'band': 880, 'surviv': 881, 'rich': 882, 'answer': 883, 'front': 884, 'sweet': 885, 'christma': 886, 'insid': 887, 'concern': 888, 'eat': 889, 'bare': 890, 'listen': 891, 'ben': 892, 'beat': 893, 'c': 894, 'serv': 895, 'term': 896, 'meant': 897, 'la': 898, 'german': 899, 'hardli': 900, 'stereotyp': 901, 'innoc': 902, 'law': 903, 'desper': 904, 'promis': 905, 'memori': 906, 'cute': 907, 'intent': 908, 'steal': 909, 'inform': 910, 'variou': 911, 'brain': 912, 'post': 913, 'tone': 914, 'island': 915, 'amount': 916, 'track': 917, 'compani': 918, 'nuditi': 919, 'store': 920, 'claim': 921, '50': 922, 'hair': 923, 'flat': 924, 'univers': 925, 'land': 926, 'fairli': 927, 'danger': 928, 'scott': 929, 'kick': 930, 'player': 931, 'plain': 932, 'crew': 933, 'step': 934, 'toni': 935, 'share': 936, 'tast': 937, 'centuri': 938, 'engag': 939, 'achiev': 940, 'cold': 941, 'travel': 942, 'rip': 943, 'record': 944, 'suit': 945, 'manner': 946, 'sadli': 947, 'spot': 948, 'wrote': 949, 'tension': 950, 'intens': 951, 'fascin': 952, 'familiar': 953, 'remark': 954, 'burn': 955, 'depth': 956, 'histor': 957, 'destroy': 958, 'sleep': 959, 'purpos': 960, 'languag': 961, 'ruin': 962, 'ignor': 963, 'delight': 964, 'unbeliev': 965, 'italian': 966, 'abil': 967, 'collect': 968, 'soul': 969, 'clever': 970, 'detect': 971, 'violent': 972, 'rape': 973, 'reach': 974, 'door': 975, 'scienc': 976, 'trash': 977, 'liter': 978, 'reveng': 979, 'commun': 980, 'caught': 981, 'creatur': 982, 'trip': 983, 'approach': 984, 'fashion': 985, 'intrigu': 986, 'skill': 987, 'paint': 988, 'introduc': 989, 'channel': 990, 'complex': 991, 'camp': 992, 'christian': 993, 'extra': 994, 'hole': 995, 'limit': 996, 'immedi': 997, 'mental': 998, 'ann': 999, '6': 1000, 'mere': 1001, 'million': 1002, 'comput': 1003, 'slightli': 1004, 'slasher': 1005, 'conclus': 1006, 'imposs': 1007, 'suddenli': 1008, 'teen': 1009, 'neither': 1010, 'crimin': 1011, 'spent': 1012, 'nation': 1013, 'physic': 1014, 'respons': 1015, 'planet': 1016, 'receiv': 1017, 'fake': 1018, 'sick': 1019, 'blue': 1020, 'bizarr': 1021, 'embarrass': 1022, 'indian': 1023, '15': 1024, 'ring': 1025, 'pop': 1026, 'drop': 1027, 'drag': 1028, 'haunt': 1029, 'pointless': 1030, 'suspect': 1031, 'search': 1032, 'edg': 1033, 'handl': 1034, 'common': 1035, 'biggest': 1036, 'arriv': 1037, 'faith': 1038, 'hurt': 1039, 'technic': 1040, 'angel': 1041, 'dad': 1042, 'genuin': 1043, 'solid': 1044, 'awesom': 1045, 'f': 1046, 'van': 1047, 'focu': 1048, 'former': 1049, 'colleg': 1050, 'count': 1051, 'heavi': 1052, 'tear': 1053, 'rais': 1054, 'wall': 1055, 'laughabl': 1056, 'younger': 1057, 'visit': 1058, 'excus': 1059, 'fair': 1060, 'sign': 1061, 'cult': 1062, 'motion': 1063, 'key': 1064, 'tough': 1065, 'super': 1066, 'desir': 1067, 'stun': 1068, 'addit': 1069, 'cloth': 1070, 'exploit': 1071, 'smith': 1072, 'tortur': 1073, 'race': 1074, 'davi': 1075, 'author': 1076, 'cross': 1077, 'jim': 1078, 'compel': 1079, 'minor': 1080, 'consist': 1081, 'focus': 1082, 'pathet': 1083, 'commit': 1084, 'chemistri': 1085, 'park': 1086, 'frank': 1087, 'obsess': 1088, 'tradit': 1089, 'grade': 1090, 'asid': 1091, '60': 1092, 'brutal': 1093, 'steve': 1094, 'somewher': 1095, 'rule': 1096, 'u': 1097, 'depress': 1098, 'explor': 1099, 'opportun': 1100, 'grant': 1101, 'honest': 1102, 'besid': 1103, 'anti': 1104, 'dub': 1105, 'intend': 1106, 'trailer': 1107, 'bar': 1108, 'longer': 1109, 'scientist': 1110, 'regard': 1111, 'west': 1112, 'judg': 1113, 'decad': 1114, 'silent': 1115, 'creativ': 1116, 'armi': 1117, 'wild': 1118, 'g': 1119, 'stewart': 1120, 'south': 1121, 'draw': 1122, 'road': 1123, 'govern': 1124, 'boss': 1125, 'ex': 1126, 'practic': 1127, 'surprisingli': 1128, 'gang': 1129, 'club': 1130, 'motiv': 1131, 'festiv': 1132, 'redeem': 1133, 'page': 1134, 'london': 1135, 'green': 1136, 'aliv': 1137, 'machin': 1138, 'idiot': 1139, 'display': 1140, 'militari': 1141, 'thrill': 1142, 'repeat': 1143, '100': 1144, 'folk': 1145, 'nobodi': 1146, 'yeah': 1147, '40': 1148, 'garbag': 1149, 'journey': 1150, 'smile': 1151, 'ground': 1152, 'tire': 1153, 'bought': 1154, 'mood': 1155, 'cost': 1156, 'sam': 1157, 'stone': 1158, 'noir': 1159, 'mouth': 1160, 'agent': 1161, 'terrif': 1162, 'requir': 1163, 'utterli': 1164, 'honestli': 1165, 'sexi': 1166, 'area': 1167, 'geniu': 1168, 'report': 1169, 'humour': 1170, 'enter': 1171, 'investig': 1172, 'glad': 1173, 'serial': 1174, 'passion': 1175, 'narr': 1176, 'occasion': 1177, 'climax': 1178, 'marriag': 1179, 'industri': 1180, 'studi': 1181, 'nowher': 1182, 'ship': 1183, 'center': 1184, 'charli': 1185, 'demon': 1186, 'bear': 1187, 'loos': 1188, 'hors': 1189, 'wow': 1190, 'hang': 1191, 'graphic': 1192, 'giant': 1193, 'admir': 1194, 'send': 1195, 'damn': 1196, 'loud': 1197, 'rel': 1198, 'subtl': 1199, 'profession': 1200, 'nake': 1201, 'blow': 1202, 'bottom': 1203, 'insult': 1204, 'batman': 1205, 'kelli': 1206, 'doubl': 1207, 'boyfriend': 1208, 'r': 1209, 'initi': 1210, 'frame': 1211, 'opera': 1212, 'gem': 1213, 'cinemat': 1214, 'affect': 1215, 'drawn': 1216, 'church': 1217, 'challeng': 1218, 'nightmar': 1219, 'fulli': 1220, 'j': 1221, 'seek': 1222, 'evid': 1223, 'l': 1224, 'essenti': 1225, 'arm': 1226, 'conflict': 1227, 'henri': 1228, 'wind': 1229, 'grace': 1230, 'christoph': 1231, 'witch': 1232, 'narrat': 1233, 'assum': 1234, 'push': 1235, 'hunt': 1236, 'chri': 1237, 'wise': 1238, 'nomin': 1239, 'month': 1240, 'repres': 1241, 'avail': 1242, 'affair': 1243, 'hide': 1244, 'sceneri': 1245, 'bond': 1246, 'smart': 1247, 'thu': 1248, 'justic': 1249, 'outstand': 1250, 'interview': 1251, 'flashback': 1252, 'satisfi': 1253, 'constantli': 1254, 'presenc': 1255, 'bed': 1256, 'central': 1257, 'sell': 1258, 'content': 1259, 'iron': 1260, 'everybodi': 1261, 'gag': 1262, 'hotel': 1263, 'slowli': 1264, 'hire': 1265, 'system': 1266, 'adam': 1267, 'individu': 1268, 'charl': 1269, 'hey': 1270, 'thrown': 1271, 'allen': 1272, 'mediocr': 1273, 'jone': 1274, 'lesson': 1275, 'ray': 1276, 'billi': 1277, 'cameo': 1278, 'photographi': 1279, 'fellow': 1280, 'pari': 1281, 'strike': 1282, 'brief': 1283, 'rise': 1284, 'independ': 1285, 'absurd': 1286, 'neg': 1287, 'phone': 1288, 'impact': 1289, 'born': 1290, 'model': 1291, 'ill': 1292, 'angl': 1293, 'spoil': 1294, 'fresh': 1295, 'likabl': 1296, 'abus': 1297, 'discuss': 1298, 'hill': 1299, 'ahead': 1300, 'sight': 1301, 'sent': 1302, 'photograph': 1303, 'shine': 1304, 'occur': 1305, 'blame': 1306, 'logic': 1307, 'mainli': 1308, 'bruce': 1309, 'commerci': 1310, 'forev': 1311, 'skip': 1312, 'teacher': 1313, 'held': 1314, 'surround': 1315, 'segment': 1316, 'zero': 1317, 'blond': 1318, 'resembl': 1319, 'summer': 1320, 'trap': 1321, 'satir': 1322, 'fool': 1323, 'ball': 1324, 'six': 1325, 'queen': 1326, 'twice': 1327, 'tragedi': 1328, 'sub': 1329, 'reaction': 1330, 'pack': 1331, 'bomb': 1332, 'will': 1333, 'hospit': 1334, 'protagonist': 1335, 'mile': 1336, 'sport': 1337, 'mom': 1338, 'trust': 1339, 'drink': 1340, 'vote': 1341, 'jerri': 1342, 'encount': 1343, 'plane': 1344, 'current': 1345, 'station': 1346, 'al': 1347, 'program': 1348, 'celebr': 1349, 'choos': 1350, 'martin': 1351, 'join': 1352, 'favourit': 1353, 'tragic': 1354, 'lord': 1355, 'field': 1356, 'round': 1357, 'robot': 1358, 'jean': 1359, 'vision': 1360, 'tie': 1361, 'arthur': 1362, 'fortun': 1363, 'random': 1364, 'roger': 1365, 'dread': 1366, 'intern': 1367, 'psycholog': 1368, 'improv': 1369, 'nonsens': 1370, 'epic': 1371, 'prefer': 1372, 'legend': 1373, 'formula': 1374, 'highlight': 1375, 'pleasur': 1376, 'dollar': 1377, 'tape': 1378, '11': 1379, 'porn': 1380, 'gorgeou': 1381, 'fox': 1382, 'wide': 1383, 'thin': 1384, 'object': 1385, 'buddi': 1386, 'ugli': 1387, 'influenc': 1388, 'prepar': 1389, 'nasti': 1390, 'ii': 1391, 'supposedli': 1392, 'warm': 1393, 'progress': 1394, 'reflect': 1395, 'youth': 1396, 'worthi': 1397, 'length': 1398, 'unusu': 1399, 'latter': 1400, 'crash': 1401, 'shop': 1402, 'childhood': 1403, 'seven': 1404, 'superior': 1405, 'remot': 1406, 'theatr': 1407, 'paid': 1408, 'disgust': 1409, 'pilot': 1410, 'funniest': 1411, 'convers': 1412, 'fell': 1413, 'trick': 1414, 'castl': 1415, 'disast': 1416, 'establish': 1417, 'rob': 1418, 'gangster': 1419, 'heaven': 1420, 'mine': 1421, 'ident': 1422, 'suicid': 1423, 'disappear': 1424, 'mask': 1425, 'heroin': 1426, 'forgotten': 1427, 'tend': 1428, 'singer': 1429, 'decis': 1430, 'brian': 1431, 'partner': 1432, 'alan': 1433, 'desert': 1434, 'recogn': 1435, 'thoroughli': 1436, 'ms': 1437, 'sky': 1438, 'stuck': 1439, 'p': 1440, 'accur': 1441, 'replac': 1442, 'market': 1443, 'seemingli': 1444, 'danni': 1445, 'andi': 1446, 'clue': 1447, 'commentari': 1448, 'uncl': 1449, 'eddi': 1450, 'devil': 1451, 'jackson': 1452, 'that': 1453, 'therefor': 1454, 'refus': 1455, 'pair': 1456, 'fate': 1457, 'unit': 1458, 'ed': 1459, 'fault': 1460, 'accid': 1461, 'river': 1462, 'afraid': 1463, 'tune': 1464, 'clean': 1465, 'stephen': 1466, 'russian': 1467, 'hidden': 1468, 'readi': 1469, 'irrit': 1470, 'convey': 1471, 'test': 1472, 'captain': 1473, 'quick': 1474, 'instanc': 1475, 'european': 1476, 'frustrat': 1477, 'insan': 1478, 'daniel': 1479, 'chines': 1480, 'food': 1481, '1950': 1482, 'rescu': 1483, 'wed': 1484, 'angri': 1485, 'lock': 1486, 'dirti': 1487, 'joy': 1488, 'steven': 1489, 'price': 1490, 'cage': 1491, 'bland': 1492, 'anymor': 1493, 'rang': 1494, 'wooden': 1495, 'jason': 1496, 'rush': 1497, 'n': 1498, 'news': 1499, 'worri': 1500, 'led': 1501, 'martial': 1502, '12': 1503, 'twenti': 1504, 'board': 1505, 'transform': 1506, 'cgi': 1507, 'hunter': 1508, 'symbol': 1509, 'invent': 1510, 'onto': 1511, 'johnni': 1512, 'x': 1513, 'sentiment': 1514, 'piti': 1515, 'explan': 1516, 'process': 1517, 'attitud': 1518, 'owner': 1519, 'awar': 1520, 'aim': 1521, 'target': 1522, 'necessari': 1523, 'energi': 1524, 'floor': 1525, 'favor': 1526, 'religi': 1527, 'opposit': 1528, 'chick': 1529, 'insight': 1530, 'blind': 1531, 'window': 1532, 'movement': 1533, 'deepli': 1534, 'possess': 1535, 'mountain': 1536, 'comparison': 1537, 'research': 1538, 'grand': 1539, 'comed': 1540, 'rain': 1541, 'whatsoev': 1542, 'bank': 1543, 'shadow': 1544, 'mid': 1545, 'began': 1546, 'princ': 1547, 'parodi': 1548, 'credibl': 1549, 'friendship': 1550, 'taylor': 1551, 'weapon': 1552, 'pre': 1553, 'flesh': 1554, 'teach': 1555, 'dougla': 1556, 'bloodi': 1557, 'terror': 1558, 'protect': 1559, 'hint': 1560, 'marvel': 1561, 'drunk': 1562, 'accord': 1563, 'leader': 1564, 'anybodi': 1565, 'superman': 1566, 'watchabl': 1567, 'load': 1568, 'freddi': 1569, 'brown': 1570, 'jeff': 1571, 'appropri': 1572, 'tim': 1573, 'seat': 1574, 'hitler': 1575, 'knock': 1576, 'villag': 1577, 'keaton': 1578, 'charg': 1579, 'unknown': 1580, 'empti': 1581, 'media': 1582, 'unnecessari': 1583, 'england': 1584, 'enemi': 1585, 'buck': 1586, 'dare': 1587, 'perspect': 1588, 'wave': 1589, 'strength': 1590, 'craft': 1591, 'utter': 1592, 'correct': 1593, 'ford': 1594, 'kiss': 1595, 'nativ': 1596, 'contrast': 1597, 'speed': 1598, 'distract': 1599, 'soap': 1600, 'anywher': 1601, 'magnific': 1602, 'nazi': 1603, 'knowledg': 1604, 'chill': 1605, 'fred': 1606, 'ice': 1607, 'breath': 1608, '1980': 1609, 'mission': 1610, 'jr': 1611, 'moon': 1612, 'joan': 1613, 'crowd': 1614, 'soft': 1615, 'frighten': 1616, '000': 1617, 'kate': 1618, 'nick': 1619, 'dick': 1620, 'dan': 1621, 'hundr': 1622, 'somebodi': 1623, 'simon': 1624, 'dozen': 1625, 'radio': 1626, 'shakespear': 1627, 'academi': 1628, 'loss': 1629, 'thousand': 1630, 'andrew': 1631, 'vehicl': 1632, 'root': 1633, 'quot': 1634, 'account': 1635, 'sum': 1636, 'behavior': 1637, '1970': 1638, 'convent': 1639, 'leg': 1640, 'regular': 1641, 'gold': 1642, 'worker': 1643, 'demand': 1644, 'compet': 1645, 'pretenti': 1646, 'lynch': 1647, 'stretch': 1648, 'japan': 1649, 'notabl': 1650, 'explos': 1651, 'candi': 1652, 'interpret': 1653, 'privat': 1654, 'constant': 1655, 'debut': 1656, 'tarzan': 1657, 'prais': 1658, 'spi': 1659, 'sea': 1660, 'translat': 1661, 'revolv': 1662, 'threaten': 1663, 'franc': 1664, 'sat': 1665, 'quiet': 1666, 'technolog': 1667, 'ass': 1668, 'failur': 1669, 'jesu': 1670, 'higher': 1671, 'punch': 1672, 'kevin': 1673, 'aid': 1674, 'toy': 1675, 'met': 1676, 'abandon': 1677, 'vh': 1678, 'interact': 1679, 'mike': 1680, 'confront': 1681, 'separ': 1682, 'command': 1683, 'bet': 1684, 'servic': 1685, 'belong': 1686, 'gotten': 1687, 'site': 1688, 'techniqu': 1689, 'recal': 1690, 'stunt': 1691, 'bug': 1692, 'cabl': 1693, 'foot': 1694, 'freak': 1695, 'fu': 1696, 'capabl': 1697, 'african': 1698, 'bright': 1699, 'jimmi': 1700, 'boat': 1701, 'clark': 1702, 'succeed': 1703, 'fat': 1704, 'stock': 1705, 'presid': 1706, 'structur': 1707, 'gene': 1708, 'spanish': 1709, 'kidnap': 1710, 'paper': 1711, 'factor': 1712, 'belief': 1713, 'whilst': 1714, 'educ': 1715, 'bob': 1716, 'realis': 1717, 'attend': 1718, 'tree': 1719, 'realism': 1720, 'complic': 1721, 'witti': 1722, 'finest': 1723, 'broken': 1724, 'santa': 1725, 'assist': 1726, 'v': 1727, 'smoke': 1728, 'depart': 1729, 'up': 1730, 'determin': 1731, 'observ': 1732, 'rubbish': 1733, 'routin': 1734, 'lewi': 1735, 'fame': 1736, 'hat': 1737, 'oper': 1738, 'domin': 1739, 'kinda': 1740, 'advanc': 1741, 'hook': 1742, 'safe': 1743, 'lone': 1744, 'foreign': 1745, 'morgan': 1746, 'rank': 1747, 'numer': 1748, 'rose': 1749, 'shallow': 1750, 'vs': 1751, 'civil': 1752, 'werewolf': 1753, 'shape': 1754, 'washington': 1755, 'morn': 1756, 'gari': 1757, 'winner': 1758, 'accomplish': 1759, 'ordinari': 1760, 'kong': 1761, 'peac': 1762, 'virtual': 1763, 'grab': 1764, 'whenev': 1765, 'offens': 1766, 'luck': 1767, 'h': 1768, 'welcom': 1769, 'patient': 1770, 'contriv': 1771, 'bigger': 1772, 'unfunni': 1773, 'complain': 1774, 'activ': 1775, 'dimension': 1776, 'pretend': 1777, 'trek': 1778, 'con': 1779, 'wake': 1780, 'code': 1781, 'eric': 1782, 'dri': 1783, 'flash': 1784, 'cain': 1785, 'lesbian': 1786, 'statu': 1787, 'albert': 1788, 'dancer': 1789, 'manipul': 1790, 'corrupt': 1791, 'guard': 1792, 'gain': 1793, 'sourc': 1794, 'signific': 1795, 'context': 1796, 'awkward': 1797, 'speech': 1798, 'psycho': 1799, '13': 1800, 'sean': 1801, 'corni': 1802, 'anthoni': 1803, 'clip': 1804, 'advic': 1805, 'priest': 1806, 'religion': 1807, 'theatric': 1808, 'reli': 1809, 'curiou': 1810, 'w': 1811, 'addict': 1812, 'flow': 1813, 'asian': 1814, 'skin': 1815, 'specif': 1816, 'howard': 1817, 'jennif': 1818, 'secur': 1819, 'core': 1820, 'promot': 1821, 'organ': 1822, 'luke': 1823, 'comfort': 1824, 'golden': 1825, 'lucki': 1826, 'cheat': 1827, 'cash': 1828, 'lower': 1829, 'dislik': 1830, 'associ': 1831, 'degre': 1832, 'frequent': 1833, 'balanc': 1834, 'spell': 1835, 'regret': 1836, 'wing': 1837, 'frankli': 1838, 'contribut': 1839, 'devic': 1840, 'sake': 1841, 'print': 1842, 'forgiv': 1843, 'lake': 1844, 'mass': 1845, 'betti': 1846, 'thoma': 1847, 'gordon': 1848, 'crack': 1849, 'unexpect': 1850, 'unfold': 1851, 'amateur': 1852, 'invit': 1853, 'categori': 1854, 'grown': 1855, 'depend': 1856, 'construct': 1857, 'grew': 1858, 'walter': 1859, 'condit': 1860, 'honor': 1861, 'matur': 1862, 'anna': 1863, 'intellectu': 1864, 'spectacular': 1865, 'mirror': 1866, 'veteran': 1867, 'sole': 1868, 'sudden': 1869, 'robin': 1870, 'meanwhil': 1871, 'overli': 1872, 'experienc': 1873, 'demonstr': 1874, 'freedom': 1875, 'card': 1876, 'grip': 1877, 'liner': 1878, 'gift': 1879, 'oliv': 1880, 'unabl': 1881, 'colour': 1882, 'circumst': 1883, 'section': 1884, 'brilliantli': 1885, 'drew': 1886, 'subtitl': 1887, 'crappi': 1888, 'sheriff': 1889, 'theori': 1890, 'sheer': 1891, 'matt': 1892, 'parker': 1893, 'laughter': 1894, 'pile': 1895, 'path': 1896, 'cook': 1897, 'altern': 1898, 'accident': 1899, 'treatment': 1900, 'hall': 1901, 'relief': 1902, 'lawyer': 1903, 'wander': 1904, 'defin': 1905, 'sinatra': 1906, 'captiv': 1907, 'hank': 1908, 'dragon': 1909, 'moor': 1910, 'gratuit': 1911, 'halloween': 1912, 'wound': 1913, 'barbara': 1914, 'wayn': 1915, 'kung': 1916, 'unintent': 1917, 'cowboy': 1918, 'jacki': 1919, 'k': 1920, 'broadway': 1921, 'surreal': 1922, 'spoof': 1923, 'winter': 1924, 'statement': 1925, 'canadian': 1926, 'fare': 1927, 'cheer': 1928, 'treasur': 1929, 'fish': 1930, 'compos': 1931, 'gonna': 1932, 'victor': 1933, 'woodi': 1934, 'emerg': 1935, 'sensit': 1936, 'unrealist': 1937, 'driven': 1938, 'sympathet': 1939, 'neighbor': 1940, 'ran': 1941, 'menac': 1942, 'expos': 1943, 'overlook': 1944, 'glass': 1945, 'authent': 1946, 'topic': 1947, 'gross': 1948, 'ancient': 1949, 'handsom': 1950, 'michel': 1951, 'chief': 1952, 'network': 1953, 'stranger': 1954, 'contemporari': 1955, 'russel': 1956, 'built': 1957, 'nevertheless': 1958, 'comedian': 1959, 'pleasant': 1960, 'cinderella': 1961, 'feet': 1962, 'consider': 1963, 'earn': 1964, 'blockbust': 1965, 'underr': 1966, 'miser': 1967, 'endless': 1968, 'gori': 1969, 'letter': 1970, 'solv': 1971, 'switch': 1972, 'brook': 1973, 'convict': 1974, 'edward': 1975, 'joseph': 1976, 'virgin': 1977, 'victoria': 1978, 'bullet': 1979, 'chosen': 1980, '0': 1981, 'cynic': 1982, 'scale': 1983, 'scenario': 1984, 'alex': 1985, 'curs': 1986, 'outrag': 1987, 'gut': 1988, 'sword': 1989, 'com': 1990, 'driver': 1991, 'juli': 1992, 'substanc': 1993, 'proper': 1994, 'wrap': 1995, 'screenwrit': 1996, 'uk': 1997, 'monkey': 1998, 'indic': 1999, 'par': 2000, 'court': 2001, 'remov': 2002, 'bird': 2003, 'nanci': 2004, 'rental': 2005, 'consequ': 2006, 'roy': 2007, 'naiv': 2008, 'advertis': 2009, 'loser': 2010, 'grave': 2011, 'inevit': 2012, 'bridg': 2013, 'brave': 2014, 'le': 2015, 'slap': 2016, 'germani': 2017, 'fatal': 2018, 'invis': 2019, 'footbal': 2020, 'anger': 2021, 'provok': 2022, 'ador': 2023, 'loui': 2024, 'alcohol': 2025, 'anderson': 2026, 'chan': 2027, 'willi': 2028, 'ryan': 2029, 'stumbl': 2030, 'professor': 2031, 'sharp': 2032, 'australian': 2033, '1930': 2034, 'patrick': 2035, 'bat': 2036, 'assassin': 2037, 'saturday': 2038, 'strongli': 2039, 'lousi': 2040, 'deni': 2041, 'liber': 2042, 'eight': 2043, 'amateurish': 2044, 'heck': 2045, 'refresh': 2046, 'trilog': 2047, 'ape': 2048, 'cell': 2049, 'sin': 2050, 'vagu': 2051, 'san': 2052, 'resid': 2053, 'justifi': 2054, 'defeat': 2055, 'mini': 2056, 'creator': 2057, 'indi': 2058, 'sympathi': 2059, 'terrifi': 2060, 'reput': 2061, 'task': 2062, 'prevent': 2063, 'tediou': 2064, 'tabl': 2065, 'endur': 2066, 'expert': 2067, 'trial': 2068, 'offend': 2069, 'employ': 2070, 'basebal': 2071, 'imit': 2072, 'rival': 2073, 'che': 2074, 'weekend': 2075, 'max': 2076, 'dig': 2077, 'pitch': 2078, 'fairi': 2079, 'beach': 2080, 'europ': 2081, 'complaint': 2082, 'purchas': 2083, 'format': 2084, 'risk': 2085, 'murphi': 2086, 'glimps': 2087, 'reminisc': 2088, 'harsh': 2089, 'titan': 2090, 'bite': 2091, 'tini': 2092, 'powel': 2093, 'nois': 2094, 'hype': 2095, 'strip': 2096, 'asleep': 2097, '14': 2098, 'till': 2099, 'fals': 2100, 'prime': 2101, 'north': 2102, 'destruct': 2103, 'revel': 2104, 'descript': 2105, 'texa': 2106, 'africa': 2107, 'spin': 2108, 'excess': 2109, 'sitcom': 2110, 'uninterest': 2111, 'inner': 2112, 'arrest': 2113, 'semi': 2114, 'surfac': 2115, 'argu': 2116, 'hitchcock': 2117, 'maintain': 2118, 'massiv': 2119, 'dinosaur': 2120, 'twin': 2121, 'controversi': 2122, 'makeup': 2123, 'melodrama': 2124, 'ludicr': 2125, 'ideal': 2126, 'expens': 2127, 'stare': 2128, 'insist': 2129, 'kim': 2130, 'reject': 2131, 'ga': 2132, 'host': 2133, 'atroci': 2134, 'forest': 2135, 'press': 2136, 'subplot': 2137, 'supernatur': 2138, 'nail': 2139, 'ala': 2140, 'erot': 2141, 'columbo': 2142, 'cant': 2143, 'notch': 2144, 'identifi': 2145, 'presum': 2146, 'dude': 2147, 'closer': 2148, 'forgett': 2149, 'guest': 2150, 'plagu': 2151, 'crude': 2152, 'character': 2153, 'method': 2154, 'ear': 2155, 'landscap': 2156, 'lion': 2157, 'border': 2158, 'princess': 2159, 'beast': 2160, 'foster': 2161, 'previous': 2162, 'urban': 2163, 'bound': 2164, 'damag': 2165, 'birth': 2166, 'aunt': 2167, 'storytel': 2168, 'jungl': 2169, 'accus': 2170, 'pacino': 2171, 'guid': 2172, 'propaganda': 2173, 'jess': 2174, 'doll': 2175, 'thirti': 2176, 'chose': 2177, 'nude': 2178, 'emma': 2179, 'whoever': 2180, 'mate': 2181, 'warrior': 2182, '25': 2183, 'mainstream': 2184, 'pet': 2185, 'upset': 2186, 'latest': 2187, 'friday': 2188, 'cooper': 2189, 'exact': 2190, 'merit': 2191, 'gritti': 2192, 'size': 2193, 'poster': 2194, 'deadli': 2195, 'rough': 2196, 'citizen': 2197, '1990': 2198, 'corps': 2199, 'blend': 2200, 'settl': 2201, 'wilson': 2202, 'buff': 2203, 'sun': 2204, 'ton': 2205, 'popul': 2206, 'contact': 2207, 'contest': 2208, 'warner': 2209, 'select': 2210, 'alic': 2211, 'widow': 2212, 'environ': 2213, 'metal': 2214, 'overcom': 2215, 'pitt': 2216, 'rat': 2217, 'mgm': 2218, 'bu': 2219, 'particip': 2220, 'ted': 2221, 'revolut': 2222, 'lift': 2223, 'guilti': 2224, 'link': 2225, 'moron': 2226, 'johnson': 2227, 'matrix': 2228, '1960': 2229, 'corner': 2230, 'exagger': 2231, 'accompani': 2232, 'prostitut': 2233, 'corpor': 2234, 'afternoon': 2235, 'sincer': 2236, 'instal': 2237, 'multipl': 2238, 'friendli': 2239, 'leagu': 2240, 'clair': 2241, 'doom': 2242, 'holm': 2243, 'hood': 2244, 'advis': 2245, 'hip': 2246, 'grim': 2247, 'sunday': 2248, 'blah': 2249, 'lugosi': 2250, 'irish': 2251, 'string': 2252, 'aka': 2253, 'junk': 2254, 'defend': 2255, 'examin': 2256, 'campi': 2257, 'shut': 2258, 'icon': 2259, 'confid': 2260, 'tight': 2261, 'pro': 2262, 'rachel': 2263, 'shake': 2264, 'varieti': 2265, 'directli': 2266, 'mexican': 2267, 'medic': 2268, 'denni': 2269, 'goal': 2270, 'sullivan': 2271, 'jaw': 2272, 'attach': 2273, 'sarah': 2274, 'courag': 2275, 'sentenc': 2276, 'vietnam': 2277, 'legendari': 2278, 'duke': 2279, 'prior': 2280, 'breast': 2281, 'terrorist': 2282, 'bourn': 2283, 'truck': 2284, 'dean': 2285, 'donald': 2286, 'split': 2287, 'entri': 2288, 'behav': 2289, 'hong': 2290, 'proceed': 2291, 'un': 2292, 'yell': 2293, 'nose': 2294, 'crush': 2295, 'confess': 2296, 'concentr': 2297, 'buri': 2298, 'borrow': 2299, 'stolen': 2300, 'swim': 2301, 'unconvinc': 2302, 'gather': 2303, 'forth': 2304, 'lifetim': 2305, 'jerk': 2306, 'everywher': 2307, 'spite': 2308, 'lip': 2309, 'julia': 2310, 'pan': 2311, 'california': 2312, 'turkey': 2313, 'deliveri': 2314, 'proud': 2315, 'downright': 2316, 'quest': 2317, 'reward': 2318, 'offici': 2319, 'freeman': 2320, 'hoffman': 2321, 'flight': 2322, 'china': 2323, 'jail': 2324, 'worthwhil': 2325, 'sir': 2326, 'fabul': 2327, 'encourag': 2328, 'lazi': 2329, 'sink': 2330, 'notori': 2331, 'jon': 2332, 'inept': 2333, 'fade': 2334, 'betray': 2335, 'shower': 2336, 'relev': 2337, 'teeth': 2338, 'susan': 2339, 'bell': 2340, 'bag': 2341, 'survivor': 2342, 'retard': 2343, 'lisa': 2344, 'imageri': 2345, 'storm': 2346, 'branagh': 2347, 'cousin': 2348, 'summari': 2349, 'quirki': 2350, 'bride': 2351, 'hugh': 2352, 'toler': 2353, 'finger': 2354, 'shark': 2355, 'facial': 2356, 'tremend': 2357, 'alright': 2358, 'trade': 2359, 'mexico': 2360, 'stab': 2361, 'hyster': 2362, 'von': 2363, 'blown': 2364, 'bitter': 2365, 'ha': 2366, 'pose': 2367, 'cruel': 2368, 'ned': 2369, 'bone': 2370, 'address': 2371, 'scheme': 2372, 'larri': 2373, 'christ': 2374, 'afterward': 2375, 'ron': 2376, 'feed': 2377, 'beg': 2378, 'tour': 2379, 'screw': 2380, 'pursu': 2381, 'snake': 2382, 'thumb': 2383, 'swear': 2384, 'traci': 2385, 'distinct': 2386, 'chair': 2387, 'photo': 2388, 'occas': 2389, 'obscur': 2390, 'raw': 2391, 'stomach': 2392, 'mechan': 2393, 'gruesom': 2394, 'necessarili': 2395, 'sidney': 2396, 'heavili': 2397, 'resist': 2398, 'hardi': 2399, 'southern': 2400, 'holiday': 2401, 'chain': 2402, 'cabin': 2403, 'argument': 2404, 'render': 2405, 'understood': 2406, 'india': 2407, 'racist': 2408, 'satan': 2409, 'indulg': 2410, 'philip': 2411, 'pregnant': 2412, 'stalk': 2413, 'obnoxi': 2414, 'midnight': 2415, 'forgot': 2416, 'belov': 2417, 'fourth': 2418, 'tongu': 2419, 'lay': 2420, 'integr': 2421, 'outfit': 2422, 'ticket': 2423, 'magazin': 2424, 'inhabit': 2425, '17': 2426, 'deeper': 2427, 'slapstick': 2428, 'garden': 2429, 'carol': 2430, 'restor': 2431, 'lincoln': 2432, 'devot': 2433, 'brad': 2434, 'shoe': 2435, 'incid': 2436, 'divorc': 2437, 'elizabeth': 2438, 'disbelief': 2439, 'anticip': 2440, 'lili': 2441, 'sandler': 2442, 'guarante': 2443, 'underground': 2444, 'benefit': 2445, 'maria': 2446, 'princip': 2447, 'amazingli': 2448, 'creation': 2449, 'capit': 2450, 'greater': 2451, 'cring': 2452, 'slave': 2453, 'explod': 2454, 'mildli': 2455, 'bbc': 2456, 'extraordinari': 2457, 'funnier': 2458, 'introduct': 2459, 'halfway': 2460, 'lesli': 2461, 'wreck': 2462, 'enhanc': 2463, 'advantag': 2464, 'tap': 2465, 'extent': 2466, 'overwhelm': 2467, 'transfer': 2468, 'text': 2469, 'punish': 2470, 'jessica': 2471, 'horrif': 2472, 'plant': 2473, 'deliber': 2474, 'lo': 2475, 'error': 2476, 'dynam': 2477, 'preview': 2478, 'lane': 2479, 'east': 2480, 'vacat': 2481, 'sophist': 2482, 'miscast': 2483, 'basi': 2484, 'ensu': 2485, '2000': 2486, 'vincent': 2487, 'homosexu': 2488, 'miller': 2489, 'appli': 2490, 'reed': 2491, 'spoken': 2492, 'uncomfort': 2493, 'extend': 2494, 'bollywood': 2495, 'elev': 2496, 'via': 2497, 'steel': 2498, 'measur': 2499, 'sleazi': 2500, 'mansion': 2501, 'breathtak': 2502, 'mous': 2503, 'beer': 2504, 'assign': 2505, 'conceiv': 2506, 'cathol': 2507, 'blair': 2508, 'stanley': 2509, 'fix': 2510, 'dentist': 2511, 'overact': 2512, 'alter': 2513, 'melt': 2514, 'savag': 2515, 'daili': 2516, 'goofi': 2517, 'hippi': 2518, 'inspector': 2519, 'succe': 2520, 'subsequ': 2521, 'oppos': 2522, 'everyday': 2523, 'nowaday': 2524, 'sacrific': 2525, 'burt': 2526, 'properli': 2527, 'carpent': 2528, 'neck': 2529, 'circl': 2530, 'massacr': 2531, 'laura': 2532, 'block': 2533, 'concert': 2534, 'mob': 2535, 'access': 2536, 'grey': 2537, 'fallen': 2538, 'pool': 2539, 'fay': 2540, 'christi': 2541, 'portrait': 2542, 'lesser': 2543, 'seagal': 2544, 'react': 2545, 'relax': 2546, 'competit': 2547, 'isol': 2548, 'jewish': 2549, 'jake': 2550, 'usa': 2551, 'chees': 2552, 'sinist': 2553, 'nonetheless': 2554, 'chop': 2555, 'immens': 2556, 'lyric': 2557, 'ironi': 2558, 'nine': 2559, 'spiritu': 2560, 'appal': 2561, 'stink': 2562, 'creep': 2563, '2006': 2564, 'suitabl': 2565, 'rage': 2566, 'luci': 2567, 'spring': 2568, 'adopt': 2569, 'user': 2570, 'sold': 2571, 'needless': 2572, 'reduc': 2573, 'retir': 2574, 'shirt': 2575, 'navi': 2576, 'showcas': 2577, 'nut': 2578, 'franchis': 2579, 'per': 2580, 'bulli': 2581, 'zone': 2582, 'bath': 2583, 'nurs': 2584, 'asham': 2585, 'digit': 2586, 'uninspir': 2587, 'jay': 2588, 'stanwyck': 2589, 'laid': 2590, 'broadcast': 2591, '2001': 2592, 'illustr': 2593, '1940': 2594, 'amongst': 2595, 'oddli': 2596, 'upper': 2597, 'sutherland': 2598, 'throat': 2599, 'stylish': 2600, 'fulfil': 2601, 'baker': 2602, 'aspir': 2603, 'disguis': 2604, 'brando': 2605, 'pound': 2606, 'em': 2607, 'wwii': 2608, '18': 2609, 'neighborhood': 2610, 'nobl': 2611, 'impli': 2612, 'endear': 2613, 'pride': 2614, 'thief': 2615, 'wanna': 2616, 'shift': 2617, 'dinner': 2618, 'prop': 2619, 'albeit': 2620, 'tens': 2621, 'cinematograph': 2622, 'coher': 2623, 'shoulder': 2624, 'bo': 2625, '16': 2626, 'diseas': 2627, 'distribut': 2628, 'dawn': 2629, 'bett': 2630, 'rochest': 2631, 'poignant': 2632, 'snow': 2633, 'knife': 2634, 'matthau': 2635, 'rebel': 2636, 'shout': 2637, 'wash': 2638, 'function': 2639, 'surf': 2640, 'forti': 2641, 'silenc': 2642, 'contract': 2643, 'cancel': 2644, 'reunion': 2645, 'horrend': 2646, 'chuck': 2647, 'henc': 2648, 'duti': 2649, 'heat': 2650, 'eeri': 2651, 'cannib': 2652, 'internet': 2653, 'derek': 2654, 'proof': 2655, 'height': 2656, 'silver': 2657, 'elvira': 2658, 'widmark': 2659, 'instinct': 2660, 'mindless': 2661, 'musician': 2662, 'glori': 2663, 'mill': 2664, 'neat': 2665, 'greatli': 2666, 'spielberg': 2667, 'torn': 2668, 'premier': 2669, 'pie': 2670, 'etern': 2671, 'alik': 2672, 'repetit': 2673, 'elvi': 2674, 'incoher': 2675, 'absorb': 2676, 'innov': 2677, 'itali': 2678, 'diamond': 2679, 'homag': 2680, 'nelson': 2681, 'wealthi': 2682, 'lovabl': 2683, 'announc': 2684, 'britain': 2685, 'bang': 2686, 'crisi': 2687, 'horrifi': 2688, 'infam': 2689, 'trite': 2690, 'racism': 2691, 'blank': 2692, 'precis': 2693, 'fbi': 2694, 'burton': 2695, 'redempt': 2696, 'parallel': 2697, 'helen': 2698, 'wilder': 2699, 'ensembl': 2700, 'chaplin': 2701, 'dedic': 2702, 'hammer': 2703, 'pat': 2704, 'resolut': 2705, 'flop': 2706, 'happili': 2707, 'streisand': 2708, 'plastic': 2709, 'oil': 2710, 'broke': 2711, 'factori': 2712, 'conclud': 2713, 'st': 2714, 'disagre': 2715, 'triumph': 2716, 'cube': 2717, 'mar': 2718, 'carter': 2719, 'chuckl': 2720, 'fighter': 2721, 'rocket': 2722, 'climb': 2723, 'bush': 2724, 'march': 2725, 'weight': 2726, 'row': 2727, 'own': 2728, 'vega': 2729, 'mst3k': 2730, 'kurt': 2731, 'boot': 2732, 'unforgett': 2733, 'dump': 2734, 'meaning': 2735, 'sensibl': 2736, 'spare': 2737, 'luca': 2738, 'thug': 2739, 'enorm': 2740, 'lust': 2741, 'wherea': 2742, 'dane': 2743, 'engin': 2744, 'stress': 2745, 'butt': 2746, 'dear': 2747, 'brand': 2748, 'adequ': 2749, 'fifti': 2750, 'arnold': 2751, 'bobbi': 2752, 'caricatur': 2753, 'rap': 2754, 'threat': 2755, 'karloff': 2756, 'difficulti': 2757, 'ego': 2758, 'swing': 2759, 'secretari': 2760, 'journalist': 2761, 'barri': 2762, 'flynn': 2763, 'polish': 2764, 'ralph': 2765, 'fest': 2766, 'hamlet': 2767, 'elabor': 2768, 'homeless': 2769, 'arrog': 2770, 'conspiraci': 2771, 'tool': 2772, 'arrang': 2773, 'spike': 2774, 'resort': 2775, 'puppet': 2776, 'grate': 2777, 'induc': 2778, 'float': 2779, 'simpson': 2780, 'unbear': 2781, 'fanci': 2782, 'pig': 2783, 'boll': 2784, 'choreograph': 2785, 'guilt': 2786, 'exercis': 2787, 'basement': 2788, 'cruis': 2789, 'phillip': 2790, 'muppet': 2791, 'tribut': 2792, 'tower': 2793, 'ham': 2794, 'ward': 2795, '24': 2796, 'editor': 2797, 'layer': 2798, 'document': 2799, 'item': 2800, 'file': 2801, 'babe': 2802, 'toilet': 2803, 'slip': 2804, 'fianc': 2805, 'korean': 2806, 'stan': 2807, 'scarecrow': 2808, 'puzzl': 2809, 'medium': 2810, 'assur': 2811, 'portion': 2812, 'transit': 2813, 'doc': 2814, 'orient': 2815, 'glover': 2816, 'minim': 2817, 'librari': 2818, 'catherin': 2819, 'superfici': 2820, 'philosoph': 2821, 'slaughter': 2822, 'territori': 2823, 'inexplic': 2824, 'spark': 2825, 'persona': 2826, 'larger': 2827, 'denzel': 2828, 'ban': 2829, 'dorothi': 2830, 'shi': 2831, 'financi': 2832, 'wolf': 2833, 'walken': 2834, 'curti': 2835, 'owe': 2836, 'jet': 2837, 'sneak': 2838, 'boredom': 2839, 'jeremi': 2840, 'pg': 2841, 'hudson': 2842, 'backdrop': 2843, 'cusack': 2844, 'eleph': 2845, 'multi': 2846, 'profound': 2847, 'whale': 2848, 'metaphor': 2849, 'ambigu': 2850, 'stiff': 2851, 'implaus': 2852, 'hack': 2853, 'birthday': 2854, 'notion': 2855, '2005': 2856, 'elsewher': 2857, 'union': 2858, 'rave': 2859, 'ultra': 2860, 'viru': 2861, 'gadget': 2862, 'eastwood': 2863, 'poison': 2864, 'lloyd': 2865, 'urg': 2866, 'afford': 2867, 'pad': 2868, 'slight': 2869, 'hawk': 2870, 'reader': 2871, 'disc': 2872, 'canada': 2873, 'squar': 2874, '1st': 2875, 'deriv': 2876, 'newspap': 2877, 'bibl': 2878, 'distanc': 2879, 'eva': 2880, 'superhero': 2881, 'button': 2882, 'restaur': 2883, 'health': 2884, 'charisma': 2885, 'essenc': 2886, 'montag': 2887, 'sadist': 2888, 'skit': 2889, 'cure': 2890, 'heston': 2891, 'spread': 2892, 'drown': 2893, 'huh': 2894, 'gradual': 2895, 'estat': 2896, 'invest': 2897, 'maniac': 2898, 'godfath': 2899, 'lab': 2900, 'fetch': 2901, 'peak': 2902, 'dealt': 2903, 'scoobi': 2904, 'muslim': 2905, 'companion': 2906, 'gothic': 2907, 'ritter': 2908, 'cup': 2909, 'kane': 2910, 'servant': 2911, 'subtleti': 2912, 'tea': 2913, 'miik': 2914, 'alli': 2915, 'countless': 2916, 'electr': 2917, 'briefli': 2918, 'elect': 2919, 'iii': 2920, 'charismat': 2921, 'heroic': 2922, 'salli': 2923, 'neil': 2924, 'wannab': 2925, 'ingredi': 2926, 'nuanc': 2927, 'tender': 2928, 'reel': 2929, 'bud': 2930, 'admittedli': 2931, 'cole': 2932, 'toss': 2933, 'grandmoth': 2934, 'resourc': 2935, 'label': 2936, 'reev': 2937, 'poverti': 2938, 'punk': 2939, 'kubrick': 2940, 'shall': 2941, 'pit': 2942, 'mild': 2943, 'carrey': 2944, 'stronger': 2945, 'gate': 2946, 'mafia': 2947, 'pauli': 2948, 'stood': 2949, 'dawson': 2950, 'cox': 2951, 'smooth': 2952, 'cardboard': 2953, 'outcom': 2954, 'assault': 2955, 'burst': 2956, 'fond': 2957, 'easier': 2958, 'smash': 2959, 'updat': 2960, 'bakshi': 2961, 'ian': 2962, 'terri': 2963, 'astair': 2964, 'tag': 2965, 'useless': 2966, 'divers': 2967, 'melodramat': 2968, 'sketch': 2969, 'exchang': 2970, 'coincid': 2971, 'vulner': 2972, '2002': 2973, 'increasingli': 2974, 'samurai': 2975, 'qualifi': 2976, 'rex': 2977, 'vari': 2978, 'fist': 2979, 'resolv': 2980, 'blast': 2981, 'insert': 2982, 'brillianc': 2983, 'conveni': 2984, 'templ': 2985, 'luckili': 2986, 'tame': 2987, 'be': 2988, 'suspend': 2989, 'reynold': 2990, 'scratch': 2991, 'jami': 2992, 'farm': 2993, 'meat': 2994, 'seventi': 2995, 'nuclear': 2996, 'pin': 2997, 'matthew': 2998, 'ambiti': 2999, 'fisher': 3000, 'strictli': 3001, 'walker': 3002, 'coach': 3003, 'soprano': 3004, 'gotta': 3005, 'hamilton': 3006, 'instantli': 3007, 'closet': 3008, 'butcher': 3009, 'worthless': 3010, 'monk': 3011, 'timeless': 3012, 'kudo': 3013, 'spooki': 3014, 'joey': 3015, 'eccentr': 3016, 'revers': 3017, 'cave': 3018, 'clock': 3019, 'convolut': 3020, 'brosnan': 3021, 'ninja': 3022, 'grasp': 3023, 'discoveri': 3024, 'recreat': 3025, 'empir': 3026, 'struck': 3027, 'mitchel': 3028, 'bleak': 3029, 'sloppi': 3030, 'eighti': 3031, 'miracl': 3032, 'fifteen': 3033, 'cliff': 3034, 'gray': 3035, 'wipe': 3036, 'seller': 3037, 'inconsist': 3038, 'clown': 3039, 'pal': 3040, 'importantli': 3041, 'selfish': 3042, 'communist': 3043, 'norman': 3044, 'evok': 3045, 'sidekick': 3046, 'declar': 3047, 'partli': 3048, 'superbl': 3049, 'cheek': 3050, 'seed': 3051, 'websit': 3052, 'piano': 3053, 'farc': 3054, 'aforement': 3055, 'stoog': 3056, '45': 3057, 'enthusiast': 3058, 'australia': 3059, 'ho': 3060, 'chew': 3061, 'debat': 3062, 'destin': 3063, 'lifestyl': 3064, 'psychiatrist': 3065, 'flawless': 3066, 'dire': 3067, 'wick': 3068, 'bash': 3069, 'wrestl': 3070, 'drivel': 3071, 'kitchen': 3072, 'pressur': 3073, 'emili': 3074, 'regardless': 3075, 'incompet': 3076, 'directori': 3077, 'abc': 3078, 'splatter': 3079, 'slice': 3080, 'soviet': 3081, 'anni': 3082, 'dash': 3083, 'akshay': 3084, 'duo': 3085, 'artifici': 3086, 'jar': 3087, 'judi': 3088, 'beaten': 3089, 'seduc': 3090, 'cia': 3091, 'curios': 3092, 'increas': 3093, 'lou': 3094, 'chapter': 3095, 'boil': 3096, 'glow': 3097, 'recov': 3098, 'suppli': 3099, 'prize': 3100, 'pleasantli': 3101, 'mann': 3102, 'cameron': 3103, 'helicopt': 3104, 'doo': 3105, 'ken': 3106, 'distant': 3107, 'flower': 3108, 'blob': 3109, 'cagney': 3110, 'dave': 3111, 'psychot': 3112, 'splendid': 3113, 'goldberg': 3114, 'web': 3115, 'laurel': 3116, 'francisco': 3117, 'favour': 3118, 'panic': 3119, 'eleg': 3120, 'combat': 3121, 'perri': 3122, 'glenn': 3123, 'ranger': 3124, 'craven': 3125, 'turner': 3126, 'drunken': 3127, 'ellen': 3128, 'hop': 3129, 'craig': 3130, 'shortli': 3131, 'plausibl': 3132, 'rid': 3133, 'alexand': 3134, 'gandhi': 3135, 'hatr': 3136, 'graduat': 3137, '20th': 3138, 'greek': 3139, 'fx': 3140, 'philosophi': 3141, 'wizard': 3142, 'ruth': 3143, 'flip': 3144, 'falk': 3145, 'min': 3146, 'modesti': 3147, 'gentl': 3148, 'slightest': 3149, 'jealou': 3150, 'legal': 3151, 'preciou': 3152, 'felix': 3153, 'manhattan': 3154, 'knight': 3155, 'harm': 3156, 'ocean': 3157, 'tall': 3158, 'lend': 3159, 'futurist': 3160, 'we': 3161, 'unpleas': 3162, 'holi': 3163, 'dracula': 3164, 'fund': 3165, 'ami': 3166, 'tank': 3167, 'digniti': 3168, 'thread': 3169, 'mock': 3170, 'nod': 3171, 'childish': 3172, 'scientif': 3173, 'reviv': 3174, 'bless': 3175, 'overdon': 3176, 'forbidden': 3177, 'explicit': 3178, 'giallo': 3179, '99': 3180, 'unwatch': 3181, 'eve': 3182, 'nerv': 3183, 'torment': 3184, 'awaken': 3185, 'elderli': 3186, 'broad': 3187, 'mel': 3188, 'repeatedli': 3189, 'thick': 3190, 'margaret': 3191, 'fever': 3192, '2004': 3193, 'yesterday': 3194, 'awe': 3195, 'verhoeven': 3196, 'pirat': 3197, 'custom': 3198, 'acclaim': 3199, 'roman': 3200, 'eas': 3201, 'uniform': 3202, 'launch': 3203, 'politician': 3204, 'romero': 3205, 'ambit': 3206, 'timothi': 3207, 'ah': 3208, 'lean': 3209, 'kay': 3210, 'automat': 3211, 'rivet': 3212, 'griffith': 3213, 'royal': 3214, 'bin': 3215, 'absenc': 3216, 'publish': 3217, 'stiller': 3218, 'purpl': 3219, 'pulp': 3220, 'wallac': 3221, 'phrase': 3222, 'homicid': 3223, 'sunshin': 3224, 'gabriel': 3225, 'termin': 3226, 'foul': 3227, 'stinker': 3228, 'darker': 3229, 'crook': 3230, 'pierc': 3231, 'tomato': 3232, 'transport': 3233, 'antic': 3234, 'warren': 3235, 'bathroom': 3236, 'brazil': 3237, 'hollow': 3238, 'viciou': 3239, 'awak': 3240, 'horrid': 3241, 'revolutionari': 3242, 'saint': 3243, 'ought': 3244, 'choreographi': 3245, 'coloni': 3246, 'juvenil': 3247, 'evolv': 3248, 'contrari': 3249, 'kenneth': 3250, 'prom': 3251, '2003': 3252, 'li': 3253, 'marin': 3254, 'karen': 3255, 'sixti': 3256, 'rambo': 3257, 'q': 3258, 'donna': 3259, 'packag': 3260, 'album': 3261, 'pray': 3262, 'eyr': 3263, 'overr': 3264, 'defi': 3265, 'ramon': 3266, 'candid': 3267, 'ireland': 3268, 'boast': 3269, 'blade': 3270, 'option': 3271, 'beatti': 3272, 'kapoor': 3273, 'dose': 3274, 'nerd': 3275, 'conserv': 3276, 'mummi': 3277, 'twelv': 3278, 'stole': 3279, 'mildr': 3280, 'kirk': 3281, 'funer': 3282, 'global': 3283, 'collabor': 3284, 'astonish': 3285, 'protest': 3286, 'jazz': 3287, 'confirm': 3288, 'detract': 3289, 'altman': 3290, 'natali': 3291, 'trio': 3292, 'flame': 3293, 'fulci': 3294, 'bottl': 3295, 'audio': 3296, 'yellow': 3297, 'spit': 3298, 'nicholson': 3299, 'destini': 3300, 'bull': 3301, 'racial': 3302, 'shade': 3303, 'mystic': 3304, 'leap': 3305, 'tommi': 3306, 'enterpris': 3307, 'delici': 3308, 'blake': 3309, 'whip': 3310, 'swedish': 3311, 'fonda': 3312, 'staff': 3313, 'popcorn': 3314, 'neo': 3315, 'threw': 3316, 'bedroom': 3317, 'inherit': 3318, 'adolesc': 3319, 'reunit': 3320, 'merci': 3321, 'vivid': 3322, 'visibl': 3323, 'meaningless': 3324, 'altogeth': 3325, 'harder': 3326, 'enchant': 3327, 'pseudo': 3328, 'todd': 3329, 'tip': 3330, 'reserv': 3331, 'kennedi': 3332, 'lemmon': 3333, 'lawrenc': 3334, 'atlanti': 3335, 'roommat': 3336, 'wire': 3337, 'respond': 3338, 'uneven': 3339, 'moodi': 3340, 'bust': 3341, 'voight': 3342, 'exhibit': 3343, 'jew': 3344, 'decor': 3345, 'befriend': 3346, 'suspici': 3347, 'edi': 3348, 'await': 3349, 'synopsi': 3350, 'ruthless': 3351, 'madonna': 3352, 'fanat': 3353, 'leonard': 3354, 'crocodil': 3355, 'clint': 3356, 'bradi': 3357, 'bargain': 3358, 'carl': 3359, 'chao': 3360, 'rural': 3361, 'centr': 3362, '2007': 3363, 'palma': 3364, 'voyag': 3365, 'ventur': 3366, 'incident': 3367, 'audit': 3368, 'unsettl': 3369, 'clumsi': 3370, 'bold': 3371, 'garner': 3372, 'dimens': 3373, 'abysm': 3374, 'holli': 3375, 'trail': 3376, 'lit': 3377, 'poetic': 3378, 'hart': 3379, 'ant': 3380, 'troop': 3381, 'mall': 3382, 'tiger': 3383, 'acknowledg': 3384, 'immigr': 3385, 'daddi': 3386, 'echo': 3387, 'cari': 3388, 'elimin': 3389, 'humili': 3390, 'versu': 3391, 'nearbi': 3392, 'imperson': 3393, 'timon': 3394, '2nd': 3395, 'wealth': 3396, 'characterist': 3397, 'neglect': 3398, 'cuba': 3399, 'cd': 3400, 'repuls': 3401, 'domest': 3402, 'paus': 3403, 'mistaken': 3404, 'collaps': 3405, 'marshal': 3406, 'saga': 3407, 'celluloid': 3408, 'infect': 3409, 'pun': 3410, 'prejudic': 3411, 'jeffrey': 3412, 'mickey': 3413, 'homer': 3414, 'solo': 3415, 'cake': 3416, 'harvey': 3417, 'inan': 3418, 'sore': 3419, 'coat': 3420, 'inappropri': 3421, 'gear': 3422, 'tribe': 3423, 'chest': 3424, 'interrupt': 3425, 'olivi': 3426, 'assembl': 3427, 'pant': 3428, 'leon': 3429, 'promin': 3430, '1996': 3431, 'hbo': 3432, 'apolog': 3433, 'coffe': 3434, 'milk': 3435, 'equip': 3436, 'ginger': 3437, 'undoubtedli': 3438, 'consum': 3439, 'brooklyn': 3440, 'embrac': 3441, 'vulgar': 3442, 'pot': 3443, 'devast': 3444, 'instant': 3445, 'maggi': 3446, 'furthermor': 3447, 'jenni': 3448, 'highest': 3449, 'florida': 3450, 'exot': 3451, 'airplan': 3452, 'trace': 3453, 'colonel': 3454, 'polanski': 3455, 'retain': 3456, 'colleagu': 3457, 'humbl': 3458, 'primari': 3459, 'institut': 3460, 'solut': 3461, 'pen': 3462, 'aveng': 3463, 'bowl': 3464, 'gender': 3465, 'strain': 3466, 'ya': 3467, 'poke': 3468, '1999': 3469, 'seduct': 3470, 'illog': 3471, 'principl': 3472, 'wive': 3473, 'descend': 3474, 'cope': 3475, 'smaller': 3476, 'disabl': 3477, '3rd': 3478, 'outer': 3479, 'dian': 3480, 'linda': 3481, 'sale': 3482, 'dutch': 3483, 'godzilla': 3484, 'rick': 3485, 'lol': 3486, 'bubbl': 3487, 'dud': 3488, 'hal': 3489, 'predecessor': 3490, 'secondli': 3491, 'beneath': 3492, 'vast': 3493, 'mixtur': 3494, 'cue': 3495, 'scope': 3496, 'blatant': 3497, 'rabbit': 3498, 'inferior': 3499, 'dive': 3500, 'yard': 3501, 'primarili': 3502, 'glamor': 3503, 'gloriou': 3504, 'devoid': 3505, 'gundam': 3506, 'trademark': 3507, 'hideou': 3508, 'z': 3509, 'disjoint': 3510, 'shirley': 3511, 'shelf': 3512, 'countrysid': 3513, 'grinch': 3514, 'alfr': 3515, 'alert': 3516, 'myer': 3517, 'simplist': 3518, 'senseless': 3519, 'aggress': 3520, 'et': 3521, 'talki': 3522, 'april': 3523, 'casual': 3524, 'museum': 3525, 'invas': 3526, 'garbo': 3527, 'breed': 3528, 'streep': 3529, 'arab': 3530, 'domino': 3531, 'pearl': 3532, 'stack': 3533, 'uwe': 3534, 'sh': 3535, 'slide': 3536, 'vanish': 3537, 'boom': 3538, 'mail': 3539, 'hopeless': 3540, 'defens': 3541, 'rendit': 3542, 'khan': 3543, 'applaud': 3544, 'mayor': 3545, 'hardcor': 3546, 'loyal': 3547, 'disgrac': 3548, 'robberi': 3549, 'acid': 3550, 'obtain': 3551, 'oz': 3552, 'experiment': 3553, 'robinson': 3554, 'stir': 3555, 'unhappi': 3556, 'stellar': 3557, 'illeg': 3558, 'maci': 3559, 'blew': 3560, 'incomprehens': 3561, 'counter': 3562, 'wont': 3563, 'grandfath': 3564, 'soccer': 3565, 'hartley': 3566, 'tempt': 3567, 'berlin': 3568, 'emphasi': 3569, 'amanda': 3570, 'span': 3571, 'fri': 3572, 'craze': 3573, 'tenant': 3574, 'spider': 3575, 'scroog': 3576, 'recruit': 3577, 'topless': 3578, 'dismiss': 3579, 'declin': 3580, 'dicken': 3581, 'psychic': 3582, 'rifl': 3583, 'diana': 3584, 'bitch': 3585, 'revolt': 3586, 'wet': 3587, 'ethnic': 3588, 'woo': 3589, 'faster': 3590, 'niro': 3591, 'shed': 3592, 'justin': 3593, 'sibl': 3594, 'goer': 3595, 'ration': 3596, 'resurrect': 3597, 'riot': 3598, 'shaw': 3599, 'intim': 3600, 'sympath': 3601, 'trashi': 3602, 'porno': 3603, 'parad': 3604, 'lumet': 3605, 'farmer': 3606, 'partial': 3607, 'hesit': 3608, 'worm': 3609, 'unreal': 3610, 'wendi': 3611, 'choru': 3612, 'hopper': 3613, 'immort': 3614, 'dealer': 3615, 'andr': 3616, 'mario': 3617, '00': 3618, 'gap': 3619, 'eager': 3620, 'feminist': 3621, 'weakest': 3622, 'nephew': 3623, 'jonathan': 3624, 'enlighten': 3625, 'steam': 3626, 'ballet': 3627, 'wheel': 3628, 'honesti': 3629, 'commend': 3630, 'ensur': 3631, 'biographi': 3632, 'lena': 3633, 'rider': 3634, 'patriot': 3635, 'region': 3636, 'slick': 3637, 'wore': 3638, 'prequel': 3639, 'repress': 3640, 'sandra': 3641, 'nostalg': 3642, 'hung': 3643, 'leo': 3644, 'safeti': 3645, 'franco': 3646, 'blunt': 3647, 'mutant': 3648, 'confin': 3649, 'victori': 3650, 'similarli': 3651, 'composit': 3652, 'psychopath': 3653, 'charlott': 3654, 'sappi': 3655, 'skull': 3656, 'owen': 3657, 'morri': 3658, 'util': 3659, 'properti': 3660, 'snap': 3661, 'kingdom': 3662, 'vice': 3663, 'macarthur': 3664, 'drain': 3665, 'kyle': 3666, 'bumbl': 3667, 'latin': 3668, 'rope': 3669, 'valuabl': 3670, 'acquir': 3671, 'tail': 3672, 'drum': 3673, 'repli': 3674, 'whoopi': 3675, 'thru': 3676, 'dust': 3677, 'hyde': 3678, 'speci': 3679, 'pattern': 3680, 'strand': 3681, 'farrel': 3682, 'bonu': 3683, 'bow': 3684, 'del': 3685, 'tad': 3686, 'exit': 3687, 'rambl': 3688, 'compens': 3689, '1972': 3690, 'deed': 3691, 'compass': 3692, 'heartbreak': 3693, 'miseri': 3694, 'campbel': 3695, 'recycl': 3696, 'dalton': 3697, 'bergman': 3698, 'emperor': 3699, 'montana': 3700, 'cg': 3701, 'rocki': 3702, 'nervou': 3703, 'despair': 3704, 'snl': 3705, 'rotten': 3706, 'bleed': 3707, '35': 3708, 'radic': 3709, 'orson': 3710, 'downhil': 3711, 'wacki': 3712, 'carradin': 3713, 'da': 3714, 'roth': 3715, 'tonight': 3716, 'romp': 3717, 'martian': 3718, 'mistress': 3719, 'olli': 3720, 'rapist': 3721, 'percept': 3722, 'gal': 3723, 'pour': 3724, 'slug': 3725, 'contempl': 3726, 'airport': 3727, 'oppress': 3728, 'chess': 3729, 'gimmick': 3730, 'pervers': 3731, 'taught': 3732, 'stilt': 3733, 'shelley': 3734, '1983': 3735, 'heal': 3736, 'attorney': 3737, 'unpredict': 3738, 'edgar': 3739, 'mislead': 3740, 'arguabl': 3741, 'programm': 3742, 'pervert': 3743, 'belt': 3744, 'pursuit': 3745, 'tackl': 3746, 'arc': 3747, 'preach': 3748, 'melodi': 3749, 'champion': 3750, 'slash': 3751, 'dazzl': 3752, 'paltrow': 3753, 'banal': 3754, 'tooth': 3755, 'passeng': 3756, 'sensat': 3757, 'cleverli': 3758, 'maid': 3759, 'orang': 3760, 'duval': 3761, 'bela': 3762, 'raymond': 3763, 'closest': 3764, 'vocal': 3765, 'mesmer': 3766, 'uplift': 3767, 'poem': 3768, 'tiresom': 3769, 'conneri': 3770, 'virginia': 3771, 'gambl': 3772, 'graham': 3773, 'marti': 3774, 'employe': 3775, 'dixon': 3776, 'plight': 3777, 'chicken': 3778, 'vengeanc': 3779, 'franki': 3780, 'rubi': 3781, 'mute': 3782, 'swallow': 3783, 'volum': 3784, 'monologu': 3785, 'outing': 3786, '1968': 3787, 'whine': 3788, 'habit': 3789, 'inject': 3790, 'scottish': 3791, 'giggl': 3792, 'engross': 3793, 'abraham': 3794, 'paranoia': 3795, 'quarter': 3796, 'crystal': 3797, 'gerard': 3798, 'numb': 3799, 'tube': 3800, 'yawn': 3801, 'climact': 3802, 'secretli': 3803, 'clone': 3804, 'profan': 3805, 'convincingli': 3806, 'bay': 3807, 'sirk': 3808, 'amitabh': 3809, 'extens': 3810, 'calm': 3811, 'suffic': 3812, 'iran': 3813, 'pokemon': 3814, 'lundgren': 3815, 'dispos': 3816, 'junior': 3817, 'trend': 3818, 'richardson': 3819, 'nichola': 3820, 'franci': 3821, 'surpass': 3822, 'taxi': 3823, 'fed': 3824, 'poetri': 3825, 'underst': 3826, 'bend': 3827, 'spock': 3828, 'grotesqu': 3829, 'profess': 3830, 'im': 3831, 'earl': 3832, 'backward': 3833, 'plod': 3834, 'septemb': 3835, 'ethan': 3836, 'linger': 3837, 'frankenstein': 3838, 'chicago': 3839, 'lowest': 3840, 'austen': 3841, 'abort': 3842, 'meander': 3843, 'expand': 3844, 'myth': 3845, 'tourist': 3846, 'spoke': 3847, 'greedi': 3848, 'cannon': 3849, 'instrument': 3850, 'lure': 3851, 'catchi': 3852, 'eugen': 3853, 'compliment': 3854, 'literatur': 3855, 'mundan': 3856, 'rubber': 3857, 'rant': 3858, 'stallon': 3859, 'muddl': 3860, 'dysfunct': 3861, 'descent': 3862, 'household': 3863, 'sue': 3864, 'waitress': 3865, 'econom': 3866, 'hum': 3867, 'nostalgia': 3868, 'simplic': 3869, 'der': 3870, 'cent': 3871, 'molli': 3872, 'mortal': 3873, 'stale': 3874, 'bacal': 3875, 'irrelev': 3876, 'dement': 3877, 'eaten': 3878, 'alongsid': 3879, 'phoni': 3880, 'lang': 3881, 'recognis': 3882, 'phantom': 3883, 'crucial': 3884, 'duck': 3885, 'furi': 3886, 'firstli': 3887, 'occupi': 3888, 'omen': 3889, 'insur': 3890, 'flee': 3891, 'hello': 3892, 'deaf': 3893, 'recognit': 3894, 'randi': 3895, 'equival': 3896, 'sissi': 3897, 'mankind': 3898, 'dictat': 3899, 'map': 3900, 'carel': 3901, 'damon': 3902, 'coast': 3903, 'louis': 3904, 'june': 3905, 'rooney': 3906, 'newli': 3907, 'wisdom': 3908, 'onlin': 3909, 'twilight': 3910, 'lengthi': 3911, 'heel': 3912, 'loyalti': 3913, 'likewis': 3914, 'distinguish': 3915, 'buffalo': 3916, 'ashley': 3917, '1973': 3918, 'daisi': 3919, 'cyborg': 3920, 'labor': 3921, 'drake': 3922, 'grayson': 3923, 'damm': 3924, 'reign': 3925, 'dreari': 3926, 'freez': 3927, 'bump': 3928, 'rude': 3929, 'blackmail': 3930, 'antwon': 3931, 'bike': 3932, 'biko': 3933, 'boxer': 3934, 'keith': 3935, 'pink': 3936, 'inher': 3937, 'exposur': 3938, 'nineti': 3939, 'worn': 3940, 'prey': 3941, 'chronicl': 3942, 'basketbal': 3943, 'unorigin': 3944, 'incorpor': 3945, 'interior': 3946, 'vein': 3947, 'approv': 3948, 'emphas': 3949, 'sailor': 3950, 'attribut': 3951, 'barrymor': 3952, 'provoc': 3953, 'analysi': 3954, 'proce': 3955, 'butler': 3956, 'baddi': 3957, 'startl': 3958, 'tunnel': 3959, 'ridden': 3960, 'substitut': 3961, 'elm': 3962, 'hypnot': 3963, 'walsh': 3964, 'underli': 3965, 'degrad': 3966, 'julian': 3967, 'meyer': 3968, 'unrel': 3969, 'barrel': 3970, 'er': 3971, 'robbin': 3972, 'carla': 3973, 'condemn': 3974, 'stalker': 3975, 'indiffer': 3976, 'bunni': 3977, 'meg': 3978, 'improvis': 3979, 'belushi': 3980, 'fleet': 3981, 'nicol': 3982, 'undeni': 3983, 'mighti': 3984, 'predat': 3985, 'millionair': 3986, 'mormon': 3987, 'simmon': 3988, 'drift': 3989, 'othello': 3990, 'alison': 3991, 'lampoon': 3992, 'hay': 3993, 'shove': 3994, 'errol': 3995, 'mtv': 3996, 'roof': 3997, 'warmth': 3998, 'vital': 3999, 'watson': 4000, 'firm': 4001, 'nyc': 4002, 'edgi': 4003, 'enthusiasm': 4004, 'novak': 4005, 'priceless': 4006, 'agenda': 4007, 'greed': 4008, 'reid': 4009, 'marion': 4010, '3d': 4011, 'disord': 4012, 'exquisit': 4013, 'palac': 4014, 'rukh': 4015, 'alarm': 4016, 'unawar': 4017, 'dolph': 4018, 'coup': 4019, 'thompson': 4020, 'iraq': 4021, 'nun': 4022, 'gestur': 4023, 'what': 4024, 'crown': 4025, 'simultan': 4026, '13th': 4027, 'angela': 4028, 'showdown': 4029, 'preserv': 4030, 'beatl': 4031, 'pamela': 4032, 'drip': 4033, 'randomli': 4034, 'testament': 4035, 'valentin': 4036, 'profit': 4037, 'session': 4038, 'sergeant': 4039, 'peck': 4040, 'ponder': 4041, 'unleash': 4042, 'cassidi': 4043, 'glanc': 4044, 'petti': 4045, 'distort': 4046, 'minimum': 4047, 'israel': 4048, 'eastern': 4049, 'spain': 4050, 'campaign': 4051, 'peril': 4052, '1933': 4053, 'orlean': 4054, 'zizek': 4055, 'championship': 4056, 'mon': 4057, 'cooki': 4058, 'wig': 4059, 'represent': 4060, 'gentleman': 4061, 'stroke': 4062, 'shootout': 4063, 'buster': 4064, 'stake': 4065, 'valley': 4066, 'crawl': 4067, 'scotland': 4068, 'realm': 4069, 'reson': 4070, 'regist': 4071, '1984': 4072, 'rout': 4073, 'din': 4074, 'jan': 4075, 'bro': 4076, 'travesti': 4077, 'empathi': 4078, 'climat': 4079, 'brenda': 4080, 'cream': 4081, 'calib': 4082, 'restrain': 4083, 'exposit': 4084, 'unimagin': 4085, 'han': 4086, 'quinn': 4087, 'crow': 4088, 'perpetu': 4089, 'miyazaki': 4090, 'fido': 4091, 'kurosawa': 4092, 'sabrina': 4093, 'contradict': 4094, 'derang': 4095, 'traumat': 4096, 'abomin': 4097, 'cloud': 4098, '1997': 4099, 'pole': 4100, 'perceiv': 4101, '1987': 4102, 'delic': 4103, 'ross': 4104, 'wax': 4105, 'distress': 4106, 'sammi': 4107, 'dana': 4108, 'spacey': 4109, 'tacki': 4110, 'shoddi': 4111, 'mclaglen': 4112, 'compromis': 4113, 'absent': 4114, 'painter': 4115, 'baldwin': 4116, 'shaki': 4117, 'unsatisfi': 4118, 'passabl': 4119, 'femm': 4120, 'sucker': 4121, 'unseen': 4122, 'josh': 4123, 'soderbergh': 4124, 'businessman': 4125, 'greg': 4126, 'censor': 4127, 'pretens': 4128, 'warrant': 4129, 'monoton': 4130, 'ustinov': 4131, 'meryl': 4132, 'crawford': 4133, 'fuller': 4134, 'darren': 4135, 'geek': 4136, 'demis': 4137, 'stargat': 4138, 'deceas': 4139, 'wholli': 4140, 'uncov': 4141, 'sid': 4142, 'clash': 4143, 'dee': 4144, 'accuraci': 4145, 'fog': 4146, 'tarantino': 4147, 'click': 4148, 'polici': 4149, 'reluct': 4150, 'verbal': 4151, 'seal': 4152, 'jewel': 4153, '1993': 4154, 'primit': 4155, 'unravel': 4156, 'expedit': 4157, 'correctli': 4158, 'anchor': 4159, 'valid': 4160, 'furiou': 4161, 'norm': 4162, 'judgment': 4163, 'fenc': 4164, 'antonioni': 4165, 'exclus': 4166, 'deniro': 4167, 'tech': 4168, 'nathan': 4169, 'austin': 4170, 'kumar': 4171, 'tax': 4172, 'sunni': 4173, 'malon': 4174, 'bake': 4175, '1971': 4176, 'unfair': 4177, 'dreck': 4178, 'wang': 4179, 'conduct': 4180, 'ritual': 4181, 'enforc': 4182, 'joel': 4183, '3000': 4184, 'debt': 4185, 'fought': 4186, 'mode': 4187, '2008': 4188, 'alec': 4189, 'sheet': 4190, 'sustain': 4191, 'sand': 4192, 'shanghai': 4193, 'crippl': 4194, 'trait': 4195, 'slam': 4196, 'temper': 4197, 'wretch': 4198, 'clerk': 4199, 'fart': 4200, 'seldom': 4201, '1995': 4202, 'darn': 4203, 'patienc': 4204, 'nicola': 4205, 'pocket': 4206, 'behold': 4207, 'murray': 4208, 'vanc': 4209, 'fabric': 4210, 'hallucin': 4211, 'logan': 4212, 'roller': 4213, 'shell': 4214, 'grief': 4215, 'divid': 4216, 'preposter': 4217, 'bias': 4218, 'schedul': 4219, 'soup': 4220, 'outlin': 4221, 'rita': 4222, 'sweep': 4223, 'runner': 4224, 'guitar': 4225, 'stark': 4226, 'helpless': 4227, 'scriptwrit': 4228, 'clau': 4229, 'exhaust': 4230, 'penni': 4231, 'despis': 4232, 'phil': 4233, 'fundament': 4234, 'tactic': 4235, 'technicolor': 4236, 'preston': 4237, 'isabel': 4238, 'legaci': 4239, 'stuart': 4240, 'critiqu': 4241, 'conscious': 4242, 'squad': 4243, 'pete': 4244, 'bridget': 4245, 'robber': 4246, 'canyon': 4247, 'propos': 4248, 'boyl': 4249, 'delv': 4250, 'jacket': 4251, 'alicia': 4252, 'russia': 4253, 'flair': 4254, 'invad': 4255, 'inabl': 4256, 'gregori': 4257, 'newman': 4258, 'implic': 4259, 'consciou': 4260, 'rehash': 4261, 'alley': 4262, 'agenc': 4263, 'vomit': 4264, 'liberti': 4265, 'kansa': 4266, 'passag': 4267, 'connor': 4268, 'sniper': 4269, 'culmin': 4270, 'unexpectedli': 4271, 'restrict': 4272, 'lacklust': 4273, 'sugar': 4274, 'marc': 4275, 'bloom': 4276, 'palanc': 4277, 'downey': 4278, 'cigarett': 4279, 'rear': 4280, 'sentinel': 4281, 'drove': 4282, 'jodi': 4283, 'karl': 4284, 'delet': 4285, 'wrench': 4286, 'tendenc': 4287, 'lush': 4288, 'horn': 4289, 'rod': 4290, 'rehears': 4291, 'behaviour': 4292, 'rampag': 4293, 'yeti': 4294, 'cap': 4295, 'mccoy': 4296, '1936': 4297, '22': 4298, 'bacon': 4299, 'awhil': 4300, 'feat': 4301, 'arrow': 4302, 'sharon': 4303, 'chainsaw': 4304, 'tripe': 4305, 'vet': 4306, 'foxx': 4307, 'asylum': 4308, 'kolchak': 4309, 'improb': 4310, 'ladder': 4311, 'pale': 4312, 'aesthet': 4313, 'scoop': 4314, 'tomorrow': 4315, 'spice': 4316, 'hungri': 4317, 'prank': 4318, 'rumor': 4319, 'wildli': 4320, '1988': 4321, 'aristocrat': 4322, 'loneli': 4323, 'newcom': 4324, 'sung': 4325, 'weav': 4326, 'paradis': 4327, 'suspicion': 4328, 'amazon': 4329, '19th': 4330, 'underneath': 4331, 'fright': 4332, 'elit': 4333, 'filler': 4334, 'paramount': 4335, 'shortcom': 4336, 'tasteless': 4337, 'lurk': 4338, 'hackney': 4339, 'hulk': 4340, 'minu': 4341, 'conscienc': 4342, '1978': 4343, 'visitor': 4344, 'rhythm': 4345, 'financ': 4346, 'thunderbird': 4347, 'stream': 4348, 'globe': 4349, 'wagner': 4350, 'basing': 4351, 'suffici': 4352, '1920': 4353, 'el': 4354, 'coaster': 4355, 'naughti': 4356, 'en': 4357, 'posey': 4358, 'straightforward': 4359, 'impos': 4360, 'leigh': 4361, '1989': 4362, 'curli': 4363, 'hopkin': 4364, 'beverli': 4365, 'quietli': 4366, 'penn': 4367, 'rub': 4368, 'literari': 4369, 'paxton': 4370, 'minist': 4371, 'smell': 4372, 'abrupt': 4373, 'brit': 4374, 'inmat': 4375, 'couch': 4376, 'choppi': 4377, 'immers': 4378, 'iv': 4379, 'ingeni': 4380, 'springer': 4381, 'wwe': 4382, 'recogniz': 4383, '1939': 4384, 'standout': 4385, 'cancer': 4386, 'teas': 4387, 'lectur': 4388, 'atroc': 4389, 'bread': 4390, '75': 4391, 'worship': 4392, 'secondari': 4393, 'entranc': 4394, 'dirt': 4395, 'counterpart': 4396, 'tierney': 4397, 'grudg': 4398, 'ram': 4399, 'chavez': 4400, 'heist': 4401, 'chamberlain': 4402, 'watcher': 4403, 'injuri': 4404, 'moreov': 4405, 'duel': 4406, 'enthral': 4407, 'laurenc': 4408, 'heartfelt': 4409, '1986': 4410, 'skeptic': 4411, 'ace': 4412, 'misguid': 4413, 'nemesi': 4414, 'nolan': 4415, 'morbid': 4416, 'variat': 4417, 'quaid': 4418, 'net': 4419, 'cattl': 4420, 'sublim': 4421, 'missil': 4422, 'yearn': 4423, 'policeman': 4424, 'attenborough': 4425, 'convert': 4426, 'clan': 4427, 'lindsay': 4428, 'ratso': 4429, 'geni': 4430, 'transcend': 4431, 'bernard': 4432, 'entitl': 4433, 'esther': 4434, 'sassi': 4435, 'spiral': 4436, 'diari': 4437, 'mytholog': 4438, 'puppi': 4439, 'egg': 4440, 'cruelti': 4441, 'rosemari': 4442, 'out': 4443, 'hk': 4444, 'brood': 4445, 'dont': 4446, 'artsi': 4447, '1979': 4448, 'moder': 4449, 'hopelessli': 4450, 'buzz': 4451, 'grin': 4452, 'graini': 4453, 'facil': 4454, 'bean': 4455, 'setup': 4456, 'kitti': 4457, 'kidman': 4458, 'tyler': 4459, 'vader': 4460, 'characteris': 4461, 'uncut': 4462, 'reliabl': 4463, 'obstacl': 4464, 'carlito': 4465, 'youngest': 4466, 'steadi': 4467, 'enabl': 4468, 'unexplain': 4469, 'poe': 4470, 'bye': 4471, 'gillian': 4472, 'clueless': 4473, 'disastr': 4474, 'despic': 4475, 'bounc': 4476, 'bewar': 4477, 'weather': 4478, 'heap': 4479, 'effici': 4480, 'decept': 4481, 'baffl': 4482, 'niec': 4483, 'gina': 4484, 'athlet': 4485, 'hammi': 4486, 'patricia': 4487, 'brendan': 4488, 'fuel': 4489, 'christin': 4490, 'underworld': 4491, 'narrow': 4492, 'oblig': 4493, 'exterior': 4494, '1969': 4495, 'martha': 4496, 'preming': 4497, 'sweat': 4498, 'kline': 4499, 'spontan': 4500, 'hain': 4501, 'acquaint': 4502, 'bronson': 4503, 'trigger': 4504, 'goof': 4505, 'viewpoint': 4506, 'renaiss': 4507, 'candl': 4508, 'shatter': 4509, 'scar': 4510, '73': 4511, 'insipid': 4512, 'dilemma': 4513, 'harmless': 4514, 'taboo': 4515, 'housewif': 4516, 'lester': 4517, 'fontain': 4518, 'hepburn': 4519, 'headach': 4520, 'outlaw': 4521, 'astound': 4522, 'preachi': 4523, 'analyz': 4524, 'sooner': 4525, 'tick': 4526, '19': 4527, 'mayhem': 4528, 'mermaid': 4529, 'angst': 4530, 'rome': 4531, 'circu': 4532, 'suprem': 4533, 'uh': 4534, 'enlist': 4535, 'virtu': 4536, 'injur': 4537, 'loath': 4538, 'sleepwalk': 4539, 'dandi': 4540, 'loi': 4541, 'biker': 4542, 'dismal': 4543, 'slimi': 4544, 'whore': 4545, 'intric': 4546, 'corbett': 4547, 'overlong': 4548, 'macho': 4549, 'hokey': 4550, 'camcord': 4551, 'filth': 4552, 'steer': 4553, 'idol': 4554, 'zoom': 4555, 'spade': 4556, 'redund': 4557, 'amor': 4558, 'salt': 4559, 'stimul': 4560, 'oldest': 4561, 'boston': 4562, 'sox': 4563, 'claustrophob': 4564, 'phenomenon': 4565, 'cassavet': 4566, 'scorses': 4567, 'fluff': 4568, 'foolish': 4569, 'contempt': 4570, 'dish': 4571, 'immatur': 4572, 'guin': 4573, 'hostag': 4574, 'ariel': 4575, 'ebert': 4576, 'glorifi': 4577, 'hooker': 4578, 'stair': 4579, 'surgeri': 4580, 'gere': 4581, 'bent': 4582, 'tripl': 4583, 'schlock': 4584, 'remad': 4585, 'strongest': 4586, 'spinal': 4587, 'mount': 4588, 'radiat': 4589, 'flag': 4590, 'shred': 4591, 'proport': 4592, 'rhyme': 4593, 'mutual': 4594, 'transplant': 4595, 'obligatori': 4596, 'messi': 4597, 'perman': 4598, 'frantic': 4599, 'assert': 4600, 'nolt': 4601, 'gasp': 4602, 'widescreen': 4603, 'preced': 4604, 'muscl': 4605, '1976': 4606, 'alvin': 4607, 'cush': 4608, 'harold': 4609, 'trivia': 4610, 'beard': 4611, 'cohen': 4612, 'corman': 4613, 'zane': 4614, '1981': 4615, 'cow': 4616, 'down': 4617, 'shield': 4618, 'keen': 4619, 'astronaut': 4620, 'flirt': 4621, 'fascist': 4622, 'conquer': 4623, 'spree': 4624, 'margin': 4625, 'antagonist': 4626, 'flashi': 4627, 'dwarf': 4628, 'faint': 4629, 'joker': 4630, 'naschi': 4631, 'gabl': 4632, 'departur': 4633, 'resum': 4634, 'inflict': 4635, '1945': 4636, 'info': 4637, 'scandal': 4638, 'someday': 4639, 'brush': 4640, 'flock': 4641, 'instruct': 4642, 'neurot': 4643, 'mol': 4644, 'vaniti': 4645, 'bitten': 4646, 'carey': 4647, 'sensual': 4648, 'danish': 4649, 'hara': 4650, 'archiv': 4651, 'triangl': 4652, 'repris': 4653, 'ritchi': 4654, 'discern': 4655, 'strive': 4656, 'off': 4657, 'claud': 4658, 'www': 4659, 'divin': 4660, 'barn': 4661, '95': 4662, 'bachelor': 4663, 'wield': 4664, 'persuad': 4665, 'mobil': 4666, 'boob': 4667, 'deer': 4668, 'interestingli': 4669, 'raj': 4670, '28': 4671, 'fishburn': 4672, 'aborigin': 4673, 'undermin': 4674, 'europa': 4675, 'recit': 4676, 'jade': 4677, 'axe': 4678, 'banter': 4679, 'helm': 4680, 'melissa': 4681, 'hug': 4682, 'colin': 4683, 'clad': 4684, 'pacif': 4685, 'proclaim': 4686, 'cb': 4687, 'hilar': 4688, 'prophet': 4689, 'senior': 4690, 'harrison': 4691, 'dim': 4692, 'casino': 4693, 'traffic': 4694, 'frontier': 4695, 'fragil': 4696, 'kathryn': 4697, 'luka': 4698, 'submit': 4699, 'dame': 4700, 'carlo': 4701, 'pixar': 4702, 'heartwarm': 4703, 'ish': 4704, 'vibrant': 4705, 'parson': 4706, 'cher': 4707, 'loretta': 4708, 'mobster': 4709, 'biblic': 4710, 'hapless': 4711, 'cycl': 4712, 'bate': 4713, 'artwork': 4714, 'cliffhang': 4715, 'miracul': 4716, 'dylan': 4717, 'rot': 4718, 'wendigo': 4719, 'pickford': 4720, 'neill': 4721, 'timberlak': 4722, 'anton': 4723, 'earnest': 4724, 'redneck': 4725, 'trier': 4726, 'feast': 4727, 'aris': 4728, 'articl': 4729, 'orphan': 4730, 'mathieu': 4731, 'flavor': 4732, 'eli': 4733, 'jo': 4734, 'misfortun': 4735, 'mason': 4736, 'choke': 4737, 'bondag': 4738, 'lucil': 4739, 'wardrob': 4740, 'akin': 4741, 'jordan': 4742, 'sicken': 4743, 'bikini': 4744, 'pc': 4745, 'nope': 4746, 'toronto': 4747, 'static': 4748, 'holocaust': 4749, 'cerebr': 4750, 'illus': 4751, 'antholog': 4752, 'razor': 4753, 'foil': 4754, 'shepherd': 4755, 'milo': 4756, 'breakfast': 4757, 'legitim': 4758, 'lui': 4759, 'vanessa': 4760, 'uma': 4761, 'token': 4762, 'blatantli': 4763, 'venom': 4764, 'http': 4765, 'northern': 4766, 'estrang': 4767, 'rooki': 4768, 'marlon': 4769, 'electron': 4770, 'isra': 4771, 'vile': 4772, 'seedi': 4773, 'alexandr': 4774, 'winchest': 4775, 'peer': 4776, 'huston': 4777, 'psych': 4778, 'fifth': 4779, 'deem': 4780, 'nightclub': 4781, 'shorter': 4782, 'glare': 4783, 'turd': 4784, 'audrey': 4785, 'highway': 4786, 'swept': 4787, 'comprehend': 4788, 'charlton': 4789, 'smack': 4790, 'outdat': 4791, 'howl': 4792, 'styliz': 4793, 'oppon': 4794, 'abund': 4795, 'tack': 4796, 'knightley': 4797, 'clinic': 4798, 'wrestler': 4799, 'feminin': 4800, 'linear': 4801, 'ceremoni': 4802, 'magician': 4803, 'disregard': 4804, 'dudley': 4805, 'retriev': 4806, 'ideolog': 4807, 'affleck': 4808, 'gunga': 4809, 'cartoonish': 4810, 'leather': 4811, 'gilbert': 4812, 'frog': 4813, 'boyer': 4814, 'mitch': 4815, 'client': 4816, 'moe': 4817, 'newer': 4818, 'lavish': 4819, 'whack': 4820, 'uniformli': 4821, 'plate': 4822, 'chip': 4823, '1991': 4824, 'spawn': 4825, 'collector': 4826, 'compris': 4827, 'bastard': 4828, 'phenomen': 4829, 'lighter': 4830, 'senat': 4831, 'durat': 4832, 'toe': 4833, '1994': 4834, 'evolut': 4835, 'goldsworthi': 4836, 'monument': 4837, 'btw': 4838, 'breakdown': 4839, 'conrad': 4840, '4th': 4841, 'tara': 4842, 'spine': 4843, 'sleaz': 4844, 'braveheart': 4845, 'salman': 4846, 'potter': 4847, 'corn': 4848, 'cuban': 4849, 'boo': 4850, 'energet': 4851, 'deliver': 4852, 'bogu': 4853, 'einstein': 4854, 'summar': 4855, 'lifeless': 4856, 'snatch': 4857, 'cemeteri': 4858, 'greet': 4859, 'ie': 4860, 'sorrow': 4861, 'embark': 4862, 'fluid': 4863, 'inaccuraci': 4864, 'ol': 4865, 'signal': 4866, 'belli': 4867, 'clara': 4868, 'evelyn': 4869, 'occup': 4870, 'outright': 4871, 'randolph': 4872, '1977': 4873, 'judd': 4874, 'jam': 4875, 'neatli': 4876, 'pronounc': 4877, 'historian': 4878, 'wtf': 4879, 'bulk': 4880, '1974': 4881, 'capot': 4882, 'constitut': 4883, 'appl': 4884, 'nina': 4885, 'liu': 4886, 'spectacl': 4887, 'gilliam': 4888, 'mcqueen': 4889, 'lex': 4890, 'healthi': 4891, 'jedi': 4892, 'jule': 4893, 'firmli': 4894, 'bori': 4895, 'kent': 4896, 'alleg': 4897, 'luxuri': 4898, 'creek': 4899, 'kazan': 4900, 'eleven': 4901, 'replay': 4902, 'armstrong': 4903, 'undead': 4904, 'trauma': 4905, 'jare': 4906, 'undertak': 4907, 'cecil': 4908, 'pepper': 4909, 'unsuspect': 4910, 'meal': 4911, 'lauren': 4912, 'aussi': 4913, 'goldblum': 4914, 'walt': 4915, 'kiddi': 4916, 'abound': 4917, 'poker': 4918, 'fruit': 4919, 'spray': 4920, 'carmen': 4921, '1985': 4922, 'decapit': 4923, 'comprehens': 4924, 'comb': 4925, 'truman': 4926, 'sacrif': 4927, 'propheci': 4928, 'roar': 4929, 'inaccur': 4930, 'tokyo': 4931, 'unattract': 4932, 'genet': 4933, 'forgiven': 4934, 'conan': 4935, 'inclus': 4936, 'galaxi': 4937, 'vignett': 4938, 'vain': 4939, 'congratul': 4940, 'porter': 4941, 'miniseri': 4942, 'antonio': 4943, 'palm': 4944, 'knee': 4945, 'cape': 4946, 'curtain': 4947, 'miami': 4948, 'relentless': 4949, 'groan': 4950, 'blur': 4951, 'basket': 4952, 'pioneer': 4953, 'bait': 4954, 'id': 4955, 'mum': 4956, 'subtli': 4957, 'lanc': 4958, 'sidewalk': 4959, 'paula': 4960, 'ash': 4961, 'rosario': 4962, 'bsg': 4963, 'optimist': 4964, 'hostil': 4965, 'playboy': 4966, 'sophi': 4967, 'evan': 4968, 'scariest': 4969, 'epitom': 4970, 'orchestr': 4971, 'jill': 4972, 'omin': 4973, '21st': 4974, 'dubiou': 4975, 'substanti': 4976, 'vastli': 4977, 'monti': 4978, 'sparkl': 4979, 'verg': 4980, 'macabr': 4981, 'motorcycl': 4982, 'profil': 4983, 'weari': 4984, 'masterson': 4985, 'drone': 4986, 'mice': 4987, 'ingrid': 4988, 'growth': 4989, 'ghetto': 4990, 'asset': 4991, 'spill': 4992, 'bravo': 4993, 'rapidli': 4994, 'scarfac': 4995, 'weaker': 4996, 'victorian': 4997, 'cypher': 4998, 'frontal': 4999}\n"
     ]
    }
   ],
   "source": [
    "# TODO: Use this space to determine the five most frequently appearing words in the training set.\n",
    "print(word_dict)"
   ]
  },
  {
   "cell_type": "markdown",
   "metadata": {},
   "source": [
    "### Save `word_dict`\n",
    "\n",
    "Later on when we construct an endpoint which processes a submitted review we will need to make use of the `word_dict` which we have created. As such, we will save it to a file now for future use."
   ]
  },
  {
   "cell_type": "code",
   "execution_count": 15,
   "metadata": {},
   "outputs": [],
   "source": [
    "data_dir = '../data/pytorch' # The folder we will use for storing data\n",
    "if not os.path.exists(data_dir): # Make sure that the folder exists\n",
    "    os.makedirs(data_dir)"
   ]
  },
  {
   "cell_type": "code",
   "execution_count": 16,
   "metadata": {},
   "outputs": [],
   "source": [
    "with open(os.path.join(data_dir, 'word_dict.pkl'), \"wb\") as f:\n",
    "    pickle.dump(word_dict, f)"
   ]
  },
  {
   "cell_type": "markdown",
   "metadata": {},
   "source": [
    "### Transform the reviews\n",
    "\n",
    "Now that we have our word dictionary which allows us to transform the words appearing in the reviews into integers, it is time to make use of it and convert our reviews to their integer sequence representation, making sure to pad or truncate to a fixed length, which in our case is `500`."
   ]
  },
  {
   "cell_type": "code",
   "execution_count": 17,
   "metadata": {},
   "outputs": [],
   "source": [
    "def convert_and_pad(word_dict, sentence, pad=500):\n",
    "    NOWORD = 0 # We will use 0 to represent the 'no word' category\n",
    "    INFREQ = 1 # and we use 1 to represent the infrequent words, i.e., words not appearing in word_dict\n",
    "    \n",
    "    working_sentence = [NOWORD] * pad\n",
    "    \n",
    "    for word_index, word in enumerate(sentence[:pad]):\n",
    "        if word in word_dict:\n",
    "            working_sentence[word_index] = word_dict[word]\n",
    "        else:\n",
    "            working_sentence[word_index] = INFREQ\n",
    "            \n",
    "    return working_sentence, min(len(sentence), pad)\n",
    "\n",
    "def convert_and_pad_data(word_dict, data, pad=500):\n",
    "    result = []\n",
    "    lengths = []\n",
    "    \n",
    "    for sentence in data:\n",
    "        converted, leng = convert_and_pad(word_dict, sentence, pad)\n",
    "        result.append(converted)\n",
    "        lengths.append(leng)\n",
    "        \n",
    "    return np.array(result), np.array(lengths)"
   ]
  },
  {
   "cell_type": "code",
   "execution_count": 18,
   "metadata": {},
   "outputs": [],
   "source": [
    "train_X, train_X_len = convert_and_pad_data(word_dict, train_X)\n",
    "test_X, test_X_len = convert_and_pad_data(word_dict, test_X)"
   ]
  },
  {
   "cell_type": "markdown",
   "metadata": {},
   "source": [
    "As a quick check to make sure that things are working as intended, check to see what one of the reviews in the training set looks like after having been processeed. Does this look reasonable? What is the length of a review in the training set?"
   ]
  },
  {
   "cell_type": "code",
   "execution_count": 19,
   "metadata": {},
   "outputs": [
    {
     "name": "stdout",
     "output_type": "stream",
     "text": [
      "[2236 1805   12    2   14   25  667  517    2   33   14 2087   24 2884\n",
      "  566  336  289  803 1756  469    1    2  925  618  239 1196 2315  881\n",
      "  167  881  477 1477  440  287 1891  224    6  200  389 3665   41  189\n",
      " 1780 4315    1  906  212 1733    2  475    1   91    4    0    0    0\n",
      "    0    0    0    0    0    0    0    0    0    0    0    0    0    0\n",
      "    0    0    0    0    0    0    0    0    0    0    0    0    0    0\n",
      "    0    0    0    0    0    0    0    0    0    0    0    0    0    0\n",
      "    0    0    0    0    0    0    0    0    0    0    0    0    0    0\n",
      "    0    0    0    0    0    0    0    0    0    0    0    0    0    0\n",
      "    0    0    0    0    0    0    0    0    0    0    0    0    0    0\n",
      "    0    0    0    0    0    0    0    0    0    0    0    0    0    0\n",
      "    0    0    0    0    0    0    0    0    0    0    0    0    0    0\n",
      "    0    0    0    0    0    0    0    0    0    0    0    0    0    0\n",
      "    0    0    0    0    0    0    0    0    0    0    0    0    0    0\n",
      "    0    0    0    0    0    0    0    0    0    0    0    0    0    0\n",
      "    0    0    0    0    0    0    0    0    0    0    0    0    0    0\n",
      "    0    0    0    0    0    0    0    0    0    0    0    0    0    0\n",
      "    0    0    0    0    0    0    0    0    0    0    0    0    0    0\n",
      "    0    0    0    0    0    0    0    0    0    0    0    0    0    0\n",
      "    0    0    0    0    0    0    0    0    0    0    0    0    0    0\n",
      "    0    0    0    0    0    0    0    0    0    0    0    0    0    0\n",
      "    0    0    0    0    0    0    0    0    0    0    0    0    0    0\n",
      "    0    0    0    0    0    0    0    0    0    0    0    0    0    0\n",
      "    0    0    0    0    0    0    0    0    0    0    0    0    0    0\n",
      "    0    0    0    0    0    0    0    0    0    0    0    0    0    0\n",
      "    0    0    0    0    0    0    0    0    0    0    0    0    0    0\n",
      "    0    0    0    0    0    0    0    0    0    0    0    0    0    0\n",
      "    0    0    0    0    0    0    0    0    0    0    0    0    0    0\n",
      "    0    0    0    0    0    0    0    0    0    0    0    0    0    0\n",
      "    0    0    0    0    0    0    0    0    0    0    0    0    0    0\n",
      "    0    0    0    0    0    0    0    0    0    0    0    0    0    0\n",
      "    0    0    0    0    0    0    0    0    0    0    0    0    0    0\n",
      "    0    0    0    0    0    0    0    0    0    0    0    0    0    0\n",
      "    0    0    0    0    0    0    0    0    0    0    0    0    0    0\n",
      "    0    0    0    0    0    0    0    0    0    0    0    0    0    0\n",
      "    0    0    0    0    0    0    0    0    0    0]\n",
      "53\n",
      "[  83   44   72  138 3824  614 2116  311  801 3337  380   25 1922 1150\n",
      "  575  761   61    1 1876 2132 1346 1876  339   61 1835    1  456  551\n",
      "    1 1002 1377  345   46 1021    9  314   31    4    8 3445 1062  242\n",
      "  816    1  877  239  940 1891 2191  356   67 3445    2  228 1021 1021\n",
      " 4593  134   41 3367   53   39  518 2577  911 1278  176    3   99    4\n",
      "   31 2016  223  487   46 1537  542 1647    3 1196  667    1   14 1647\n",
      "  174    3  174 1634   24    3   16   59 1336 4178  232 1652    1  534\n",
      " 3578 2918  197  994 1107  816 4395    0    0    0    0    0    0    0\n",
      "    0    0    0    0    0    0    0    0    0    0    0    0    0    0\n",
      "    0    0    0    0    0    0    0    0    0    0    0    0    0    0\n",
      "    0    0    0    0    0    0    0    0    0    0    0    0    0    0\n",
      "    0    0    0    0    0    0    0    0    0    0    0    0    0    0\n",
      "    0    0    0    0    0    0    0    0    0    0    0    0    0    0\n",
      "    0    0    0    0    0    0    0    0    0    0    0    0    0    0\n",
      "    0    0    0    0    0    0    0    0    0    0    0    0    0    0\n",
      "    0    0    0    0    0    0    0    0    0    0    0    0    0    0\n",
      "    0    0    0    0    0    0    0    0    0    0    0    0    0    0\n",
      "    0    0    0    0    0    0    0    0    0    0    0    0    0    0\n",
      "    0    0    0    0    0    0    0    0    0    0    0    0    0    0\n",
      "    0    0    0    0    0    0    0    0    0    0    0    0    0    0\n",
      "    0    0    0    0    0    0    0    0    0    0    0    0    0    0\n",
      "    0    0    0    0    0    0    0    0    0    0    0    0    0    0\n",
      "    0    0    0    0    0    0    0    0    0    0    0    0    0    0\n",
      "    0    0    0    0    0    0    0    0    0    0    0    0    0    0\n",
      "    0    0    0    0    0    0    0    0    0    0    0    0    0    0\n",
      "    0    0    0    0    0    0    0    0    0    0    0    0    0    0\n",
      "    0    0    0    0    0    0    0    0    0    0    0    0    0    0\n",
      "    0    0    0    0    0    0    0    0    0    0    0    0    0    0\n",
      "    0    0    0    0    0    0    0    0    0    0    0    0    0    0\n",
      "    0    0    0    0    0    0    0    0    0    0    0    0    0    0\n",
      "    0    0    0    0    0    0    0    0    0    0    0    0    0    0\n",
      "    0    0    0    0    0    0    0    0    0    0    0    0    0    0\n",
      "    0    0    0    0    0    0    0    0    0    0    0    0    0    0\n",
      "    0    0    0    0    0    0    0    0    0    0    0    0    0    0\n",
      "    0    0    0    0    0    0    0    0    0    0    0    0    0    0\n",
      "    0    0    0    0    0    0    0    0    0    0]\n",
      "105\n"
     ]
    }
   ],
   "source": [
    "# Use this cell to examine one of the processed reviews to make sure everything is working as intended.\n",
    "print(train_X[15])\n",
    "print(train_X_len[15])\n",
    "print(test_X[134])\n",
    "print(test_X_len[134])"
   ]
  },
  {
   "cell_type": "markdown",
   "metadata": {},
   "source": [
    "**Question:** In the cells above we use the `preprocess_data` and `convert_and_pad_data` methods to process both the training and testing set. Why or why not might this be a problem?"
   ]
  },
  {
   "cell_type": "markdown",
   "metadata": {},
   "source": [
    "**Answer:** Both functions help prepare data and cut the time before training if this notebook is ran multiple times. `preprocess_data` cleans up and reformats the data, which takes a long time, so pickling this data saves a lot of time when workign on this notebook. And `conver_and_pad_data` actually converts the data from words to numbers, cuts it to the same size and pads it so that this data can be passed on to the network. So both these methods save time before training. Both these methods will later need to be applied to the new data coming in from the user, so this should not pose any problems."
   ]
  },
  {
   "cell_type": "markdown",
   "metadata": {},
   "source": [
    "## Step 3: Upload the data to S3\n",
    "\n",
    "As in the XGBoost notebook, we will need to upload the training dataset to S3 in order for our training code to access it. For now we will save it locally and we will upload to S3 later on.\n",
    "\n",
    "### Save the processed training dataset locally\n",
    "\n",
    "It is important to note the format of the data that we are saving as we will need to know it when we write the training code. In our case, each row of the dataset has the form `label`, `length`, `review[500]` where `review[500]` is a sequence of `500` integers representing the words in the review."
   ]
  },
  {
   "cell_type": "code",
   "execution_count": 20,
   "metadata": {},
   "outputs": [],
   "source": [
    "import pandas as pd\n",
    "    \n",
    "pd.concat([pd.DataFrame(train_y), pd.DataFrame(train_X_len), pd.DataFrame(train_X)], axis=1) \\\n",
    "        .to_csv(os.path.join(data_dir, 'train.csv'), header=False, index=False)"
   ]
  },
  {
   "cell_type": "markdown",
   "metadata": {},
   "source": [
    "### Uploading the training data\n",
    "\n",
    "\n",
    "Next, we need to upload the training data to the SageMaker default S3 bucket so that we can provide access to it while training our model."
   ]
  },
  {
   "cell_type": "code",
   "execution_count": 21,
   "metadata": {},
   "outputs": [],
   "source": [
    "import sagemaker\n",
    "\n",
    "sagemaker_session = sagemaker.Session()\n",
    "\n",
    "bucket = sagemaker_session.default_bucket()\n",
    "prefix = 'sagemaker/sentiment_rnn'\n",
    "\n",
    "role = sagemaker.get_execution_role()"
   ]
  },
  {
   "cell_type": "code",
   "execution_count": 22,
   "metadata": {},
   "outputs": [],
   "source": [
    "input_data = sagemaker_session.upload_data(path=data_dir, bucket=bucket, key_prefix=prefix)"
   ]
  },
  {
   "cell_type": "markdown",
   "metadata": {},
   "source": [
    "**NOTE:** The cell above uploads the entire contents of our data directory. This includes the `word_dict.pkl` file. This is fortunate as we will need this later on when we create an endpoint that accepts an arbitrary review. For now, we will just take note of the fact that it resides in the data directory (and so also in the S3 training bucket) and that we will need to make sure it gets saved in the model directory."
   ]
  },
  {
   "cell_type": "markdown",
   "metadata": {},
   "source": [
    "## Step 4: Build and Train the PyTorch Model\n",
    "\n",
    "In the XGBoost notebook we discussed what a model is in the SageMaker framework. In particular, a model comprises three objects\n",
    "\n",
    " - Model Artifacts,\n",
    " - Training Code, and\n",
    " - Inference Code,\n",
    " \n",
    "each of which interact with one another. In the XGBoost example we used training and inference code that was provided by Amazon. Here we will still be using containers provided by Amazon with the added benefit of being able to include our own custom code.\n",
    "\n",
    "We will start by implementing our own neural network in PyTorch along with a training script. For the purposes of this project we have provided the necessary model object in the `model.py` file, inside of the `train` folder. You can see the provided implementation by running the cell below."
   ]
  },
  {
   "cell_type": "code",
   "execution_count": 23,
   "metadata": {},
   "outputs": [
    {
     "name": "stdout",
     "output_type": "stream",
     "text": [
      "\u001b[34mimport\u001b[39;49;00m \u001b[04m\u001b[36mtorch\u001b[39;49;00m\u001b[04m\u001b[36m.\u001b[39;49;00m\u001b[04m\u001b[36mnn\u001b[39;49;00m \u001b[34mas\u001b[39;49;00m \u001b[04m\u001b[36mnn\u001b[39;49;00m\r\n",
      "\r\n",
      "\u001b[34mclass\u001b[39;49;00m \u001b[04m\u001b[32mLSTMClassifier\u001b[39;49;00m(nn.Module):\r\n",
      "    \u001b[33m\"\"\"\u001b[39;49;00m\r\n",
      "\u001b[33m    This is the simple RNN model we will be using to perform Sentiment Analysis.\u001b[39;49;00m\r\n",
      "\u001b[33m    \"\"\"\u001b[39;49;00m\r\n",
      "\r\n",
      "    \u001b[34mdef\u001b[39;49;00m \u001b[32m__init__\u001b[39;49;00m(\u001b[36mself\u001b[39;49;00m, embedding_dim, hidden_dim, vocab_size):\r\n",
      "        \u001b[33m\"\"\"\u001b[39;49;00m\r\n",
      "\u001b[33m        Initialize the model by settingg up the various layers.\u001b[39;49;00m\r\n",
      "\u001b[33m        \"\"\"\u001b[39;49;00m\r\n",
      "        \u001b[36msuper\u001b[39;49;00m(LSTMClassifier, \u001b[36mself\u001b[39;49;00m).\u001b[32m__init__\u001b[39;49;00m()\r\n",
      "\r\n",
      "        \u001b[36mself\u001b[39;49;00m.embedding = nn.Embedding(vocab_size, embedding_dim, padding_idx=\u001b[34m0\u001b[39;49;00m)\r\n",
      "        \u001b[36mself\u001b[39;49;00m.lstm = nn.LSTM(embedding_dim, hidden_dim)\r\n",
      "        \u001b[36mself\u001b[39;49;00m.dense = nn.Linear(in_features=hidden_dim, out_features=\u001b[34m1\u001b[39;49;00m)\r\n",
      "        \u001b[36mself\u001b[39;49;00m.sig = nn.Sigmoid()\r\n",
      "        \r\n",
      "        \u001b[36mself\u001b[39;49;00m.word_dict = \u001b[34mNone\u001b[39;49;00m\r\n",
      "\r\n",
      "    \u001b[34mdef\u001b[39;49;00m \u001b[32mforward\u001b[39;49;00m(\u001b[36mself\u001b[39;49;00m, x):\r\n",
      "        \u001b[33m\"\"\"\u001b[39;49;00m\r\n",
      "\u001b[33m        Perform a forward pass of our model on some input.\u001b[39;49;00m\r\n",
      "\u001b[33m        \"\"\"\u001b[39;49;00m\r\n",
      "        x = x.t()\r\n",
      "        lengths = x[\u001b[34m0\u001b[39;49;00m,:]\r\n",
      "        reviews = x[\u001b[34m1\u001b[39;49;00m:,:]\r\n",
      "        embeds = \u001b[36mself\u001b[39;49;00m.embedding(reviews)\r\n",
      "        lstm_out, _ = \u001b[36mself\u001b[39;49;00m.lstm(embeds)\r\n",
      "        out = \u001b[36mself\u001b[39;49;00m.dense(lstm_out)\r\n",
      "        out = out[lengths - \u001b[34m1\u001b[39;49;00m, \u001b[36mrange\u001b[39;49;00m(\u001b[36mlen\u001b[39;49;00m(lengths))]\r\n",
      "        \u001b[34mreturn\u001b[39;49;00m \u001b[36mself\u001b[39;49;00m.sig(out.squeeze())\r\n"
     ]
    }
   ],
   "source": [
    "!pygmentize train/model.py"
   ]
  },
  {
   "cell_type": "markdown",
   "metadata": {},
   "source": [
    "The important takeaway from the implementation provided is that there are three parameters that we may wish to tweak to improve the performance of our model. These are the embedding dimension, the hidden dimension and the size of the vocabulary. We will likely want to make these parameters configurable in the training script so that if we wish to modify them we do not need to modify the script itself. We will see how to do this later on. To start we will write some of the training code in the notebook so that we can more easily diagnose any issues that arise.\n",
    "\n",
    "First we will load a small portion of the training data set to use as a sample. It would be very time consuming to try and train the model completely in the notebook as we do not have access to a gpu and the compute instance that we are using is not particularly powerful. However, we can work on a small bit of the data to get a feel for how our training script is behaving."
   ]
  },
  {
   "cell_type": "code",
   "execution_count": 24,
   "metadata": {},
   "outputs": [],
   "source": [
    "import torch\n",
    "import torch.utils.data\n",
    "\n",
    "# Read in only the first 250 rows\n",
    "train_sample = pd.read_csv(os.path.join(data_dir, 'train.csv'), header=None, names=None, nrows=250)\n",
    "\n",
    "# Turn the input pandas dataframe into tensors\n",
    "train_sample_y = torch.from_numpy(train_sample[[0]].values).float().squeeze()\n",
    "train_sample_X = torch.from_numpy(train_sample.drop([0], axis=1).values).long()\n",
    "\n",
    "# Build the dataset\n",
    "train_sample_ds = torch.utils.data.TensorDataset(train_sample_X, train_sample_y)\n",
    "# Build the dataloader\n",
    "train_sample_dl = torch.utils.data.DataLoader(train_sample_ds, batch_size=50)"
   ]
  },
  {
   "cell_type": "markdown",
   "metadata": {},
   "source": [
    "### (TODO) Writing the training method\n",
    "\n",
    "Next we need to write the training code itself. This should be very similar to training methods that you have written before to train PyTorch models. We will leave any difficult aspects such as model saving / loading and parameter loading until a little later."
   ]
  },
  {
   "cell_type": "code",
   "execution_count": 25,
   "metadata": {},
   "outputs": [],
   "source": [
    "def train(model, train_loader, epochs, optimizer, loss_fn, device):\n",
    "    for epoch in range(1, epochs + 1):\n",
    "        \n",
    "        model.train()\n",
    "        total_loss = 0\n",
    "        \n",
    "        for batch in train_loader:         \n",
    "            batch_X, batch_y = batch\n",
    "            \n",
    "            batch_X = batch_X.to(device)\n",
    "            batch_y = batch_y.to(device)\n",
    "            \n",
    "            # TODO: Complete this train method to train the model provided.\n",
    "            optimizer.zero_grad()\n",
    "            output = model(batch_X)\n",
    "            loss = loss_fn(output, batch_y)\n",
    "            loss.backward()\n",
    "            optimizer.step()\n",
    "            \n",
    "            \n",
    "            total_loss += loss.data.item()\n",
    "        print(\"Epoch: {}, BCELoss: {}\".format(epoch, total_loss / len(train_loader)))"
   ]
  },
  {
   "cell_type": "markdown",
   "metadata": {},
   "source": [
    "Supposing we have the training method above, we will test that it is working by writing a bit of code in the notebook that executes our training method on the small sample training set that we loaded earlier. The reason for doing this in the notebook is so that we have an opportunity to fix any errors that arise early when they are easier to diagnose."
   ]
  },
  {
   "cell_type": "code",
   "execution_count": 26,
   "metadata": {},
   "outputs": [
    {
     "name": "stdout",
     "output_type": "stream",
     "text": [
      "Epoch: 1, BCELoss: 0.6964941143989563\n",
      "Epoch: 2, BCELoss: 0.6871878862380981\n",
      "Epoch: 3, BCELoss: 0.6793039441108704\n",
      "Epoch: 4, BCELoss: 0.670680832862854\n",
      "Epoch: 5, BCELoss: 0.6601067304611206\n"
     ]
    }
   ],
   "source": [
    "import torch.optim as optim\n",
    "from train.model import LSTMClassifier\n",
    "\n",
    "device = torch.device(\"cuda\" if torch.cuda.is_available() else \"cpu\")\n",
    "model = LSTMClassifier(32, 100, 5000).to(device)\n",
    "optimizer = optim.Adam(model.parameters())\n",
    "loss_fn = torch.nn.BCELoss()\n",
    "\n",
    "train(model, train_sample_dl, 5, optimizer, loss_fn, device)"
   ]
  },
  {
   "cell_type": "markdown",
   "metadata": {},
   "source": [
    "In order to construct a PyTorch model using SageMaker we must provide SageMaker with a training script. We may optionally include a directory which will be copied to the container and from which our training code will be run. When the training container is executed it will check the uploaded directory (if there is one) for a `requirements.txt` file and install any required Python libraries, after which the training script will be run."
   ]
  },
  {
   "cell_type": "markdown",
   "metadata": {},
   "source": [
    "### (TODO) Training the model\n",
    "\n",
    "When a PyTorch model is constructed in SageMaker, an entry point must be specified. This is the Python file which will be executed when the model is trained. Inside of the `train` directory is a file called `train.py` which has been provided and which contains most of the necessary code to train our model. The only thing that is missing is the implementation of the `train()` method which you wrote earlier in this notebook.\n",
    "\n",
    "**TODO**: Copy the `train()` method written above and paste it into the `train/train.py` file where required.\n",
    "\n",
    "The way that SageMaker passes hyperparameters to the training script is by way of arguments. These arguments can then be parsed and used in the training script. To see how this is done take a look at the provided `train/train.py` file."
   ]
  },
  {
   "cell_type": "code",
   "execution_count": 27,
   "metadata": {},
   "outputs": [],
   "source": [
    "from sagemaker.pytorch import PyTorch\n",
    "\n",
    "estimator = PyTorch(entry_point=\"train.py\",\n",
    "                    source_dir=\"train\",\n",
    "                    role=role,\n",
    "                    framework_version='0.4.0',\n",
    "                    train_instance_count=1,\n",
    "                    train_instance_type='ml.p2.xlarge',\n",
    "                    hyperparameters={\n",
    "                        'epochs': 10,\n",
    "                        'hidden_dim': 200,\n",
    "                    })"
   ]
  },
  {
   "cell_type": "code",
   "execution_count": 32,
   "metadata": {},
   "outputs": [
    {
     "name": "stderr",
     "output_type": "stream",
     "text": [
      "'create_image_uri' will be deprecated in favor of 'ImageURIProvider' class in SageMaker Python SDK v2.\n",
      "'s3_input' class will be renamed to 'TrainingInput' in SageMaker Python SDK v2.\n",
      "'create_image_uri' will be deprecated in favor of 'ImageURIProvider' class in SageMaker Python SDK v2.\n"
     ]
    },
    {
     "name": "stdout",
     "output_type": "stream",
     "text": [
      "2021-01-26 04:29:48 Starting - Starting the training job...\n",
      "2021-01-26 04:29:50 Starting - Launching requested ML instances......\n",
      "2021-01-26 04:30:57 Starting - Preparing the instances for training......\n",
      "2021-01-26 04:32:14 Downloading - Downloading input data......\n",
      "2021-01-26 04:32:51 Training - Downloading the training image..\u001b[34mbash: cannot set terminal process group (-1): Inappropriate ioctl for device\u001b[0m\n",
      "\u001b[34mbash: no job control in this shell\u001b[0m\n",
      "\u001b[34m2021-01-26 04:33:21,425 sagemaker-containers INFO     Imported framework sagemaker_pytorch_container.training\u001b[0m\n",
      "\u001b[34m2021-01-26 04:33:21,452 sagemaker_pytorch_container.training INFO     Block until all host DNS lookups succeed.\u001b[0m\n",
      "\u001b[34m2021-01-26 04:33:24,479 sagemaker_pytorch_container.training INFO     Invoking user training script.\u001b[0m\n",
      "\u001b[34m2021-01-26 04:33:24,755 sagemaker-containers INFO     Module train does not provide a setup.py. \u001b[0m\n",
      "\u001b[34mGenerating setup.py\u001b[0m\n",
      "\u001b[34m2021-01-26 04:33:24,755 sagemaker-containers INFO     Generating setup.cfg\u001b[0m\n",
      "\u001b[34m2021-01-26 04:33:24,756 sagemaker-containers INFO     Generating MANIFEST.in\u001b[0m\n",
      "\u001b[34m2021-01-26 04:33:24,756 sagemaker-containers INFO     Installing module with the following command:\u001b[0m\n",
      "\u001b[34m/usr/bin/python -m pip install -U . -r requirements.txt\u001b[0m\n",
      "\u001b[34mProcessing /opt/ml/code\u001b[0m\n",
      "\u001b[34mCollecting pandas (from -r requirements.txt (line 1))\n",
      "  Downloading https://files.pythonhosted.org/packages/74/24/0cdbf8907e1e3bc5a8da03345c23cbed7044330bb8f73bb12e711a640a00/pandas-0.24.2-cp35-cp35m-manylinux1_x86_64.whl (10.0MB)\u001b[0m\n",
      "\u001b[34mCollecting numpy (from -r requirements.txt (line 2))\n",
      "  Downloading https://files.pythonhosted.org/packages/b5/36/88723426b4ff576809fec7d73594fe17a35c27f8d01f93637637a29ae25b/numpy-1.18.5-cp35-cp35m-manylinux1_x86_64.whl (19.9MB)\u001b[0m\n",
      "\u001b[34mCollecting nltk (from -r requirements.txt (line 3))\n",
      "  Downloading https://files.pythonhosted.org/packages/92/75/ce35194d8e3022203cca0d2f896dbb88689f9b3fce8e9f9cff942913519d/nltk-3.5.zip (1.4MB)\u001b[0m\n",
      "\u001b[34mCollecting beautifulsoup4 (from -r requirements.txt (line 4))\n",
      "  Downloading https://files.pythonhosted.org/packages/d1/41/e6495bd7d3781cee623ce23ea6ac73282a373088fcd0ddc809a047b18eae/beautifulsoup4-4.9.3-py3-none-any.whl (115kB)\u001b[0m\n",
      "\u001b[34mCollecting html5lib (from -r requirements.txt (line 5))\n",
      "  Downloading https://files.pythonhosted.org/packages/6c/dd/a834df6482147d48e225a49515aabc28974ad5a4ca3215c18a882565b028/html5lib-1.1-py2.py3-none-any.whl (112kB)\u001b[0m\n",
      "\u001b[34mRequirement already satisfied, skipping upgrade: python-dateutil>=2.5.0 in /usr/local/lib/python3.5/dist-packages (from pandas->-r requirements.txt (line 1)) (2.7.5)\u001b[0m\n",
      "\u001b[34mCollecting pytz>=2011k (from pandas->-r requirements.txt (line 1))\n",
      "  Downloading https://files.pythonhosted.org/packages/89/06/2c2d3034b4d6bf22f2a4ae546d16925898658a33b4400cfb7e2c1e2871a3/pytz-2020.5-py2.py3-none-any.whl (510kB)\u001b[0m\n",
      "\u001b[34mRequirement already satisfied, skipping upgrade: click in /usr/local/lib/python3.5/dist-packages (from nltk->-r requirements.txt (line 3)) (7.0)\u001b[0m\n",
      "\u001b[34mCollecting joblib (from nltk->-r requirements.txt (line 3))\n",
      "  Downloading https://files.pythonhosted.org/packages/28/5c/cf6a2b65a321c4a209efcdf64c2689efae2cb62661f8f6f4bb28547cf1bf/joblib-0.14.1-py2.py3-none-any.whl (294kB)\u001b[0m\n",
      "\u001b[34mCollecting regex (from nltk->-r requirements.txt (line 3))\u001b[0m\n",
      "\u001b[34m  Downloading https://files.pythonhosted.org/packages/2e/e4/3447fed9ab29944333f48730ecff4dca92f0868c5b188d6ab2b2078e32c2/regex-2020.11.13.tar.gz (694kB)\u001b[0m\n",
      "\u001b[34mCollecting tqdm (from nltk->-r requirements.txt (line 3))\u001b[0m\n",
      "\u001b[34m  Downloading https://files.pythonhosted.org/packages/80/02/8f8880a4fd6625461833abcf679d4c12a44c76f9925f92bf212bb6cefaad/tqdm-4.56.0-py2.py3-none-any.whl (72kB)\u001b[0m\n",
      "\u001b[34mCollecting soupsieve>1.2; python_version >= \"3.0\" (from beautifulsoup4->-r requirements.txt (line 4))\n",
      "  Downloading https://files.pythonhosted.org/packages/02/fb/1c65691a9aeb7bd6ac2aa505b84cb8b49ac29c976411c6ab3659425e045f/soupsieve-2.1-py3-none-any.whl\u001b[0m\n",
      "\u001b[34mCollecting webencodings (from html5lib->-r requirements.txt (line 5))\n",
      "  Downloading https://files.pythonhosted.org/packages/f4/24/2a3e3df732393fed8b3ebf2ec078f05546de641fe1b667ee316ec1dcf3b7/webencodings-0.5.1-py2.py3-none-any.whl\u001b[0m\n",
      "\u001b[34mRequirement already satisfied, skipping upgrade: six>=1.9 in /usr/local/lib/python3.5/dist-packages (from html5lib->-r requirements.txt (line 5)) (1.11.0)\u001b[0m\n",
      "\u001b[34mBuilding wheels for collected packages: nltk, train, regex\n",
      "  Running setup.py bdist_wheel for nltk: started\u001b[0m\n",
      "\u001b[34m  Running setup.py bdist_wheel for nltk: finished with status 'done'\n",
      "  Stored in directory: /root/.cache/pip/wheels/ae/8c/3f/b1fe0ba04555b08b57ab52ab7f86023639a526d8bc8d384306\n",
      "  Running setup.py bdist_wheel for train: started\n",
      "  Running setup.py bdist_wheel for train: finished with status 'done'\n",
      "  Stored in directory: /tmp/pip-ephem-wheel-cache-gw2b3wt1/wheels/35/24/16/37574d11bf9bde50616c67372a334f94fa8356bc7164af8ca3\n",
      "  Running setup.py bdist_wheel for regex: started\u001b[0m\n",
      "\n",
      "2021-01-26 04:33:20 Training - Training image download completed. Training in progress.\u001b[34m  Running setup.py bdist_wheel for regex: finished with status 'done'\n",
      "  Stored in directory: /root/.cache/pip/wheels/27/f6/66/a4243e485a0ebc73dc59033ae26c48e82526f77dbfe158ac59\u001b[0m\n",
      "\u001b[34mSuccessfully built nltk train regex\u001b[0m\n",
      "\u001b[34mInstalling collected packages: numpy, pytz, pandas, joblib, regex, tqdm, nltk, soupsieve, beautifulsoup4, webencodings, html5lib, train\n",
      "  Found existing installation: numpy 1.15.4\u001b[0m\n",
      "\u001b[34m    Uninstalling numpy-1.15.4:\n",
      "      Successfully uninstalled numpy-1.15.4\u001b[0m\n",
      "\u001b[34mSuccessfully installed beautifulsoup4-4.9.3 html5lib-1.1 joblib-0.14.1 nltk-3.5 numpy-1.18.5 pandas-0.24.2 pytz-2020.5 regex-2020.11.13 soupsieve-2.1 tqdm-4.56.0 train-1.0.0 webencodings-0.5.1\u001b[0m\n",
      "\u001b[34mYou are using pip version 18.1, however version 20.3.4 is available.\u001b[0m\n",
      "\u001b[34mYou should consider upgrading via the 'pip install --upgrade pip' command.\u001b[0m\n",
      "\u001b[34m2021-01-26 04:33:49,463 sagemaker-containers INFO     Invoking user script\n",
      "\u001b[0m\n",
      "\u001b[34mTraining Env:\n",
      "\u001b[0m\n",
      "\u001b[34m{\n",
      "    \"input_data_config\": {\n",
      "        \"training\": {\n",
      "            \"TrainingInputMode\": \"File\",\n",
      "            \"S3DistributionType\": \"FullyReplicated\",\n",
      "            \"RecordWrapperType\": \"None\"\n",
      "        }\n",
      "    },\n",
      "    \"user_entry_point\": \"train.py\",\n",
      "    \"current_host\": \"algo-1\",\n",
      "    \"input_config_dir\": \"/opt/ml/input/config\",\n",
      "    \"resource_config\": {\n",
      "        \"network_interface_name\": \"eth0\",\n",
      "        \"current_host\": \"algo-1\",\n",
      "        \"hosts\": [\n",
      "            \"algo-1\"\n",
      "        ]\n",
      "    },\n",
      "    \"hyperparameters\": {\n",
      "        \"epochs\": 10,\n",
      "        \"hidden_dim\": 200\n",
      "    },\n",
      "    \"hosts\": [\n",
      "        \"algo-1\"\n",
      "    ],\n",
      "    \"framework_module\": \"sagemaker_pytorch_container.training:main\",\n",
      "    \"additional_framework_parameters\": {},\n",
      "    \"log_level\": 20,\n",
      "    \"output_data_dir\": \"/opt/ml/output/data\",\n",
      "    \"job_name\": \"sagemaker-pytorch-2021-01-26-04-29-48-418\",\n",
      "    \"input_dir\": \"/opt/ml/input\",\n",
      "    \"module_name\": \"train\",\n",
      "    \"num_cpus\": 4,\n",
      "    \"model_dir\": \"/opt/ml/model\",\n",
      "    \"network_interface_name\": \"eth0\",\n",
      "    \"module_dir\": \"s3://sagemaker-us-east-2-206186991400/sagemaker-pytorch-2021-01-26-04-29-48-418/source/sourcedir.tar.gz\",\n",
      "    \"num_gpus\": 1,\n",
      "    \"output_intermediate_dir\": \"/opt/ml/output/intermediate\",\n",
      "    \"output_dir\": \"/opt/ml/output\",\n",
      "    \"channel_input_dirs\": {\n",
      "        \"training\": \"/opt/ml/input/data/training\"\n",
      "    }\u001b[0m\n",
      "\u001b[34m}\n",
      "\u001b[0m\n",
      "\u001b[34mEnvironment variables:\n",
      "\u001b[0m\n",
      "\u001b[34mSM_OUTPUT_DATA_DIR=/opt/ml/output/data\u001b[0m\n",
      "\u001b[34mSM_MODEL_DIR=/opt/ml/model\u001b[0m\n",
      "\u001b[34mSM_CURRENT_HOST=algo-1\u001b[0m\n",
      "\u001b[34mSM_INPUT_DATA_CONFIG={\"training\":{\"RecordWrapperType\":\"None\",\"S3DistributionType\":\"FullyReplicated\",\"TrainingInputMode\":\"File\"}}\u001b[0m\n",
      "\u001b[34mSM_MODULE_NAME=train\u001b[0m\n",
      "\u001b[34mSM_HOSTS=[\"algo-1\"]\u001b[0m\n",
      "\u001b[34mSM_CHANNEL_TRAINING=/opt/ml/input/data/training\u001b[0m\n",
      "\u001b[34mSM_HP_EPOCHS=10\u001b[0m\n",
      "\u001b[34mSM_HP_HIDDEN_DIM=200\u001b[0m\n",
      "\u001b[34mSM_NETWORK_INTERFACE_NAME=eth0\u001b[0m\n",
      "\u001b[34mSM_FRAMEWORK_PARAMS={}\u001b[0m\n",
      "\u001b[34mSM_LOG_LEVEL=20\u001b[0m\n",
      "\u001b[34mSM_NUM_CPUS=4\u001b[0m\n",
      "\u001b[34mSM_USER_ARGS=[\"--epochs\",\"10\",\"--hidden_dim\",\"200\"]\u001b[0m\n",
      "\u001b[34mSM_TRAINING_ENV={\"additional_framework_parameters\":{},\"channel_input_dirs\":{\"training\":\"/opt/ml/input/data/training\"},\"current_host\":\"algo-1\",\"framework_module\":\"sagemaker_pytorch_container.training:main\",\"hosts\":[\"algo-1\"],\"hyperparameters\":{\"epochs\":10,\"hidden_dim\":200},\"input_config_dir\":\"/opt/ml/input/config\",\"input_data_config\":{\"training\":{\"RecordWrapperType\":\"None\",\"S3DistributionType\":\"FullyReplicated\",\"TrainingInputMode\":\"File\"}},\"input_dir\":\"/opt/ml/input\",\"job_name\":\"sagemaker-pytorch-2021-01-26-04-29-48-418\",\"log_level\":20,\"model_dir\":\"/opt/ml/model\",\"module_dir\":\"s3://sagemaker-us-east-2-206186991400/sagemaker-pytorch-2021-01-26-04-29-48-418/source/sourcedir.tar.gz\",\"module_name\":\"train\",\"network_interface_name\":\"eth0\",\"num_cpus\":4,\"num_gpus\":1,\"output_data_dir\":\"/opt/ml/output/data\",\"output_dir\":\"/opt/ml/output\",\"output_intermediate_dir\":\"/opt/ml/output/intermediate\",\"resource_config\":{\"current_host\":\"algo-1\",\"hosts\":[\"algo-1\"],\"network_interface_name\":\"eth0\"},\"user_entry_point\":\"train.py\"}\u001b[0m\n",
      "\u001b[34mSM_INPUT_CONFIG_DIR=/opt/ml/input/config\u001b[0m\n",
      "\u001b[34mSM_OUTPUT_INTERMEDIATE_DIR=/opt/ml/output/intermediate\u001b[0m\n",
      "\u001b[34mSM_NUM_GPUS=1\u001b[0m\n",
      "\u001b[34mSM_INPUT_DIR=/opt/ml/input\u001b[0m\n",
      "\u001b[34mSM_OUTPUT_DIR=/opt/ml/output\u001b[0m\n",
      "\u001b[34mSM_USER_ENTRY_POINT=train.py\u001b[0m\n",
      "\u001b[34mSM_FRAMEWORK_MODULE=sagemaker_pytorch_container.training:main\u001b[0m\n",
      "\u001b[34mSM_HPS={\"epochs\":10,\"hidden_dim\":200}\u001b[0m\n",
      "\u001b[34mSM_RESOURCE_CONFIG={\"current_host\":\"algo-1\",\"hosts\":[\"algo-1\"],\"network_interface_name\":\"eth0\"}\u001b[0m\n",
      "\u001b[34mSM_CHANNELS=[\"training\"]\u001b[0m\n",
      "\u001b[34mPYTHONPATH=/usr/local/bin:/usr/lib/python35.zip:/usr/lib/python3.5:/usr/lib/python3.5/plat-x86_64-linux-gnu:/usr/lib/python3.5/lib-dynload:/usr/local/lib/python3.5/dist-packages:/usr/lib/python3/dist-packages\u001b[0m\n",
      "\u001b[34mSM_MODULE_DIR=s3://sagemaker-us-east-2-206186991400/sagemaker-pytorch-2021-01-26-04-29-48-418/source/sourcedir.tar.gz\n",
      "\u001b[0m\n",
      "\u001b[34mInvoking script with the following command:\n",
      "\u001b[0m\n",
      "\u001b[34m/usr/bin/python -m train --epochs 10 --hidden_dim 200\n",
      "\n",
      "\u001b[0m\n",
      "\u001b[34mUsing device cuda.\u001b[0m\n",
      "\u001b[34mGet train data loader.\u001b[0m\n",
      "\u001b[34mModel loaded with embedding_dim 32, hidden_dim 200, vocab_size 5000.\u001b[0m\n",
      "\u001b[34mEpoch: 1, BCELoss: 0.6743835977145604\u001b[0m\n",
      "\u001b[34mEpoch: 2, BCELoss: 0.5862234052346678\u001b[0m\n",
      "\u001b[34mEpoch: 3, BCELoss: 0.5086326550464241\u001b[0m\n",
      "\u001b[34mEpoch: 4, BCELoss: 0.435241595214727\u001b[0m\n",
      "\u001b[34mEpoch: 5, BCELoss: 0.3796680083080214\u001b[0m\n",
      "\u001b[34mEpoch: 6, BCELoss: 0.3448741788766822\u001b[0m\n",
      "\u001b[34mEpoch: 7, BCELoss: 0.3269060576448635\u001b[0m\n",
      "\u001b[34mEpoch: 8, BCELoss: 0.2998252133933865\u001b[0m\n",
      "\u001b[34mEpoch: 9, BCELoss: 0.27798148229414105\u001b[0m\n",
      "\u001b[34mEpoch: 10, BCELoss: 0.26658104846672137\u001b[0m\n",
      "\u001b[34m2021-01-26 04:36:54,163 sagemaker-containers INFO     Reporting training SUCCESS\u001b[0m\n",
      "\n",
      "2021-01-26 04:37:06 Uploading - Uploading generated training model\n",
      "2021-01-26 04:37:06 Completed - Training job completed\n",
      "Training seconds: 292\n",
      "Billable seconds: 292\n"
     ]
    }
   ],
   "source": [
    "estimator.fit({'training': input_data})"
   ]
  },
  {
   "cell_type": "markdown",
   "metadata": {},
   "source": [
    "## Step 5: Testing the model\n",
    "\n",
    "As mentioned at the top of this notebook, we will be testing this model by first deploying it and then sending the testing data to the deployed endpoint. We will do this so that we can make sure that the deployed model is working correctly.\n",
    "\n",
    "## Step 6: Deploy the model for testing\n",
    "\n",
    "Now that we have trained our model, we would like to test it to see how it performs. Currently our model takes input of the form `review_length, review[500]` where `review[500]` is a sequence of `500` integers which describe the words present in the review, encoded using `word_dict`. Fortunately for us, SageMaker provides built-in inference code for models with simple inputs such as this.\n",
    "\n",
    "There is one thing that we need to provide, however, and that is a function which loads the saved model. This function must be called `model_fn()` and takes as its only parameter a path to the directory where the model artifacts are stored. This function must also be present in the python file which we specified as the entry point. In our case the model loading function has been provided and so no changes need to be made.\n",
    "\n",
    "**NOTE**: When the built-in inference code is run it must import the `model_fn()` method from the `train.py` file. This is why the training code is wrapped in a main guard ( ie, `if __name__ == '__main__':` )\n",
    "\n",
    "Since we don't need to change anything in the code that was uploaded during training, we can simply deploy the current model as-is.\n",
    "\n",
    "**NOTE:** When deploying a model you are asking SageMaker to launch an compute instance that will wait for data to be sent to it. As a result, this compute instance will continue to run until *you* shut it down. This is important to know since the cost of a deployed endpoint depends on how long it has been running for.\n",
    "\n",
    "In other words **If you are no longer using a deployed endpoint, shut it down!**\n",
    "\n",
    "**TODO:** Deploy the trained model."
   ]
  },
  {
   "cell_type": "code",
   "execution_count": 33,
   "metadata": {},
   "outputs": [
    {
     "name": "stderr",
     "output_type": "stream",
     "text": [
      "Parameter image will be renamed to image_uri in SageMaker Python SDK v2.\n",
      "'create_image_uri' will be deprecated in favor of 'ImageURIProvider' class in SageMaker Python SDK v2.\n"
     ]
    },
    {
     "name": "stdout",
     "output_type": "stream",
     "text": [
      "---------------!"
     ]
    }
   ],
   "source": [
    "# TODO: Deploy the trained model\n",
    "predictor = estimator.deploy(initial_instance_count=1, instance_type='ml.m4.xlarge')"
   ]
  },
  {
   "cell_type": "markdown",
   "metadata": {},
   "source": [
    "## Step 7 - Use the model for testing\n",
    "\n",
    "Once deployed, we can read in the test data and send it off to our deployed model to get some results. Once we collect all of the results we can determine how accurate our model is."
   ]
  },
  {
   "cell_type": "code",
   "execution_count": 34,
   "metadata": {},
   "outputs": [],
   "source": [
    "test_X = pd.concat([pd.DataFrame(test_X_len), pd.DataFrame(test_X)], axis=1)"
   ]
  },
  {
   "cell_type": "code",
   "execution_count": 35,
   "metadata": {},
   "outputs": [],
   "source": [
    "# We split the data into chunks and send each chunk seperately, accumulating the results.\n",
    "\n",
    "def predict(data, rows=512):\n",
    "    split_array = np.array_split(data, int(data.shape[0] / float(rows) + 1))\n",
    "    predictions = np.array([])\n",
    "    for array in split_array:\n",
    "        predictions = np.append(predictions, predictor.predict(array))\n",
    "    \n",
    "    return predictions"
   ]
  },
  {
   "cell_type": "code",
   "execution_count": 36,
   "metadata": {},
   "outputs": [],
   "source": [
    "predictions = predict(test_X.values)\n",
    "predictions = [round(num) for num in predictions]"
   ]
  },
  {
   "cell_type": "code",
   "execution_count": 37,
   "metadata": {},
   "outputs": [
    {
     "data": {
      "text/plain": [
       "0.85524"
      ]
     },
     "execution_count": 37,
     "metadata": {},
     "output_type": "execute_result"
    }
   ],
   "source": [
    "from sklearn.metrics import accuracy_score\n",
    "accuracy_score(test_y, predictions)"
   ]
  },
  {
   "cell_type": "markdown",
   "metadata": {},
   "source": [
    "**Question:** How does this model compare to the XGBoost model you created earlier? Why might these two models perform differently on this dataset? Which do *you* think is better for sentiment analysis?"
   ]
  },
  {
   "cell_type": "markdown",
   "metadata": {},
   "source": [
    "**Answer:** This model got accuracy of about 85.5% which is very similar to the results of XGBoost. Even though these models perform relatively similar, in the long run, the RNN might be better than XGBoost since RNN uses an LSTM layers, which allows for some context retention and better results."
   ]
  },
  {
   "cell_type": "markdown",
   "metadata": {},
   "source": [
    "### (TODO) More testing\n",
    "\n",
    "We now have a trained model which has been deployed and which we can send processed reviews to and which returns the predicted sentiment. However, ultimately we would like to be able to send our model an unprocessed review. That is, we would like to send the review itself as a string. For example, suppose we wish to send the following review to our model."
   ]
  },
  {
   "cell_type": "code",
   "execution_count": 41,
   "metadata": {},
   "outputs": [],
   "source": [
    "test_review = 'The simplest pleasures in life are the best, and this film is one of them. Combining a rather basic storyline of love and adventure this movie transcends the usual weekend fair with wit and unmitigated charm.'"
   ]
  },
  {
   "cell_type": "markdown",
   "metadata": {},
   "source": [
    "The question we now need to answer is, how do we send this review to our model?\n",
    "\n",
    "Recall in the first section of this notebook we did a bunch of data processing to the IMDb dataset. In particular, we did two specific things to the provided reviews.\n",
    " - Removed any html tags and stemmed the input\n",
    " - Encoded the review as a sequence of integers using `word_dict`\n",
    " \n",
    "In order process the review we will need to repeat these two steps.\n",
    "\n",
    "**TODO**: Using the `review_to_words` and `convert_and_pad` methods from section one, convert `test_review` into a numpy array `test_data` suitable to send to our model. Remember that our model expects input of the form `review_length, review[500]`."
   ]
  },
  {
   "cell_type": "code",
   "execution_count": 42,
   "metadata": {},
   "outputs": [],
   "source": [
    "# TODO: Convert test_review into a form usable by the model and save the results in test_data\n",
    "test_data = [np.array(convert_and_pad(word_dict, review_to_words(test_review))[0])]"
   ]
  },
  {
   "cell_type": "markdown",
   "metadata": {},
   "source": [
    "Now that we have processed the review, we can send the resulting array to our model to predict the sentiment of the review."
   ]
  },
  {
   "cell_type": "code",
   "execution_count": 43,
   "metadata": {},
   "outputs": [
    {
     "data": {
      "text/plain": [
       "array(0.5825182, dtype=float32)"
      ]
     },
     "execution_count": 43,
     "metadata": {},
     "output_type": "execute_result"
    }
   ],
   "source": [
    "predictor.predict(test_data)"
   ]
  },
  {
   "cell_type": "markdown",
   "metadata": {},
   "source": [
    "Since the return value of our model is close to `1`, we can be certain that the review we submitted is positive."
   ]
  },
  {
   "cell_type": "markdown",
   "metadata": {},
   "source": [
    "### Delete the endpoint\n",
    "\n",
    "Of course, just like in the XGBoost notebook, once we've deployed an endpoint it continues to run until we tell it to shut down. Since we are done using our endpoint for now, we can delete it."
   ]
  },
  {
   "cell_type": "code",
   "execution_count": 46,
   "metadata": {},
   "outputs": [
    {
     "name": "stderr",
     "output_type": "stream",
     "text": [
      "estimator.delete_endpoint() will be deprecated in SageMaker Python SDK v2. Please use the delete_endpoint() function on your predictor instead.\n"
     ]
    },
    {
     "ename": "ClientError",
     "evalue": "An error occurred (ValidationException) when calling the DeleteEndpoint operation: Could not find endpoint \"arn:aws:sagemaker:us-east-2:206186991400:endpoint/sagemaker-pytorch-2021-01-26-04-29-48-418\".",
     "output_type": "error",
     "traceback": [
      "\u001b[0;31m---------------------------------------------------------------------------\u001b[0m",
      "\u001b[0;31mClientError\u001b[0m                               Traceback (most recent call last)",
      "\u001b[0;32m<ipython-input-46-46ef5e5e8b7c>\u001b[0m in \u001b[0;36m<module>\u001b[0;34m\u001b[0m\n\u001b[0;32m----> 1\u001b[0;31m \u001b[0mestimator\u001b[0m\u001b[0;34m.\u001b[0m\u001b[0mdelete_endpoint\u001b[0m\u001b[0;34m(\u001b[0m\u001b[0;34m)\u001b[0m\u001b[0;34m\u001b[0m\u001b[0;34m\u001b[0m\u001b[0m\n\u001b[0m",
      "\u001b[0;32m~/anaconda3/envs/pytorch_p36/lib/python3.6/site-packages/sagemaker/estimator.py\u001b[0m in \u001b[0;36mdelete_endpoint\u001b[0;34m(self)\u001b[0m\n\u001b[1;32m    858\u001b[0m \u001b[0;34m\u001b[0m\u001b[0m\n\u001b[1;32m    859\u001b[0m         \u001b[0mself\u001b[0m\u001b[0;34m.\u001b[0m\u001b[0m_ensure_latest_training_job\u001b[0m\u001b[0;34m(\u001b[0m\u001b[0merror_message\u001b[0m\u001b[0;34m=\u001b[0m\u001b[0;34m\"Endpoint was not created yet\"\u001b[0m\u001b[0;34m)\u001b[0m\u001b[0;34m\u001b[0m\u001b[0;34m\u001b[0m\u001b[0m\n\u001b[0;32m--> 860\u001b[0;31m         \u001b[0mself\u001b[0m\u001b[0;34m.\u001b[0m\u001b[0msagemaker_session\u001b[0m\u001b[0;34m.\u001b[0m\u001b[0mdelete_endpoint\u001b[0m\u001b[0;34m(\u001b[0m\u001b[0mself\u001b[0m\u001b[0;34m.\u001b[0m\u001b[0mlatest_training_job\u001b[0m\u001b[0;34m.\u001b[0m\u001b[0mname\u001b[0m\u001b[0;34m)\u001b[0m\u001b[0;34m\u001b[0m\u001b[0;34m\u001b[0m\u001b[0m\n\u001b[0m\u001b[1;32m    861\u001b[0m \u001b[0;34m\u001b[0m\u001b[0m\n\u001b[1;32m    862\u001b[0m     def transformer(\n",
      "\u001b[0;32m~/anaconda3/envs/pytorch_p36/lib/python3.6/site-packages/sagemaker/session.py\u001b[0m in \u001b[0;36mdelete_endpoint\u001b[0;34m(self, endpoint_name)\u001b[0m\n\u001b[1;32m   2468\u001b[0m         \"\"\"\n\u001b[1;32m   2469\u001b[0m         \u001b[0mLOGGER\u001b[0m\u001b[0;34m.\u001b[0m\u001b[0minfo\u001b[0m\u001b[0;34m(\u001b[0m\u001b[0;34m\"Deleting endpoint with name: %s\"\u001b[0m\u001b[0;34m,\u001b[0m \u001b[0mendpoint_name\u001b[0m\u001b[0;34m)\u001b[0m\u001b[0;34m\u001b[0m\u001b[0;34m\u001b[0m\u001b[0m\n\u001b[0;32m-> 2470\u001b[0;31m         \u001b[0mself\u001b[0m\u001b[0;34m.\u001b[0m\u001b[0msagemaker_client\u001b[0m\u001b[0;34m.\u001b[0m\u001b[0mdelete_endpoint\u001b[0m\u001b[0;34m(\u001b[0m\u001b[0mEndpointName\u001b[0m\u001b[0;34m=\u001b[0m\u001b[0mendpoint_name\u001b[0m\u001b[0;34m)\u001b[0m\u001b[0;34m\u001b[0m\u001b[0;34m\u001b[0m\u001b[0m\n\u001b[0m\u001b[1;32m   2471\u001b[0m \u001b[0;34m\u001b[0m\u001b[0m\n\u001b[1;32m   2472\u001b[0m     \u001b[0;32mdef\u001b[0m \u001b[0mdelete_endpoint_config\u001b[0m\u001b[0;34m(\u001b[0m\u001b[0mself\u001b[0m\u001b[0;34m,\u001b[0m \u001b[0mendpoint_config_name\u001b[0m\u001b[0;34m)\u001b[0m\u001b[0;34m:\u001b[0m\u001b[0;34m\u001b[0m\u001b[0;34m\u001b[0m\u001b[0m\n",
      "\u001b[0;32m~/anaconda3/envs/pytorch_p36/lib/python3.6/site-packages/botocore/client.py\u001b[0m in \u001b[0;36m_api_call\u001b[0;34m(self, *args, **kwargs)\u001b[0m\n\u001b[1;32m    355\u001b[0m                     \"%s() only accepts keyword arguments.\" % py_operation_name)\n\u001b[1;32m    356\u001b[0m             \u001b[0;31m# The \"self\" in this scope is referring to the BaseClient.\u001b[0m\u001b[0;34m\u001b[0m\u001b[0;34m\u001b[0m\u001b[0;34m\u001b[0m\u001b[0m\n\u001b[0;32m--> 357\u001b[0;31m             \u001b[0;32mreturn\u001b[0m \u001b[0mself\u001b[0m\u001b[0;34m.\u001b[0m\u001b[0m_make_api_call\u001b[0m\u001b[0;34m(\u001b[0m\u001b[0moperation_name\u001b[0m\u001b[0;34m,\u001b[0m \u001b[0mkwargs\u001b[0m\u001b[0;34m)\u001b[0m\u001b[0;34m\u001b[0m\u001b[0;34m\u001b[0m\u001b[0m\n\u001b[0m\u001b[1;32m    358\u001b[0m \u001b[0;34m\u001b[0m\u001b[0m\n\u001b[1;32m    359\u001b[0m         \u001b[0m_api_call\u001b[0m\u001b[0;34m.\u001b[0m\u001b[0m__name__\u001b[0m \u001b[0;34m=\u001b[0m \u001b[0mstr\u001b[0m\u001b[0;34m(\u001b[0m\u001b[0mpy_operation_name\u001b[0m\u001b[0;34m)\u001b[0m\u001b[0;34m\u001b[0m\u001b[0;34m\u001b[0m\u001b[0m\n",
      "\u001b[0;32m~/anaconda3/envs/pytorch_p36/lib/python3.6/site-packages/botocore/client.py\u001b[0m in \u001b[0;36m_make_api_call\u001b[0;34m(self, operation_name, api_params)\u001b[0m\n\u001b[1;32m    674\u001b[0m             \u001b[0merror_code\u001b[0m \u001b[0;34m=\u001b[0m \u001b[0mparsed_response\u001b[0m\u001b[0;34m.\u001b[0m\u001b[0mget\u001b[0m\u001b[0;34m(\u001b[0m\u001b[0;34m\"Error\"\u001b[0m\u001b[0;34m,\u001b[0m \u001b[0;34m{\u001b[0m\u001b[0;34m}\u001b[0m\u001b[0;34m)\u001b[0m\u001b[0;34m.\u001b[0m\u001b[0mget\u001b[0m\u001b[0;34m(\u001b[0m\u001b[0;34m\"Code\"\u001b[0m\u001b[0;34m)\u001b[0m\u001b[0;34m\u001b[0m\u001b[0;34m\u001b[0m\u001b[0m\n\u001b[1;32m    675\u001b[0m             \u001b[0merror_class\u001b[0m \u001b[0;34m=\u001b[0m \u001b[0mself\u001b[0m\u001b[0;34m.\u001b[0m\u001b[0mexceptions\u001b[0m\u001b[0;34m.\u001b[0m\u001b[0mfrom_code\u001b[0m\u001b[0;34m(\u001b[0m\u001b[0merror_code\u001b[0m\u001b[0;34m)\u001b[0m\u001b[0;34m\u001b[0m\u001b[0;34m\u001b[0m\u001b[0m\n\u001b[0;32m--> 676\u001b[0;31m             \u001b[0;32mraise\u001b[0m \u001b[0merror_class\u001b[0m\u001b[0;34m(\u001b[0m\u001b[0mparsed_response\u001b[0m\u001b[0;34m,\u001b[0m \u001b[0moperation_name\u001b[0m\u001b[0;34m)\u001b[0m\u001b[0;34m\u001b[0m\u001b[0;34m\u001b[0m\u001b[0m\n\u001b[0m\u001b[1;32m    677\u001b[0m         \u001b[0;32melse\u001b[0m\u001b[0;34m:\u001b[0m\u001b[0;34m\u001b[0m\u001b[0;34m\u001b[0m\u001b[0m\n\u001b[1;32m    678\u001b[0m             \u001b[0;32mreturn\u001b[0m \u001b[0mparsed_response\u001b[0m\u001b[0;34m\u001b[0m\u001b[0;34m\u001b[0m\u001b[0m\n",
      "\u001b[0;31mClientError\u001b[0m: An error occurred (ValidationException) when calling the DeleteEndpoint operation: Could not find endpoint \"arn:aws:sagemaker:us-east-2:206186991400:endpoint/sagemaker-pytorch-2021-01-26-04-29-48-418\"."
     ]
    }
   ],
   "source": [
    "estimator.delete_endpoint()"
   ]
  },
  {
   "cell_type": "markdown",
   "metadata": {},
   "source": [
    "## Step 6 (again) - Deploy the model for the web app\n",
    "\n",
    "Now that we know that our model is working, it's time to create some custom inference code so that we can send the model a review which has not been processed and have it determine the sentiment of the review.\n",
    "\n",
    "As we saw above, by default the estimator which we created, when deployed, will use the entry script and directory which we provided when creating the model. However, since we now wish to accept a string as input and our model expects a processed review, we need to write some custom inference code.\n",
    "\n",
    "We will store the code that we write in the `serve` directory. Provided in this directory is the `model.py` file that we used to construct our model, a `utils.py` file which contains the `review_to_words` and `convert_and_pad` pre-processing functions which we used during the initial data processing, and `predict.py`, the file which will contain our custom inference code. Note also that `requirements.txt` is present which will tell SageMaker what Python libraries are required by our custom inference code.\n",
    "\n",
    "When deploying a PyTorch model in SageMaker, you are expected to provide four functions which the SageMaker inference container will use.\n",
    " - `model_fn`: This function is the same function that we used in the training script and it tells SageMaker how to load our model.\n",
    " - `input_fn`: This function receives the raw serialized input that has been sent to the model's endpoint and its job is to de-serialize and make the input available for the inference code.\n",
    " - `output_fn`: This function takes the output of the inference code and its job is to serialize this output and return it to the caller of the model's endpoint.\n",
    " - `predict_fn`: The heart of the inference script, this is where the actual prediction is done and is the function which you will need to complete.\n",
    "\n",
    "For the simple website that we are constructing during this project, the `input_fn` and `output_fn` methods are relatively straightforward. We only require being able to accept a string as input and we expect to return a single value as output. You might imagine though that in a more complex application the input or output may be image data or some other binary data which would require some effort to serialize.\n",
    "\n",
    "### (TODO) Writing inference code\n",
    "\n",
    "Before writing our custom inference code, we will begin by taking a look at the code which has been provided."
   ]
  },
  {
   "cell_type": "code",
   "execution_count": 47,
   "metadata": {},
   "outputs": [
    {
     "name": "stdout",
     "output_type": "stream",
     "text": [
      "\u001b[34mimport\u001b[39;49;00m \u001b[04m\u001b[36margparse\u001b[39;49;00m\r\n",
      "\u001b[34mimport\u001b[39;49;00m \u001b[04m\u001b[36mjson\u001b[39;49;00m\r\n",
      "\u001b[34mimport\u001b[39;49;00m \u001b[04m\u001b[36mos\u001b[39;49;00m\r\n",
      "\u001b[34mimport\u001b[39;49;00m \u001b[04m\u001b[36mpickle\u001b[39;49;00m\r\n",
      "\u001b[34mimport\u001b[39;49;00m \u001b[04m\u001b[36msys\u001b[39;49;00m\r\n",
      "\u001b[34mimport\u001b[39;49;00m \u001b[04m\u001b[36msagemaker_containers\u001b[39;49;00m\r\n",
      "\u001b[34mimport\u001b[39;49;00m \u001b[04m\u001b[36mpandas\u001b[39;49;00m \u001b[34mas\u001b[39;49;00m \u001b[04m\u001b[36mpd\u001b[39;49;00m\r\n",
      "\u001b[34mimport\u001b[39;49;00m \u001b[04m\u001b[36mnumpy\u001b[39;49;00m \u001b[34mas\u001b[39;49;00m \u001b[04m\u001b[36mnp\u001b[39;49;00m\r\n",
      "\u001b[34mimport\u001b[39;49;00m \u001b[04m\u001b[36mtorch\u001b[39;49;00m\r\n",
      "\u001b[34mimport\u001b[39;49;00m \u001b[04m\u001b[36mtorch\u001b[39;49;00m\u001b[04m\u001b[36m.\u001b[39;49;00m\u001b[04m\u001b[36mnn\u001b[39;49;00m \u001b[34mas\u001b[39;49;00m \u001b[04m\u001b[36mnn\u001b[39;49;00m\r\n",
      "\u001b[34mimport\u001b[39;49;00m \u001b[04m\u001b[36mtorch\u001b[39;49;00m\u001b[04m\u001b[36m.\u001b[39;49;00m\u001b[04m\u001b[36moptim\u001b[39;49;00m \u001b[34mas\u001b[39;49;00m \u001b[04m\u001b[36moptim\u001b[39;49;00m\r\n",
      "\u001b[34mimport\u001b[39;49;00m \u001b[04m\u001b[36mtorch\u001b[39;49;00m\u001b[04m\u001b[36m.\u001b[39;49;00m\u001b[04m\u001b[36mutils\u001b[39;49;00m\u001b[04m\u001b[36m.\u001b[39;49;00m\u001b[04m\u001b[36mdata\u001b[39;49;00m\r\n",
      "\r\n",
      "\u001b[34mfrom\u001b[39;49;00m \u001b[04m\u001b[36mmodel\u001b[39;49;00m \u001b[34mimport\u001b[39;49;00m LSTMClassifier\r\n",
      "\r\n",
      "\u001b[34mfrom\u001b[39;49;00m \u001b[04m\u001b[36mutils\u001b[39;49;00m \u001b[34mimport\u001b[39;49;00m review_to_words, convert_and_pad\r\n",
      "\r\n",
      "\u001b[34mdef\u001b[39;49;00m \u001b[32mmodel_fn\u001b[39;49;00m(model_dir):\r\n",
      "    \u001b[33m\"\"\"Load the PyTorch model from the `model_dir` directory.\"\"\"\u001b[39;49;00m\r\n",
      "    \u001b[36mprint\u001b[39;49;00m(\u001b[33m\"\u001b[39;49;00m\u001b[33mLoading model.\u001b[39;49;00m\u001b[33m\"\u001b[39;49;00m)\r\n",
      "\r\n",
      "    \u001b[37m# First, load the parameters used to create the model.\u001b[39;49;00m\r\n",
      "    model_info = {}\r\n",
      "    model_info_path = os.path.join(model_dir, \u001b[33m'\u001b[39;49;00m\u001b[33mmodel_info.pth\u001b[39;49;00m\u001b[33m'\u001b[39;49;00m)\r\n",
      "    \u001b[34mwith\u001b[39;49;00m \u001b[36mopen\u001b[39;49;00m(model_info_path, \u001b[33m'\u001b[39;49;00m\u001b[33mrb\u001b[39;49;00m\u001b[33m'\u001b[39;49;00m) \u001b[34mas\u001b[39;49;00m f:\r\n",
      "        model_info = torch.load(f)\r\n",
      "\r\n",
      "    \u001b[36mprint\u001b[39;49;00m(\u001b[33m\"\u001b[39;49;00m\u001b[33mmodel_info: \u001b[39;49;00m\u001b[33m{}\u001b[39;49;00m\u001b[33m\"\u001b[39;49;00m.format(model_info))\r\n",
      "\r\n",
      "    \u001b[37m# Determine the device and construct the model.\u001b[39;49;00m\r\n",
      "    device = torch.device(\u001b[33m\"\u001b[39;49;00m\u001b[33mcuda\u001b[39;49;00m\u001b[33m\"\u001b[39;49;00m \u001b[34mif\u001b[39;49;00m torch.cuda.is_available() \u001b[34melse\u001b[39;49;00m \u001b[33m\"\u001b[39;49;00m\u001b[33mcpu\u001b[39;49;00m\u001b[33m\"\u001b[39;49;00m)\r\n",
      "    model = LSTMClassifier(model_info[\u001b[33m'\u001b[39;49;00m\u001b[33membedding_dim\u001b[39;49;00m\u001b[33m'\u001b[39;49;00m], model_info[\u001b[33m'\u001b[39;49;00m\u001b[33mhidden_dim\u001b[39;49;00m\u001b[33m'\u001b[39;49;00m], model_info[\u001b[33m'\u001b[39;49;00m\u001b[33mvocab_size\u001b[39;49;00m\u001b[33m'\u001b[39;49;00m])\r\n",
      "\r\n",
      "    \u001b[37m# Load the store model parameters.\u001b[39;49;00m\r\n",
      "    model_path = os.path.join(model_dir, \u001b[33m'\u001b[39;49;00m\u001b[33mmodel.pth\u001b[39;49;00m\u001b[33m'\u001b[39;49;00m)\r\n",
      "    \u001b[34mwith\u001b[39;49;00m \u001b[36mopen\u001b[39;49;00m(model_path, \u001b[33m'\u001b[39;49;00m\u001b[33mrb\u001b[39;49;00m\u001b[33m'\u001b[39;49;00m) \u001b[34mas\u001b[39;49;00m f:\r\n",
      "        model.load_state_dict(torch.load(f))\r\n",
      "\r\n",
      "    \u001b[37m# Load the saved word_dict.\u001b[39;49;00m\r\n",
      "    word_dict_path = os.path.join(model_dir, \u001b[33m'\u001b[39;49;00m\u001b[33mword_dict.pkl\u001b[39;49;00m\u001b[33m'\u001b[39;49;00m)\r\n",
      "    \u001b[34mwith\u001b[39;49;00m \u001b[36mopen\u001b[39;49;00m(word_dict_path, \u001b[33m'\u001b[39;49;00m\u001b[33mrb\u001b[39;49;00m\u001b[33m'\u001b[39;49;00m) \u001b[34mas\u001b[39;49;00m f:\r\n",
      "        model.word_dict = pickle.load(f)\r\n",
      "\r\n",
      "    model.to(device).eval()\r\n",
      "\r\n",
      "    \u001b[36mprint\u001b[39;49;00m(\u001b[33m\"\u001b[39;49;00m\u001b[33mDone loading model.\u001b[39;49;00m\u001b[33m\"\u001b[39;49;00m)\r\n",
      "    \u001b[34mreturn\u001b[39;49;00m model\r\n",
      "\r\n",
      "\u001b[34mdef\u001b[39;49;00m \u001b[32minput_fn\u001b[39;49;00m(serialized_input_data, content_type):\r\n",
      "    \u001b[36mprint\u001b[39;49;00m(\u001b[33m'\u001b[39;49;00m\u001b[33mDeserializing the input data.\u001b[39;49;00m\u001b[33m'\u001b[39;49;00m)\r\n",
      "    \u001b[34mif\u001b[39;49;00m content_type == \u001b[33m'\u001b[39;49;00m\u001b[33mtext/plain\u001b[39;49;00m\u001b[33m'\u001b[39;49;00m:\r\n",
      "        data = serialized_input_data.decode(\u001b[33m'\u001b[39;49;00m\u001b[33mutf-8\u001b[39;49;00m\u001b[33m'\u001b[39;49;00m)\r\n",
      "        \u001b[34mreturn\u001b[39;49;00m data\r\n",
      "    \u001b[34mraise\u001b[39;49;00m \u001b[36mException\u001b[39;49;00m(\u001b[33m'\u001b[39;49;00m\u001b[33mRequested unsupported ContentType in content_type: \u001b[39;49;00m\u001b[33m'\u001b[39;49;00m + content_type)\r\n",
      "\r\n",
      "\u001b[34mdef\u001b[39;49;00m \u001b[32moutput_fn\u001b[39;49;00m(prediction_output, accept):\r\n",
      "    \u001b[36mprint\u001b[39;49;00m(\u001b[33m'\u001b[39;49;00m\u001b[33mSerializing the generated output.\u001b[39;49;00m\u001b[33m'\u001b[39;49;00m)\r\n",
      "    \u001b[34mreturn\u001b[39;49;00m \u001b[36mstr\u001b[39;49;00m(prediction_output)\r\n",
      "\r\n",
      "\u001b[34mdef\u001b[39;49;00m \u001b[32mpredict_fn\u001b[39;49;00m(input_data, model):\r\n",
      "    \u001b[36mprint\u001b[39;49;00m(\u001b[33m'\u001b[39;49;00m\u001b[33mInferring sentiment of input data.\u001b[39;49;00m\u001b[33m'\u001b[39;49;00m)\r\n",
      "\r\n",
      "    device = torch.device(\u001b[33m\"\u001b[39;49;00m\u001b[33mcuda\u001b[39;49;00m\u001b[33m\"\u001b[39;49;00m \u001b[34mif\u001b[39;49;00m torch.cuda.is_available() \u001b[34melse\u001b[39;49;00m \u001b[33m\"\u001b[39;49;00m\u001b[33mcpu\u001b[39;49;00m\u001b[33m\"\u001b[39;49;00m)\r\n",
      "    \r\n",
      "    \u001b[34mif\u001b[39;49;00m model.word_dict \u001b[35mis\u001b[39;49;00m \u001b[34mNone\u001b[39;49;00m:\r\n",
      "        \u001b[34mraise\u001b[39;49;00m \u001b[36mException\u001b[39;49;00m(\u001b[33m'\u001b[39;49;00m\u001b[33mModel has not been loaded properly, no word_dict.\u001b[39;49;00m\u001b[33m'\u001b[39;49;00m)\r\n",
      "    \r\n",
      "    \u001b[37m# TODO: Process input_data so that it is ready to be sent to our model.\u001b[39;49;00m\r\n",
      "    \u001b[37m#       You should produce two variables:\u001b[39;49;00m\r\n",
      "    \u001b[37m#         data_X   - A sequence of length 500 which represents the converted review\u001b[39;49;00m\r\n",
      "    \u001b[37m#         data_len - The length of the review\u001b[39;49;00m\r\n",
      "\r\n",
      "    \u001b[37m#data_X = None\u001b[39;49;00m\r\n",
      "    \u001b[37m#data_len = None\u001b[39;49;00m\r\n",
      "    data_X, data_len = convert_and_pad_data(model.word_dict, review_to_words(input_data))\r\n",
      "\r\n",
      "    \u001b[37m# Using data_X and data_len we construct an appropriate input tensor. Remember\u001b[39;49;00m\r\n",
      "    \u001b[37m# that our model expects input data of the form 'len, review[500]'.\u001b[39;49;00m\r\n",
      "    data_pack = np.hstack((data_len, data_X))\r\n",
      "    data_pack = data_pack.reshape(\u001b[34m1\u001b[39;49;00m, -\u001b[34m1\u001b[39;49;00m)\r\n",
      "    \r\n",
      "    data = torch.from_numpy(data_pack)\r\n",
      "    data = data.to(device)\r\n",
      "\r\n",
      "    \u001b[37m# Make sure to put the model into evaluation mode\u001b[39;49;00m\r\n",
      "    model.eval()\r\n",
      "\r\n",
      "    \u001b[37m# TODO: Compute the result of applying the model to the input data. The variable `result` should\u001b[39;49;00m\r\n",
      "    \u001b[37m#       be a numpy array which contains a single integer which is either 1 or 0\u001b[39;49;00m\r\n",
      "\r\n",
      "\r\n",
      "    output = model.forward(data)\r\n",
      "        \r\n",
      "    result = np.round(output.numpy()) \u001b[37m#rounds to 1 or 0\u001b[39;49;00m\r\n",
      "\r\n",
      "    \u001b[34mreturn\u001b[39;49;00m result\r\n"
     ]
    }
   ],
   "source": [
    "!pygmentize serve/predict.py"
   ]
  },
  {
   "cell_type": "markdown",
   "metadata": {},
   "source": [
    "As mentioned earlier, the `model_fn` method is the same as the one provided in the training code and the `input_fn` and `output_fn` methods are very simple and your task will be to complete the `predict_fn` method. Make sure that you save the completed file as `predict.py` in the `serve` directory.\n",
    "\n",
    "**TODO**: Complete the `predict_fn()` method in the `serve/predict.py` file."
   ]
  },
  {
   "cell_type": "markdown",
   "metadata": {},
   "source": [
    "### Deploying the model\n",
    "\n",
    "Now that the custom inference code has been written, we will create and deploy our model. To begin with, we need to construct a new PyTorchModel object which points to the model artifacts created during training and also points to the inference code that we wish to use. Then we can call the deploy method to launch the deployment container.\n",
    "\n",
    "**NOTE**: The default behaviour for a deployed PyTorch model is to assume that any input passed to the predictor is a `numpy` array. In our case we want to send a string so we need to construct a simple wrapper around the `RealTimePredictor` class to accomodate simple strings. In a more complicated situation you may want to provide a serialization object, for example if you wanted to sent image data."
   ]
  },
  {
   "cell_type": "code",
   "execution_count": 64,
   "metadata": {},
   "outputs": [
    {
     "name": "stderr",
     "output_type": "stream",
     "text": [
      "Parameter image will be renamed to image_uri in SageMaker Python SDK v2.\n",
      "'create_image_uri' will be deprecated in favor of 'ImageURIProvider' class in SageMaker Python SDK v2.\n"
     ]
    },
    {
     "name": "stdout",
     "output_type": "stream",
     "text": [
      "---------------!"
     ]
    }
   ],
   "source": [
    "from sagemaker.predictor import RealTimePredictor\n",
    "from sagemaker.pytorch import PyTorchModel\n",
    "\n",
    "class StringPredictor(RealTimePredictor):\n",
    "    def __init__(self, endpoint_name, sagemaker_session):\n",
    "        super(StringPredictor, self).__init__(endpoint_name, sagemaker_session, content_type='text/plain')\n",
    "\n",
    "model = PyTorchModel(model_data=estimator.model_data,\n",
    "                     role = role,\n",
    "                     framework_version='0.4.0',\n",
    "                     entry_point='predict.py',\n",
    "                     source_dir='serve',\n",
    "                     predictor_cls=StringPredictor)\n",
    "predictor = model.deploy(initial_instance_count=1, instance_type='ml.m4.xlarge')"
   ]
  },
  {
   "cell_type": "markdown",
   "metadata": {},
   "source": [
    "### Testing the model\n",
    "\n",
    "Now that we have deployed our model with the custom inference code, we should test to see if everything is working. Here we test our model by loading the first `250` positive and negative reviews and send them to the endpoint, then collect the results. The reason for only sending some of the data is that the amount of time it takes for our model to process the input and then perform inference is quite long and so testing the entire data set would be prohibitive."
   ]
  },
  {
   "cell_type": "code",
   "execution_count": 65,
   "metadata": {},
   "outputs": [],
   "source": [
    "import glob\n",
    "\n",
    "def test_reviews(data_dir='../data/aclImdb', stop=250):\n",
    "    \n",
    "    results = []\n",
    "    ground = []\n",
    "    \n",
    "    # We make sure to test both positive and negative reviews    \n",
    "    for sentiment in ['pos', 'neg']:\n",
    "        \n",
    "        path = os.path.join(data_dir, 'test', sentiment, '*.txt')\n",
    "        files = glob.glob(path)\n",
    "        \n",
    "        files_read = 0\n",
    "        \n",
    "        print('Starting ', sentiment, ' files')\n",
    "        \n",
    "        # Iterate through the files and send them to the predictor\n",
    "        for f in files:\n",
    "            with open(f) as review:\n",
    "                # First, we store the ground truth (was the review positive or negative)\n",
    "                if sentiment == 'pos':\n",
    "                    ground.append(1)\n",
    "                else:\n",
    "                    ground.append(0)\n",
    "                # Read in the review and convert to 'utf-8' for transmission via HTTP\n",
    "                review_input = review.read().encode('utf-8')\n",
    "                # Send the review to the predictor and store the results\n",
    "                results.append(float(predictor.predict(review_input)))\n",
    "                \n",
    "            # Sending reviews to our endpoint one at a time takes a while so we\n",
    "            # only send a small number of reviews\n",
    "            files_read += 1\n",
    "            if files_read == stop:\n",
    "                break\n",
    "            \n",
    "    return ground, results"
   ]
  },
  {
   "cell_type": "code",
   "execution_count": 66,
   "metadata": {},
   "outputs": [
    {
     "name": "stdout",
     "output_type": "stream",
     "text": [
      "Starting  pos  files\n",
      "Starting  neg  files\n"
     ]
    }
   ],
   "source": [
    "ground, results = test_reviews()"
   ]
  },
  {
   "cell_type": "code",
   "execution_count": 67,
   "metadata": {},
   "outputs": [
    {
     "data": {
      "text/plain": [
       "0.836"
      ]
     },
     "execution_count": 67,
     "metadata": {},
     "output_type": "execute_result"
    }
   ],
   "source": [
    "from sklearn.metrics import accuracy_score\n",
    "accuracy_score(ground, results)"
   ]
  },
  {
   "cell_type": "markdown",
   "metadata": {},
   "source": [
    "As an additional test, we can try sending the `test_review` that we looked at earlier."
   ]
  },
  {
   "cell_type": "code",
   "execution_count": 68,
   "metadata": {},
   "outputs": [
    {
     "data": {
      "text/plain": [
       "b'1.0'"
      ]
     },
     "execution_count": 68,
     "metadata": {},
     "output_type": "execute_result"
    }
   ],
   "source": [
    "predictor.predict(test_review)"
   ]
  },
  {
   "cell_type": "markdown",
   "metadata": {},
   "source": [
    "Now that we know our endpoint is working as expected, we can set up the web page that will interact with it. If you don't have time to finish the project now, make sure to skip down to the end of this notebook and shut down your endpoint. You can deploy it again when you come back."
   ]
  },
  {
   "cell_type": "markdown",
   "metadata": {},
   "source": [
    "## Step 7 (again): Use the model for the web app\n",
    "\n",
    "> **TODO:** This entire section and the next contain tasks for you to complete, mostly using the AWS console.\n",
    "\n",
    "So far we have been accessing our model endpoint by constructing a predictor object which uses the endpoint and then just using the predictor object to perform inference. What if we wanted to create a web app which accessed our model? The way things are set up currently makes that not possible since in order to access a SageMaker endpoint the app would first have to authenticate with AWS using an IAM role which included access to SageMaker endpoints. However, there is an easier way! We just need to use some additional AWS services.\n",
    "\n",
    "<img src=\"Web App Diagram.svg\">\n",
    "\n",
    "The diagram above gives an overview of how the various services will work together. On the far right is the model which we trained above and which is deployed using SageMaker. On the far left is our web app that collects a user's movie review, sends it off and expects a positive or negative sentiment in return.\n",
    "\n",
    "In the middle is where some of the magic happens. We will construct a Lambda function, which you can think of as a straightforward Python function that can be executed whenever a specified event occurs. We will give this function permission to send and recieve data from a SageMaker endpoint.\n",
    "\n",
    "Lastly, the method we will use to execute the Lambda function is a new endpoint that we will create using API Gateway. This endpoint will be a url that listens for data to be sent to it. Once it gets some data it will pass that data on to the Lambda function and then return whatever the Lambda function returns. Essentially it will act as an interface that lets our web app communicate with the Lambda function.\n",
    "\n",
    "### Setting up a Lambda function\n",
    "\n",
    "The first thing we are going to do is set up a Lambda function. This Lambda function will be executed whenever our public API has data sent to it. When it is executed it will receive the data, perform any sort of processing that is required, send the data (the review) to the SageMaker endpoint we've created and then return the result.\n",
    "\n",
    "#### Part A: Create an IAM Role for the Lambda function\n",
    "\n",
    "Since we want the Lambda function to call a SageMaker endpoint, we need to make sure that it has permission to do so. To do this, we will construct a role that we can later give the Lambda function.\n",
    "\n",
    "Using the AWS Console, navigate to the **IAM** page and click on **Roles**. Then, click on **Create role**. Make sure that the **AWS service** is the type of trusted entity selected and choose **Lambda** as the service that will use this role, then click **Next: Permissions**.\n",
    "\n",
    "In the search box type `sagemaker` and select the check box next to the **AmazonSageMakerFullAccess** policy. Then, click on **Next: Review**.\n",
    "\n",
    "Lastly, give this role a name. Make sure you use a name that you will remember later on, for example `LambdaSageMakerRole`. Then, click on **Create role**.\n",
    "\n",
    "#### Part B: Create a Lambda function\n",
    "\n",
    "Now it is time to actually create the Lambda function.\n",
    "\n",
    "Using the AWS Console, navigate to the AWS Lambda page and click on **Create a function**. When you get to the next page, make sure that **Author from scratch** is selected. Now, name your Lambda function, using a name that you will remember later on, for example `sentiment_analysis_func`. Make sure that the **Python 3.6** runtime is selected and then choose the role that you created in the previous part. Then, click on **Create Function**.\n",
    "\n",
    "On the next page you will see some information about the Lambda function you've just created. If you scroll down you should see an editor in which you can write the code that will be executed when your Lambda function is triggered. In our example, we will use the code below. \n",
    "\n",
    "```python\n",
    "# We need to use the low-level library to interact with SageMaker since the SageMaker API\n",
    "# is not available natively through Lambda.\n",
    "import boto3\n",
    "\n",
    "def lambda_handler(event, context):\n",
    "\n",
    "    # The SageMaker runtime is what allows us to invoke the endpoint that we've created.\n",
    "    runtime = boto3.Session().client('sagemaker-runtime')\n",
    "\n",
    "    # Now we use the SageMaker runtime to invoke our endpoint, sending the review we were given\n",
    "    response = runtime.invoke_endpoint(EndpointName = '**ENDPOINT NAME HERE**',    # The name of the endpoint we created\n",
    "                                       ContentType = 'text/plain',                 # The data format that is expected\n",
    "                                       Body = event['body'])                       # The actual review\n",
    "\n",
    "    # The response is an HTTP response whose body contains the result of our inference\n",
    "    result = response['Body'].read().decode('utf-8')\n",
    "\n",
    "    return {\n",
    "        'statusCode' : 200,\n",
    "        'headers' : { 'Content-Type' : 'text/plain', 'Access-Control-Allow-Origin' : '*' },\n",
    "        'body' : result\n",
    "    }\n",
    "```\n",
    "\n",
    "Once you have copy and pasted the code above into the Lambda code editor, replace the `**ENDPOINT NAME HERE**` portion with the name of the endpoint that we deployed earlier. You can determine the name of the endpoint using the code cell below."
   ]
  },
  {
   "cell_type": "code",
   "execution_count": 69,
   "metadata": {},
   "outputs": [
    {
     "data": {
      "text/plain": [
       "'sagemaker-pytorch-2021-01-26-05-45-10-896'"
      ]
     },
     "execution_count": 69,
     "metadata": {},
     "output_type": "execute_result"
    }
   ],
   "source": [
    "predictor.endpoint"
   ]
  },
  {
   "cell_type": "markdown",
   "metadata": {},
   "source": [
    "Once you have added the endpoint name to the Lambda function, click on **Save**. Your Lambda function is now up and running. Next we need to create a way for our web app to execute the Lambda function.\n",
    "\n",
    "### Setting up API Gateway\n",
    "\n",
    "Now that our Lambda function is set up, it is time to create a new API using API Gateway that will trigger the Lambda function we have just created.\n",
    "\n",
    "Using AWS Console, navigate to **Amazon API Gateway** and then click on **Get started**.\n",
    "\n",
    "On the next page, make sure that **New API** is selected and give the new api a name, for example, `sentiment_analysis_api`. Then, click on **Create API**.\n",
    "\n",
    "Now we have created an API, however it doesn't currently do anything. What we want it to do is to trigger the Lambda function that we created earlier.\n",
    "\n",
    "Select the **Actions** dropdown menu and click **Create Method**. A new blank method will be created, select its dropdown menu and select **POST**, then click on the check mark beside it.\n",
    "\n",
    "For the integration point, make sure that **Lambda Function** is selected and click on the **Use Lambda Proxy integration**. This option makes sure that the data that is sent to the API is then sent directly to the Lambda function with no processing. It also means that the return value must be a proper response object as it will also not be processed by API Gateway.\n",
    "\n",
    "Type the name of the Lambda function you created earlier into the **Lambda Function** text entry box and then click on **Save**. Click on **OK** in the pop-up box that then appears, giving permission to API Gateway to invoke the Lambda function you created.\n",
    "\n",
    "The last step in creating the API Gateway is to select the **Actions** dropdown and click on **Deploy API**. You will need to create a new Deployment stage and name it anything you like, for example `prod`.\n",
    "\n",
    "You have now successfully set up a public API to access your SageMaker model. Make sure to copy or write down the URL provided to invoke your newly created public API as this will be needed in the next step. This URL can be found at the top of the page, highlighted in blue next to the text **Invoke URL**."
   ]
  },
  {
   "cell_type": "markdown",
   "metadata": {},
   "source": [
    "## Step 4: Deploying our web app\n",
    "\n",
    "Now that we have a publicly available API, we can start using it in a web app. For our purposes, we have provided a simple static html file which can make use of the public api you created earlier.\n",
    "\n",
    "In the `website` folder there should be a file called `index.html`. Download the file to your computer and open that file up in a text editor of your choice. There should be a line which contains **\\*\\*REPLACE WITH PUBLIC API URL\\*\\***. Replace this string with the url that you wrote down in the last step and then save the file.\n",
    "\n",
    "Now, if you open `index.html` on your local computer, your browser will behave as a local web server and you can use the provided site to interact with your SageMaker model.\n",
    "\n",
    "If you'd like to go further, you can host this html file anywhere you'd like, for example using github or hosting a static site on Amazon's S3. Once you have done this you can share the link with anyone you'd like and have them play with it too!\n",
    "\n",
    "> **Important Note** In order for the web app to communicate with the SageMaker endpoint, the endpoint has to actually be deployed and running. This means that you are paying for it. Make sure that the endpoint is running when you want to use the web app but that you shut it down when you don't need it, otherwise you will end up with a surprisingly large AWS bill.\n",
    "\n",
    "**TODO:** Make sure that you include the edited `index.html` file in your project submission."
   ]
  },
  {
   "cell_type": "markdown",
   "metadata": {},
   "source": [
    "Now that your web app is working, trying playing around with it and see how well it works.\n",
    "\n",
    "**Question**: Give an example of a review that you entered into your web app. What was the predicted sentiment of your example review?"
   ]
  },
  {
   "cell_type": "markdown",
   "metadata": {},
   "source": [
    "**Answer:** \n",
    "Review:\n",
    "Tarantino is without a doubt one of the best directors of all time and maybe the best of the 90's. His first film, Reservoir Dogs was amazing and claustrophobic, his segment in Four Rooms was by far the greatest (even though Rodriguez's was excellent too)and Jackie Brown is a wonderful homage to the Blaxploitation films of the 70's. However, Pulp Fiction remains my favourite.\n",
    "\n",
    "It was nominated for so many Oscars that I still find it hard to believe that it only got one: Best original script. I'm not complaining because Forrest Gump got best picture, since that film was also Oscar-worthy, but come on, movies like Tarantino's or the Shawshank Redemption deserved much more.\n",
    "\n",
    "Anyway, going back to the movie, I particularly liked the first and second chapters, and that's really a contradiction because one of the movie's finest characters, Mr. Wolf, appears on the third. Bruce Willis also does a great job, and as far as I'm concerned he fell in love with the movie right after having read the script. I like the way his character gives a \"tough guy\" image at the beginning and then we discover he's so affectionate and tender to his wife. Travolta is obviously the star of the movie and his second encounter with Bruce Willis in the kitchen along with the scene where he dances with Uma Thurman is when the movie reaches it's highest point.\n",
    "\n",
    "The other star is Samuel L. Jackson, who plays a wise assassin that obviously knows how to handle situations. \"And I will strike down upon thee with great vengeance and furious anger...\" is my favourite quote.\n",
    "\n",
    "Summarizing, Pulp Fiction is a modern classic and a must-see for anyone who is at least aware of what a movie is. I give it a 9 out of 10.\n",
    "\n",
    "Predicted sentiment: Positive"
   ]
  },
  {
   "cell_type": "markdown",
   "metadata": {},
   "source": [
    "### Delete the endpoint\n",
    "\n",
    "Remember to always shut down your endpoint if you are no longer using it. You are charged for the length of time that the endpoint is running so if you forget and leave it on you could end up with an unexpectedly large bill."
   ]
  },
  {
   "cell_type": "code",
   "execution_count": 70,
   "metadata": {},
   "outputs": [],
   "source": [
    "predictor.delete_endpoint()"
   ]
  },
  {
   "cell_type": "code",
   "execution_count": null,
   "metadata": {},
   "outputs": [],
   "source": []
  }
 ],
 "metadata": {
  "kernelspec": {
   "display_name": "conda_pytorch_p36",
   "language": "python",
   "name": "conda_pytorch_p36"
  },
  "language_info": {
   "codemirror_mode": {
    "name": "ipython",
    "version": 3
   },
   "file_extension": ".py",
   "mimetype": "text/x-python",
   "name": "python",
   "nbconvert_exporter": "python",
   "pygments_lexer": "ipython3",
   "version": "3.6.10"
  }
 },
 "nbformat": 4,
 "nbformat_minor": 2
}
